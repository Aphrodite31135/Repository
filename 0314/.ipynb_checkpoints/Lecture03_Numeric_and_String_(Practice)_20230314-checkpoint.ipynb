{
 "cells": [
  {
   "cell_type": "markdown",
   "id": "eca126bb",
   "metadata": {},
   "source": [
    "# Numeric and String Types"
   ]
  },
  {
   "cell_type": "markdown",
   "id": "d3950266",
   "metadata": {},
   "source": [
    "## Numeric Types (int and float)"
   ]
  },
  {
   "cell_type": "markdown",
   "id": "bb1bd858",
   "metadata": {},
   "source": [
    "### Implicit Type Conversion"
   ]
  },
  {
   "cell_type": "markdown",
   "id": "38411ed8",
   "metadata": {},
   "source": [
    "- What is a result type of ``int`` <i>operators (+, -, *, /, ...)</i>  ``float``?\n",
    "\n",
    "1) Create variable ``result1`` and assign an expression of 1 + 2.0 (``int`` + ``float``).\n",
    "\n",
    "2) Create variable ``result2`` and assign an expression of 2 - 3.0 (``int`` - ``float``).\n",
    "\n",
    "3) Create variable ``result3`` and assign an expression of 3 / 4.0 (``int`` / ``float``).\n",
    "\n",
    "4) Create variable ``result4`` and assign an expression of 4 * 5.0 (``int`` * ``float``).\n",
    "\n",
    "5) Then, print values and types of the four variables (``result1``, ``result2``, ``result3``, and ``result4``) using ``print()`` and ``type()``."
   ]
  },
  {
   "cell_type": "code",
   "execution_count": 2,
   "id": "94ebccef",
   "metadata": {},
   "outputs": [
    {
     "name": "stdout",
     "output_type": "stream",
     "text": [
      "3.0 <class 'float'>\n",
      "-1.0 <class 'float'>\n",
      "0.75 <class 'float'>\n",
      "20.0 <class 'float'>\n"
     ]
    }
   ],
   "source": [
    "# Write a code here\n",
    "\n",
    "result1 = 1 + 2.0\n",
    "result2 = 2-3.0\n",
    "result3 = 3/4.0\n",
    "result4 = 4*5.0\n",
    "\n",
    "print(result1, type(result1))\n",
    "print(result2, type(result2))\n",
    "print(result3, type(result3))\n",
    "print(result4, type(result4))"
   ]
  },
  {
   "cell_type": "markdown",
   "id": "3bcafc60",
   "metadata": {},
   "source": [
    "### Explicit Type Conversion"
   ]
  },
  {
   "cell_type": "markdown",
   "id": "54b239f6",
   "metadata": {},
   "source": [
    "Please run the following code and see what happen."
   ]
  },
  {
   "cell_type": "code",
   "execution_count": 3,
   "id": "3830dea9",
   "metadata": {},
   "outputs": [
    {
     "name": "stdout",
     "output_type": "stream",
     "text": [
      "3.14 <class 'str'>\n"
     ]
    },
    {
     "ename": "ValueError",
     "evalue": "invalid literal for int() with base 10: '3.14'",
     "output_type": "error",
     "traceback": [
      "\u001b[1;31m---------------------------------------------------------------------------\u001b[0m",
      "\u001b[1;31mValueError\u001b[0m                                Traceback (most recent call last)",
      "\u001b[1;32m~\\AppData\\Local\\Temp\\ipykernel_2580\\1959788440.py\u001b[0m in \u001b[0;36m<module>\u001b[1;34m\u001b[0m\n\u001b[0;32m      3\u001b[0m \u001b[0ma\u001b[0m \u001b[1;33m=\u001b[0m \u001b[1;34m'3.14'\u001b[0m\u001b[1;33m\u001b[0m\u001b[1;33m\u001b[0m\u001b[0m\n\u001b[0;32m      4\u001b[0m \u001b[0mprint\u001b[0m\u001b[1;33m(\u001b[0m\u001b[0ma\u001b[0m\u001b[1;33m,\u001b[0m \u001b[0mtype\u001b[0m\u001b[1;33m(\u001b[0m\u001b[0ma\u001b[0m\u001b[1;33m)\u001b[0m\u001b[1;33m)\u001b[0m\u001b[1;33m\u001b[0m\u001b[1;33m\u001b[0m\u001b[0m\n\u001b[1;32m----> 5\u001b[1;33m \u001b[0ma\u001b[0m \u001b[1;33m=\u001b[0m \u001b[0mint\u001b[0m\u001b[1;33m(\u001b[0m\u001b[0ma\u001b[0m\u001b[1;33m)\u001b[0m  \u001b[1;31m# to convert the value type from str to int\u001b[0m\u001b[1;33m\u001b[0m\u001b[1;33m\u001b[0m\u001b[0m\n\u001b[0m\u001b[0;32m      6\u001b[0m \u001b[0mprint\u001b[0m\u001b[1;33m(\u001b[0m\u001b[0ma\u001b[0m\u001b[1;33m,\u001b[0m \u001b[0mtype\u001b[0m\u001b[1;33m(\u001b[0m\u001b[0ma\u001b[0m\u001b[1;33m)\u001b[0m\u001b[1;33m)\u001b[0m\u001b[1;33m\u001b[0m\u001b[1;33m\u001b[0m\u001b[0m\n",
      "\u001b[1;31mValueError\u001b[0m: invalid literal for int() with base 10: '3.14'"
     ]
    }
   ],
   "source": [
    "# Run the folloowing code.\n",
    "\n",
    "a = '3.14'\n",
    "print(a, type(a))\n",
    "a = int(a)  # to convert the value type from str to int\n",
    "print(a, type(a))"
   ]
  },
  {
   "cell_type": "markdown",
   "id": "56d5bb1a",
   "metadata": {},
   "source": [
    "- To solve the problem above, how can you convert the type of variable ``a``, from ``str`` to ``int`` so that its value can become integer 3? Please write a code below and print ``a``."
   ]
  },
  {
   "cell_type": "code",
   "execution_count": 4,
   "id": "45e21b69",
   "metadata": {},
   "outputs": [
    {
     "name": "stdout",
     "output_type": "stream",
     "text": [
      "3.14 <class 'str'>\n",
      "3 <class 'int'>\n"
     ]
    }
   ],
   "source": [
    "# Write a code here\n",
    "\n",
    "a = '3.14'\n",
    "print(a, type(a))\n",
    "a = float(a)\n",
    "a = int(a)\n",
    "print(a, type(a))"
   ]
  },
  {
   "cell_type": "markdown",
   "id": "b0933e2c",
   "metadata": {},
   "source": [
    "### Rounding error"
   ]
  },
  {
   "cell_type": "markdown",
   "id": "900c6f2b",
   "metadata": {},
   "source": [
    "In Python, 0.1 + 0.2 is not exactly 0.3.\n",
    "```\n",
    ">>> a = 0.1 + 0.2\n",
    ">>> print(a)\n",
    "0.30000000000000004\n",
    "```\n",
    "\n",
    "However, 0.1 + 0.1 is exactly 0.2.\n",
    "```\n",
    ">>> b = 0.1 + 0.1\n",
    ">>> print(b)\n",
    "0.2\n",
    "```\n",
    "\n",
    "Using comparision operator ``==``, please check if (0.1 + 0.2) is 0.3 and (0.1 + 0.1) is 0.2 "
   ]
  },
  {
   "cell_type": "code",
   "execution_count": 5,
   "id": "59525a0a",
   "metadata": {},
   "outputs": [
    {
     "name": "stdout",
     "output_type": "stream",
     "text": [
      "False\n",
      "0.2\n"
     ]
    }
   ],
   "source": [
    "# Write a code here\n",
    "\n",
    "a = 0.1 + 0.2\n",
    "print(a==0.3)\n",
    "\n",
    "b = 0.1 + 0.1\n",
    "print (b)\n"
   ]
  },
  {
   "cell_type": "markdown",
   "id": "a50d8376",
   "metadata": {},
   "source": [
    "## Text Sequence Type (str)"
   ]
  },
  {
   "cell_type": "markdown",
   "id": "c68b04a7",
   "metadata": {},
   "source": [
    "### Creating str variables"
   ]
  },
  {
   "cell_type": "markdown",
   "id": "f2d3a3ff",
   "metadata": {},
   "source": [
    "You can create a str variable using single quotes (' and '), double quotes(\" and \"), and triple quotes (''' and ''', \"\"\" and \"\"\").\n",
    "\n",
    "1) Create variable ``s1`` and assign any text you want using single quotes.\n",
    "\n",
    "2) Create variable ``s2`` and assign any text you want using single quotes.\n",
    "\n",
    "3) Create variable ``s3`` and assign any text you want using three single quotes.\n",
    "\n",
    "4) Create variable ``s4`` and assign any text you want using three double quotes.\n",
    "\n",
    "5) Then, print the four variables, ``s1``, ``s2``, ``s3``, and ``s4``.\n"
   ]
  },
  {
   "cell_type": "code",
   "execution_count": 6,
   "id": "32e5cee6",
   "metadata": {},
   "outputs": [
    {
     "name": "stdout",
     "output_type": "stream",
     "text": [
      "and\n",
      "and\n",
      "and\n",
      "and\n"
     ]
    }
   ],
   "source": [
    "# Write a code here\n",
    "\n",
    "s1 = 'and'\n",
    "s2 = \"and\"\n",
    "s3 = '''and'''\n",
    "s4 =  \"\"\"and\"\"\"\n",
    "\n",
    "print(s1)\n",
    "print(s2)\n",
    "print(s3)\n",
    "print(s4)"
   ]
  },
  {
   "cell_type": "markdown",
   "id": "4a89e484",
   "metadata": {},
   "source": [
    "### Concatenation"
   ]
  },
  {
   "cell_type": "markdown",
   "id": "c7261f62",
   "metadata": {},
   "source": [
    "``+`` operator is supported for string values. \n",
    "\n",
    "1) Create variable ``a`` and assign a string value, ``Hello``.\n",
    "\n",
    "2) Create variable ``b`` and assign a string value,  ``World``.\n",
    "\n",
    "3) Create variable ``c`` and assign ``Hello World!`` using variables ``a``, ``b`` and ``+`` operator.\n",
    "\n",
    "4) Then, print variable ``c``."
   ]
  },
  {
   "cell_type": "code",
   "execution_count": 8,
   "id": "f70e777f",
   "metadata": {},
   "outputs": [
    {
     "name": "stdout",
     "output_type": "stream",
     "text": [
      "Hello World\n"
     ]
    }
   ],
   "source": [
    "# Write a code here\n",
    "\n",
    "a = \"Hello\"\n",
    "b = 'World'\n",
    "c = a + \" \" + b\n",
    "\n",
    "print(c)\n"
   ]
  },
  {
   "cell_type": "markdown",
   "id": "874b4b71",
   "metadata": {},
   "source": [
    "### Repeat"
   ]
  },
  {
   "cell_type": "markdown",
   "id": "fe6a4c5a",
   "metadata": {},
   "source": [
    "``*`` operator is supported for string values. \n",
    "\n",
    "1) Create variable ``a`` and assign a string value, ``Hello``.\n",
    "\n",
    "2) Create variable ``b`` and assign a string value, ``World``.\n",
    "\n",
    "3) Then, print ``HelloHello`` and ``WorldWorldWorld`` using variables ``a``, ``b``, and ``*`` operator"
   ]
  },
  {
   "cell_type": "code",
   "execution_count": 9,
   "id": "0f4a795a",
   "metadata": {},
   "outputs": [
    {
     "name": "stdout",
     "output_type": "stream",
     "text": [
      "HelloHello\n",
      "WorldWorldWorld\n"
     ]
    }
   ],
   "source": [
    "# Write a code here\n",
    "\n",
    "a = \"Hello\"\n",
    "b =  \"World\"\n",
    "\n",
    "print(a*2)\n",
    "print(b*3)\n"
   ]
  },
  {
   "cell_type": "markdown",
   "id": "e3c02299",
   "metadata": {},
   "source": [
    "### Escaping"
   ]
  },
  {
   "cell_type": "markdown",
   "id": "e5ca5057",
   "metadata": {},
   "source": [
    "| Escape Characters | Descriptions |\n",
    "| :-: | :-: |\n",
    "| \\\\\\' | Single quote |\n",
    "| \\\\\\\" | Double quote |\n",
    "| \\\\\\\\ | Backslash |\n",
    "| \\n | Newline |\n",
    "| \\t | Tab |\n",
    "| \\r | Carriage return | \n",
    "\n",
    "Please create variables to see how these ``escape characters`` work, as follows:\n",
    "\n",
    "1) Please create a variable ``str1`` and assign a string, ``It's my life.``, using single quotes (' and ').\n",
    "\n",
    "2) Please create a variable ``str2`` and assign a string, ``My name is \"Hong Gil-Dong\"``, using double quotes(\" and \").\n",
    "\n",
    "3) Please create a variable ``str3`` and assign any string with ``\\\\``.\n",
    "\n",
    "4) Please create a variable ``str4`` and assign any string with ``\\n``\n",
    "\n",
    "5) Please create a variable ``str5`` and assign any string with ``\\t``.\n",
    "\n",
    "6) Please create a variable ``str6`` and assign any string with ``\\r``.\n",
    "\n",
    "Then, print the all the variables and see the results."
   ]
  },
  {
   "cell_type": "code",
   "execution_count": 13,
   "id": "95597636",
   "metadata": {
    "scrolled": true
   },
   "outputs": [
    {
     "name": "stdout",
     "output_type": "stream",
     "text": [
      "It's my life.\n",
      "My name is \"Hong Gil-Dong\"\n",
      "a \\ b\n",
      "c \n",
      " d\n",
      "e \t f\n",
      "g \r",
      " h i\n"
     ]
    }
   ],
   "source": [
    "# Write a code here\n",
    "\n",
    "str1 = 'It\\'s my life.'\n",
    "str2 = \"My name is \\\"Hong Gil-Dong\\\"\"\n",
    "str3 = 'a \\\\ b'\n",
    "str4 = 'c \\n d'\n",
    "str5 = \"e \\t f\"\n",
    "str6 = \"g \\r h i\"\n",
    "\n",
    "print(str1)\n",
    "print(str2)\n",
    "print(str3)\n",
    "print(str4)\n",
    "print(str5)\n",
    "print(str6)"
   ]
  },
  {
   "cell_type": "markdown",
   "id": "910f9b31",
   "metadata": {},
   "source": [
    "## Index"
   ]
  },
  {
   "cell_type": "markdown",
   "id": "f8278aa7",
   "metadata": {},
   "source": [
    "You can access each character of a string variable using index numbers.\n",
    "\n",
    "1) Please create a variable ``s`` and assign a string, ``Hello World``.\n",
    "\n",
    "2) Print a length of the variable ``s``, using ``len()``.\n",
    "\n",
    "3) Print ``H`` and ``W`` using postive indexes.\n",
    "\n",
    "4) Print ``e`` and ``d`` using negative indexes."
   ]
  },
  {
   "cell_type": "code",
   "execution_count": 16,
   "id": "0240ac3e",
   "metadata": {},
   "outputs": [
    {
     "name": "stdout",
     "output_type": "stream",
     "text": [
      "11\n",
      "H W\n",
      "H d\n"
     ]
    }
   ],
   "source": [
    "# Write a code here\n",
    "\n",
    "s = \"Hello World\"\n",
    "\n",
    "print(len(s))\n",
    "print(s[0], s[6])\n",
    "print(s[-11], s[-1])"
   ]
  },
  {
   "cell_type": "markdown",
   "id": "0fcff94e",
   "metadata": {},
   "source": [
    "### Slicing"
   ]
  },
  {
   "cell_type": "markdown",
   "id": "de539736",
   "metadata": {},
   "source": [
    "You can get sub-string by slicing.\n",
    "\n",
    "1) Please create a variable ``s`` and assign a string, ``Hello World``.\n",
    "\n",
    "2) Print ``ello`` using postive indexes.\n",
    "\n",
    "3) Print ``Worl`` using negative indexes.\n",
    "\n",
    "4) Print ``Hello`` using only <i>end</i> index, but no <i>start</i> index.\n",
    "\n",
    "5) Print ``World`` using only <i>start</i> index, but no <i>end</i> index.\n",
    "\n",
    "6) Print ``s[-5:2]`` and think about why it printed.\n",
    "\n",
    "7) Print ``s[0:999]`` and think about why it printed.\n",
    "\n",
    "8) Print ``s[::2]`` and think about why it printed.\n",
    "\n",
    "9) Print ``s[::-2]`` and think about why it printed.\n",
    "\n",
    "10) Print ``s[1:len(s)]`` and think about why it printed."
   ]
  },
  {
   "cell_type": "code",
   "execution_count": 17,
   "id": "895c7e09",
   "metadata": {},
   "outputs": [
    {
     "name": "stdout",
     "output_type": "stream",
     "text": [
      "ell\n",
      "Worl\n",
      "Hell\n",
      "World\n",
      "\n",
      "Hello World\n",
      "HloWrd\n",
      "drWolH\n",
      "ello World\n"
     ]
    }
   ],
   "source": [
    "# Write a code here\n",
    "\n",
    "s = \"Hello World\"\n",
    "\n",
    "print(s[1:4])  # ello\n",
    "print(s[6:10])  # Worl\n",
    "print(s[:4])  # Hello\n",
    "print(s[6:])  # World\n",
    "print(s[-5:2])\n",
    "print(s[0:999])\n",
    "print(s[::2])\n",
    "print(s[::-2])\n",
    "print(s[1:len(s)])"
   ]
  },
  {
   "cell_type": "markdown",
   "id": "fc9db6ec",
   "metadata": {},
   "source": [
    "### Built-in methods for `str` type"
   ]
  },
  {
   "cell_type": "markdown",
   "id": "df85c4eb",
   "metadata": {},
   "source": [
    "There are numerous built-in methods for str type variables. The following table is for representative methods.\n",
    "\n",
    "| Method | Description |\n",
    "| :- | :- |\n",
    "| str.upper() | Return a copy of the string with all the cased characters converted to uppercase. |\n",
    "| str.lower() | Return a copy of the string with all the cased characters converted to lowercase. |\n",
    "| str.isupper() | Returns True if all characters in the string are upper case, False otherwise. |\n",
    "| str.islower() | Returns True if all characters in the string are lower case, False otherwise. |\n",
    "| str.count('x') | Return the number of non-overlapping occurrences of substring sub (in the range [start, end] if specified). |\n",
    "| str.find('x') | Return the lowest index in the string where substring sub is found (within the range [start, end] if specified). | \n",
    "| str.isalnum() | Return True if all characters in the string are alphanumeric and there is at least one character, False otherwise | \n",
    "| str.isalpha() | Return True if all characters in the string are alphabetic and there is at least one character, False otherwise | \n",
    "| str.isdigit() | Return True if all characters in the string are digits and there is at least one character, False otherwise | \n",
    "| str.strip() | Return a copy of the string with the leading and trailing spaces. If the set of characters are specified, any leading and trailing characters are removed. | \n",
    "\n",
    "- https://www.w3schools.com/python/python_ref_string.asp\n",
    "\n",
    "- https://docs.python.org/3/library/stdtypes.html#string-methods"
   ]
  },
  {
   "cell_type": "markdown",
   "id": "ae5a064b",
   "metadata": {},
   "source": [
    "There are many built-in methods for str type. Please try to use all the methods in the table.\n",
    "\n",
    "1) Create a variable ``s1`` and assign any string value using ``input()``.\n",
    "\n",
    "2) Then, print ``str.upper(s1)`` and see what printed.\n",
    "\n",
    "3) Create a variable ``s2`` and assign any string value usign ``input()``.\n",
    "\n",
    "4) then, print ``str.lower(s2)`` and see what printed.\n",
    "\n",
    "...Try to run the rest of methods.\n",
    "\n",
    "**If possible, try to run other methods that are not mentioned in the table. Please see the URLs.**"
   ]
  },
  {
   "cell_type": "code",
   "execution_count": 18,
   "id": "02e2c6b9",
   "metadata": {},
   "outputs": [
    {
     "name": "stdout",
     "output_type": "stream",
     "text": [
      "qwer\n",
      "qwer HELLO WORLD\n",
      "asdf\n",
      "asdf hello world\n"
     ]
    },
    {
     "data": {
      "text/plain": [
       "Ellipsis"
      ]
     },
     "execution_count": 18,
     "metadata": {},
     "output_type": "execute_result"
    }
   ],
   "source": [
    "# Write a code here\n",
    "\n",
    "s1 = input()\n",
    "print(s1, s.upper())\n",
    "\n",
    "s2 = input()\n",
    "print(s2, s.lower())\n",
    "\n",
    "..."
   ]
  },
  {
   "cell_type": "markdown",
   "id": "d925c54b",
   "metadata": {},
   "source": [
    "## How does assignment work?"
   ]
  },
  {
   "cell_type": "markdown",
   "id": "e0903046",
   "metadata": {},
   "source": [
    "We can check memory addresses of variables using ``id()``."
   ]
  },
  {
   "cell_type": "markdown",
   "id": "704e6fe4",
   "metadata": {},
   "source": [
    "Please print values and memory addresses of the variables ``a``, ``b``, and ``c`` below.\n",
    "\n",
    "Then, think about why the results are printed."
   ]
  },
  {
   "cell_type": "code",
   "execution_count": null,
   "id": "7ebd347a",
   "metadata": {},
   "outputs": [],
   "source": [
    "a = 999\n",
    "b = a\n",
    "c = 999\n",
    "\n",
    "print(a, id(a))\n",
    "print(b, id(b))\n",
    "print(c, id(c))"
   ]
  },
  {
   "cell_type": "markdown",
   "id": "645fd962",
   "metadata": {},
   "source": [
    "please print values and memory addresses of the variables ``a``, ``b``, and ``c`` below.\n",
    "\n",
    "Then, think about why the results are printed."
   ]
  },
  {
   "cell_type": "code",
   "execution_count": null,
   "id": "a9cfb55a",
   "metadata": {},
   "outputs": [],
   "source": [
    "a = 'Hello!'\n",
    "b = a\n",
    "c = 'Hello!'\n",
    "\n",
    "print(a, id(a))\n",
    "print(b, id(b))\n",
    "print(c, id(c))"
   ]
  }
 ],
 "metadata": {
  "kernelspec": {
   "display_name": "Python 3 (ipykernel)",
   "language": "python",
   "name": "python3"
  },
  "language_info": {
   "codemirror_mode": {
    "name": "ipython",
    "version": 3
   },
   "file_extension": ".py",
   "mimetype": "text/x-python",
   "name": "python",
   "nbconvert_exporter": "python",
   "pygments_lexer": "ipython3",
   "version": "3.9.13"
  }
 },
 "nbformat": 4,
 "nbformat_minor": 5
}
