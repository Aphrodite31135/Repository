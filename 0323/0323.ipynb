{
 "cells": [
  {
   "cell_type": "code",
   "execution_count": 9,
   "id": "53ba3464",
   "metadata": {},
   "outputs": [
    {
     "name": "stdout",
     "output_type": "stream",
     "text": [
      "9223372036854775807\n",
      "<class 'int'>\n",
      "True\n"
     ]
    }
   ],
   "source": [
    "import sys\n",
    "print(sys.maxsize) # 9,223,372,036,854,775,807\n",
    "print(type(sys.maxsize)) # <class 'int'>\n",
    "print(sys.maxsize == 2**63 - 1) # True"
   ]
  },
  {
   "cell_type": "code",
   "execution_count": null,
   "id": "93955ddc",
   "metadata": {},
   "outputs": [],
   "source": []
  }
 ],
 "metadata": {
  "kernelspec": {
   "display_name": "Python 3 (ipykernel)",
   "language": "python",
   "name": "python3"
  },
  "language_info": {
   "codemirror_mode": {
    "name": "ipython",
    "version": 3
   },
   "file_extension": ".py",
   "mimetype": "text/x-python",
   "name": "python",
   "nbconvert_exporter": "python",
   "pygments_lexer": "ipython3",
   "version": "3.9.13"
  }
 },
 "nbformat": 4,
 "nbformat_minor": 5
}
