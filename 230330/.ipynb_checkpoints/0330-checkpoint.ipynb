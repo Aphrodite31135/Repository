{
 "cells": [
  {
   "cell_type": "code",
   "execution_count": 15,
   "id": "221759f1",
   "metadata": {},
   "outputs": [
    {
     "name": "stdout",
     "output_type": "stream",
     "text": [
      "park\n",
      "kim\n",
      "lee\n",
      "hong\n",
      "kang\n",
      "kang\n"
     ]
    }
   ],
   "source": [
    "students=['park','kim','lee','hong','kang']\n",
    "for students in students :\n",
    "    print(students)\n",
    "print(students)"
   ]
  },
  {
   "cell_type": "code",
   "execution_count": 16,
   "id": "7dc377af",
   "metadata": {},
   "outputs": [
    {
     "name": "stdout",
     "output_type": "stream",
     "text": [
      "P\n",
      "Y\n",
      "T\n",
      "H\n",
      "O\n",
      "N\n"
     ]
    }
   ],
   "source": [
    "string='Python'\n",
    "for char in string :\n",
    "    char = char.upper()\n",
    "    print (char)"
   ]
  },
  {
   "cell_type": "code",
   "execution_count": 5,
   "id": "9db24511",
   "metadata": {},
   "outputs": [
    {
     "name": "stdout",
     "output_type": "stream",
     "text": [
      "('park', 1)\n",
      "('kim', 2)\n",
      "('lee', 3)\n",
      "('lee', 3)\n"
     ]
    }
   ],
   "source": [
    "std_no={'park':1, 'kim':2, 'lee':3}\n",
    "for item in std_no.items() :\n",
    "    print(item)\n",
    "print(item)"
   ]
  },
  {
   "cell_type": "code",
   "execution_count": 6,
   "id": "3c5f00bb",
   "metadata": {},
   "outputs": [
    {
     "name": "stdout",
     "output_type": "stream",
     "text": [
      "1 2 3\n",
      "3 4 5\n",
      "5 6 7\n"
     ]
    },
    {
     "ename": "ValueError",
     "evalue": "too many values to unpack (expected 2)",
     "output_type": "error",
     "traceback": [
      "\u001b[1;31m---------------------------------------------------------------------------\u001b[0m",
      "\u001b[1;31mValueError\u001b[0m                                Traceback (most recent call last)",
      "\u001b[1;32m~\\AppData\\Local\\Temp\\ipykernel_1104\\3707604751.py\u001b[0m in \u001b[0;36m<module>\u001b[1;34m\u001b[0m\n\u001b[0;32m      1\u001b[0m \u001b[1;32mfor\u001b[0m \u001b[0ma\u001b[0m\u001b[1;33m,\u001b[0m \u001b[0mb\u001b[0m\u001b[1;33m,\u001b[0m \u001b[0mc\u001b[0m \u001b[1;32min\u001b[0m \u001b[1;33m[\u001b[0m\u001b[1;33m(\u001b[0m\u001b[1;36m1\u001b[0m\u001b[1;33m,\u001b[0m\u001b[1;36m2\u001b[0m\u001b[1;33m,\u001b[0m\u001b[1;36m3\u001b[0m\u001b[1;33m)\u001b[0m\u001b[1;33m,\u001b[0m\u001b[1;33m(\u001b[0m\u001b[1;36m3\u001b[0m\u001b[1;33m,\u001b[0m\u001b[1;36m4\u001b[0m\u001b[1;33m,\u001b[0m\u001b[1;36m5\u001b[0m\u001b[1;33m)\u001b[0m\u001b[1;33m,\u001b[0m\u001b[1;33m(\u001b[0m\u001b[1;36m5\u001b[0m\u001b[1;33m,\u001b[0m\u001b[1;36m6\u001b[0m\u001b[1;33m,\u001b[0m\u001b[1;36m7\u001b[0m\u001b[1;33m)\u001b[0m\u001b[1;33m]\u001b[0m \u001b[1;33m:\u001b[0m\u001b[1;33m\u001b[0m\u001b[1;33m\u001b[0m\u001b[0m\n\u001b[0;32m      2\u001b[0m     \u001b[0mprint\u001b[0m \u001b[1;33m(\u001b[0m\u001b[0ma\u001b[0m\u001b[1;33m,\u001b[0m\u001b[0mb\u001b[0m\u001b[1;33m,\u001b[0m\u001b[0mc\u001b[0m\u001b[1;33m)\u001b[0m\u001b[1;33m\u001b[0m\u001b[1;33m\u001b[0m\u001b[0m\n\u001b[1;32m----> 3\u001b[1;33m \u001b[1;32mfor\u001b[0m \u001b[0ma\u001b[0m\u001b[1;33m,\u001b[0m \u001b[0mb\u001b[0m \u001b[1;32min\u001b[0m \u001b[1;33m[\u001b[0m\u001b[1;33m(\u001b[0m\u001b[1;36m1\u001b[0m\u001b[1;33m,\u001b[0m\u001b[1;36m2\u001b[0m\u001b[1;33m,\u001b[0m\u001b[1;36m3\u001b[0m\u001b[1;33m)\u001b[0m\u001b[1;33m,\u001b[0m\u001b[1;33m(\u001b[0m\u001b[1;36m3\u001b[0m\u001b[1;33m,\u001b[0m\u001b[1;36m4\u001b[0m\u001b[1;33m,\u001b[0m\u001b[1;36m5\u001b[0m\u001b[1;33m)\u001b[0m\u001b[1;33m,\u001b[0m\u001b[1;33m(\u001b[0m\u001b[1;36m5\u001b[0m\u001b[1;33m,\u001b[0m\u001b[1;36m6\u001b[0m\u001b[1;33m,\u001b[0m\u001b[1;36m7\u001b[0m\u001b[1;33m)\u001b[0m\u001b[1;33m]\u001b[0m \u001b[1;33m:\u001b[0m\u001b[1;33m\u001b[0m\u001b[1;33m\u001b[0m\u001b[0m\n\u001b[0m\u001b[0;32m      4\u001b[0m     \u001b[0mprint\u001b[0m \u001b[1;33m(\u001b[0m\u001b[0ma\u001b[0m\u001b[1;33m,\u001b[0m\u001b[0mb\u001b[0m\u001b[1;33m)\u001b[0m\u001b[1;33m\u001b[0m\u001b[1;33m\u001b[0m\u001b[0m\n",
      "\u001b[1;31mValueError\u001b[0m: too many values to unpack (expected 2)"
     ]
    }
   ],
   "source": [
    "for a, b, c in [(1,2,3),(3,4,5),(5,6,7)] :\n",
    "    print (a,b,c)\n",
    "for a, b in [(1,2,3),(3,4,5),(5,6,7)] :\n",
    "    print (a,b)"
   ]
  },
  {
   "cell_type": "code",
   "execution_count": 7,
   "id": "c2f5bb0e",
   "metadata": {},
   "outputs": [
    {
     "name": "stdout",
     "output_type": "stream",
     "text": [
      "park's student number is 1\n",
      "kim's student number is 2\n",
      "lee's student number is 3\n",
      "lee 3\n"
     ]
    }
   ],
   "source": [
    "for name, number in std_no.items() :\n",
    "    print(f'{name}\\'s student number is {number}')\n",
    "print(name, number)"
   ]
  },
  {
   "cell_type": "code",
   "execution_count": 10,
   "id": "3879394c",
   "metadata": {},
   "outputs": [
    {
     "name": "stdout",
     "output_type": "stream",
     "text": [
      "range(0, 10) <class 'range'>\n",
      "[0, 1, 2, 3, 4, 5, 6, 7, 8, 9]\n"
     ]
    }
   ],
   "source": [
    "num = range(10)\n",
    "print(num, type(num))\n",
    "print(list(num))"
   ]
  },
  {
   "cell_type": "code",
   "execution_count": 11,
   "id": "fc596b65",
   "metadata": {},
   "outputs": [
    {
     "name": "stdout",
     "output_type": "stream",
     "text": [
      "5\n",
      "6\n",
      "7\n"
     ]
    }
   ],
   "source": [
    "for num in range (5,8) : \n",
    "    print(num)"
   ]
  },
  {
   "cell_type": "code",
   "execution_count": 18,
   "id": "f53b7054",
   "metadata": {},
   "outputs": [
    {
     "name": "stdout",
     "output_type": "stream",
     "text": [
      "kim\n",
      "lee\n",
      "hong\n",
      "kang\n"
     ]
    }
   ],
   "source": [
    "students=['park','kim','lee','hong','kang']\n",
    "for i in range (1,5) :\n",
    "    print(students[i])"
   ]
  },
  {
   "cell_type": "code",
   "execution_count": 20,
   "id": "f87da9bb",
   "metadata": {
    "scrolled": true
   },
   "outputs": [
    {
     "name": "stdout",
     "output_type": "stream",
     "text": [
      "i value is 0\n",
      "i = 0 j = 3 i x j = 0\n",
      "i = 0 j = 4 i x j = 0\n",
      "i = 0 j = 5 i x j = 0\n",
      "i value is 1\n",
      "i = 1 j = 3 i x j = 3\n",
      "i = 1 j = 4 i x j = 4\n",
      "i = 1 j = 5 i x j = 5\n",
      "i value is 2\n",
      "i = 2 j = 3 i x j = 6\n",
      "i = 2 j = 4 i x j = 8\n",
      "i = 2 j = 5 i x j = 10\n",
      "The end\n"
     ]
    }
   ],
   "source": [
    "for i in range(0,3) : \n",
    "    print (\"i value is\",i)\n",
    "    for j in range(3,6) :\n",
    "        print(\"i =\",i, \"j =\",j, \"i x j =\", i*j)\n",
    "print(\"The end\")"
   ]
  },
  {
   "cell_type": "code",
   "execution_count": 21,
   "id": "e4017239",
   "metadata": {},
   "outputs": [
    {
     "name": "stdout",
     "output_type": "stream",
     "text": [
      "0is an even number\n",
      "1is an odd number\n",
      "2is an even number\n",
      "3is an odd number\n",
      "The end\n"
     ]
    }
   ],
   "source": [
    "for num in range(4) : \n",
    "    if num%2==0:\n",
    "        print(f\"{num}is an even number\")\n",
    "    else:\n",
    "        print(f\"{num}is an odd number\")\n",
    "print(\"The end\")"
   ]
  },
  {
   "cell_type": "markdown",
   "id": "d7c783f0",
   "metadata": {},
   "source": [
    "#### Q1. 1000이하의 2와 7의 공배수 중 가장 큰 것은?"
   ]
  },
  {
   "cell_type": "code",
   "execution_count": 22,
   "id": "77594798",
   "metadata": {},
   "outputs": [
    {
     "name": "stdout",
     "output_type": "stream",
     "text": [
      "1000이하의 2와 7의 공배수 중 가장 큰 것은 994입니다. \n"
     ]
    }
   ],
   "source": [
    "for num in range(1,1001) :\n",
    "    if(num%2 == 0) :\n",
    "        if(num%7 == 0) :\n",
    "            cur = num\n",
    "print (f\"1000이하의 2와 7의 공배수 중 가장 큰 것은 {cur}입니다. \")"
   ]
  },
  {
   "cell_type": "code",
   "execution_count": 27,
   "id": "2dabc20b",
   "metadata": {},
   "outputs": [
    {
     "name": "stdout",
     "output_type": "stream",
     "text": [
      "0\n",
      "1\n",
      "2\n",
      "3\n",
      "There was no break!\n"
     ]
    }
   ],
   "source": [
    "for num in range(4) : # range 값을 3, 4, 5, 6으로 수정해볼 것\n",
    "    if num>=4 : \n",
    "        break\n",
    "    else :\n",
    "        print(num)\n",
    "else :\n",
    "    print(\"There was no break!\")"
   ]
  },
  {
   "cell_type": "markdown",
   "id": "9401ef4c",
   "metadata": {},
   "source": [
    "#### L1와 L2가 동시에 바뀌므로 무한 루프에 빠지게 된다 : "
   ]
  },
  {
   "cell_type": "code",
   "execution_count": 28,
   "id": "c635f629",
   "metadata": {},
   "outputs": [
    {
     "name": "stderr",
     "output_type": "stream",
     "text": [
      "IOPub data rate exceeded.\n",
      "The notebook server will temporarily stop sending output\n",
      "to the client in order to avoid crashing it.\n",
      "To change this limit, set the config variable\n",
      "`--NotebookApp.iopub_data_rate_limit`.\n",
      "\n",
      "Current values:\n",
      "NotebookApp.iopub_data_rate_limit=1000000.0 (bytes/sec)\n",
      "NotebookApp.rate_limit_window=3.0 (secs)\n",
      "\n"
     ]
    },
    {
     "ename": "KeyboardInterrupt",
     "evalue": "",
     "output_type": "error",
     "traceback": [
      "\u001b[1;31m---------------------------------------------------------------------------\u001b[0m",
      "\u001b[1;31mKeyboardInterrupt\u001b[0m                         Traceback (most recent call last)",
      "\u001b[1;32m~\\AppData\\Local\\Temp\\ipykernel_1104\\753489302.py\u001b[0m in \u001b[0;36m<module>\u001b[1;34m\u001b[0m\n\u001b[0;32m      3\u001b[0m \u001b[1;32mfor\u001b[0m \u001b[0mi\u001b[0m \u001b[1;32min\u001b[0m \u001b[0mL\u001b[0m \u001b[1;33m:\u001b[0m\u001b[1;33m\u001b[0m\u001b[1;33m\u001b[0m\u001b[0m\n\u001b[0;32m      4\u001b[0m     \u001b[0mL2\u001b[0m\u001b[1;33m.\u001b[0m\u001b[0mappend\u001b[0m\u001b[1;33m(\u001b[0m\u001b[0mL2\u001b[0m\u001b[1;33m[\u001b[0m\u001b[1;33m-\u001b[0m\u001b[1;36m1\u001b[0m\u001b[1;33m]\u001b[0m\u001b[1;33m+\u001b[0m\u001b[1;36m1\u001b[0m\u001b[1;33m)\u001b[0m\u001b[1;33m\u001b[0m\u001b[1;33m\u001b[0m\u001b[0m\n\u001b[1;32m----> 5\u001b[1;33m     \u001b[0mprint\u001b[0m\u001b[1;33m(\u001b[0m\u001b[0mL2\u001b[0m\u001b[1;33m)\u001b[0m\u001b[1;33m\u001b[0m\u001b[1;33m\u001b[0m\u001b[0m\n\u001b[0m\u001b[0;32m      6\u001b[0m \u001b[0mprint\u001b[0m\u001b[1;33m(\u001b[0m\u001b[1;34m\"END\"\u001b[0m\u001b[1;33m)\u001b[0m\u001b[1;33m\u001b[0m\u001b[1;33m\u001b[0m\u001b[0m\n",
      "\u001b[1;32m~\\anaconda3\\lib\\site-packages\\ipykernel\\iostream.py\u001b[0m in \u001b[0;36mwrite\u001b[1;34m(self, string)\u001b[0m\n\u001b[0;32m    526\u001b[0m         \"\"\"\n\u001b[0;32m    527\u001b[0m \u001b[1;33m\u001b[0m\u001b[0m\n\u001b[1;32m--> 528\u001b[1;33m         \u001b[1;32mif\u001b[0m \u001b[1;32mnot\u001b[0m \u001b[0misinstance\u001b[0m\u001b[1;33m(\u001b[0m\u001b[0mstring\u001b[0m\u001b[1;33m,\u001b[0m \u001b[0mstr\u001b[0m\u001b[1;33m)\u001b[0m\u001b[1;33m:\u001b[0m\u001b[1;33m\u001b[0m\u001b[1;33m\u001b[0m\u001b[0m\n\u001b[0m\u001b[0;32m    529\u001b[0m             \u001b[1;32mraise\u001b[0m \u001b[0mTypeError\u001b[0m\u001b[1;33m(\u001b[0m\u001b[1;34mf\"write() argument must be str, not {type(string)}\"\u001b[0m\u001b[1;33m)\u001b[0m\u001b[1;33m\u001b[0m\u001b[1;33m\u001b[0m\u001b[0m\n\u001b[0;32m    530\u001b[0m \u001b[1;33m\u001b[0m\u001b[0m\n",
      "\u001b[1;31mKeyboardInterrupt\u001b[0m: "
     ]
    }
   ],
   "source": [
    "L = [1,2,3]\n",
    "L2 = L\n",
    "for i in L :\n",
    "    L2.append(L2[-1]+1)\n",
    "    print(L2)\n",
    "print(\"END\")"
   ]
  },
  {
   "cell_type": "code",
   "execution_count": 29,
   "id": "96a891ad",
   "metadata": {},
   "outputs": [
    {
     "name": "stdout",
     "output_type": "stream",
     "text": [
      "[1, 2, 3, 4]\n",
      "[1, 2, 3, 4, 5]\n",
      "[1, 2, 3, 4, 5, 6]\n",
      "END\n"
     ]
    }
   ],
   "source": [
    "L = [1, 2, 3]\n",
    "L2 = L[:]\n",
    "for i in L : \n",
    "    L2.append(L2[-1]+1)\n",
    "    print(L2)\n",
    "print (\"END\")"
   ]
  },
  {
   "cell_type": "markdown",
   "id": "05d6dca4",
   "metadata": {},
   "source": [
    "#### For문 작성 방식 / List Comprehension:"
   ]
  },
  {
   "cell_type": "markdown",
   "id": "32fedf97",
   "metadata": {},
   "source": [
    "Example 1)"
   ]
  },
  {
   "cell_type": "code",
   "execution_count": 31,
   "id": "023a42ee",
   "metadata": {},
   "outputs": [
    {
     "name": "stdout",
     "output_type": "stream",
     "text": [
      "[2, 4, 6, 8, 10]\n"
     ]
    }
   ],
   "source": [
    "L1 = [1,2,3,4,5]\n",
    "L2=[]\n",
    "for n in L1 : \n",
    "    L2.append(n*2)\n",
    "print(L2)"
   ]
  },
  {
   "cell_type": "code",
   "execution_count": 30,
   "id": "392d10e9",
   "metadata": {},
   "outputs": [
    {
     "name": "stdout",
     "output_type": "stream",
     "text": [
      "[2, 4, 6, 8, 10]\n"
     ]
    }
   ],
   "source": [
    "L1=[1,2,3,4,5]\n",
    "L2=[n*2 for n in L1]\n",
    "print (L2)"
   ]
  },
  {
   "cell_type": "markdown",
   "id": "6b196e0a",
   "metadata": {},
   "source": [
    "Example 2)"
   ]
  },
  {
   "cell_type": "code",
   "execution_count": 32,
   "id": "c7cf35ca",
   "metadata": {},
   "outputs": [
    {
     "name": "stdout",
     "output_type": "stream",
     "text": [
      "[4, 8]\n"
     ]
    }
   ],
   "source": [
    "L1=[1,2,3,4,5]\n",
    "L2=[]\n",
    "for n in L1:\n",
    "    if n%2 == 0:\n",
    "        L2.append(n*2)\n",
    "print(L2)"
   ]
  },
  {
   "cell_type": "code",
   "execution_count": 39,
   "id": "30ec89de",
   "metadata": {},
   "outputs": [
    {
     "name": "stdout",
     "output_type": "stream",
     "text": [
      "[4, 8]\n"
     ]
    }
   ],
   "source": [
    "L1=[1,2,3,4,5]\n",
    "L2=[n*2 for n in L1 if n%2 == 0]\n",
    "print(L2)"
   ]
  },
  {
   "cell_type": "markdown",
   "id": "fecef5bf",
   "metadata": {},
   "source": [
    "Example 3)"
   ]
  },
  {
   "cell_type": "code",
   "execution_count": 35,
   "id": "c119841d",
   "metadata": {},
   "outputs": [
    {
     "name": "stdout",
     "output_type": "stream",
     "text": [
      "[-2, 4, -6, 8, -10]\n"
     ]
    }
   ],
   "source": [
    "L1=[1,2,3,4,5]\n",
    "L2=[]\n",
    "for n in L1 :\n",
    "    if n%2 == 0 :\n",
    "        L2.append(n*2)\n",
    "    else :\n",
    "        L2.append(n*(-2))\n",
    "print(L2)"
   ]
  },
  {
   "cell_type": "code",
   "execution_count": 33,
   "id": "adcda6b1",
   "metadata": {},
   "outputs": [
    {
     "name": "stdout",
     "output_type": "stream",
     "text": [
      "[-2, 4, -6, 8, -10]\n"
     ]
    }
   ],
   "source": [
    "L1=[1,2,3,4,5]\n",
    "L2=[n*2 if n%2==0 else n*(-2) for n in L1]\n",
    "print(L2)"
   ]
  },
  {
   "cell_type": "markdown",
   "id": "308e6d6b",
   "metadata": {},
   "source": [
    "#### Exercise"
   ]
  },
  {
   "cell_type": "markdown",
   "id": "cdae3c22",
   "metadata": {},
   "source": [
    "Q1 )"
   ]
  },
  {
   "cell_type": "code",
   "execution_count": 67,
   "id": "1921b310",
   "metadata": {},
   "outputs": [
    {
     "name": "stdout",
     "output_type": "stream",
     "text": [
      "5\n",
      "*\n",
      "**\n",
      "***\n",
      "****\n",
      "*****\n"
     ]
    }
   ],
   "source": [
    "N = int(input())\n",
    "for i in range(N) :\n",
    "    print(\"*\"*(i+1))"
   ]
  },
  {
   "cell_type": "markdown",
   "id": "2d49bf2d",
   "metadata": {},
   "source": [
    "Q2 )"
   ]
  },
  {
   "cell_type": "code",
   "execution_count": 69,
   "id": "e60caa31",
   "metadata": {},
   "outputs": [
    {
     "name": "stdout",
     "output_type": "stream",
     "text": [
      "5\n",
      "*****\n",
      "****\n",
      "***\n",
      "**\n",
      "*\n"
     ]
    }
   ],
   "source": [
    "N=int(input())\n",
    "for i in range (N) :\n",
    "    print(\"*\"*(N-i))"
   ]
  },
  {
   "cell_type": "markdown",
   "id": "f95a9c1a",
   "metadata": {},
   "source": [
    "Q3 )"
   ]
  },
  {
   "cell_type": "code",
   "execution_count": 74,
   "id": "65f6d1ec",
   "metadata": {},
   "outputs": [
    {
     "name": "stdout",
     "output_type": "stream",
     "text": [
      "5\n",
      "     *\n",
      "    **\n",
      "   ***\n",
      "  ****\n",
      " *****\n"
     ]
    }
   ],
   "source": [
    "N=int(input())\n",
    "for i in range(N) :\n",
    "    print(\" \"*(N-i)+\"*\"*(i+1))"
   ]
  },
  {
   "cell_type": "markdown",
   "id": "0bf258d5",
   "metadata": {},
   "source": [
    "Q4 )"
   ]
  },
  {
   "cell_type": "code",
   "execution_count": 77,
   "id": "9c2aedf5",
   "metadata": {},
   "outputs": [
    {
     "name": "stdout",
     "output_type": "stream",
     "text": [
      "2 x 1 = 2\n",
      "2 x 2 = 4\n",
      "2 x 3 = 6\n",
      "2 x 4 = 8\n",
      "2 x 5 = 10\n",
      "2 x 6 = 12\n",
      "2 x 7 = 14\n",
      "2 x 8 = 16\n",
      "2 x 9 = 18\n",
      "3 x 1 = 3\n",
      "3 x 2 = 6\n",
      "3 x 3 = 9\n",
      "3 x 4 = 12\n",
      "3 x 5 = 15\n",
      "3 x 6 = 18\n",
      "3 x 7 = 21\n",
      "3 x 8 = 24\n",
      "3 x 9 = 27\n",
      "4 x 1 = 4\n",
      "4 x 2 = 8\n",
      "4 x 3 = 12\n",
      "4 x 4 = 16\n",
      "4 x 5 = 20\n",
      "4 x 6 = 24\n",
      "4 x 7 = 28\n",
      "4 x 8 = 32\n",
      "4 x 9 = 36\n",
      "5 x 1 = 5\n",
      "5 x 2 = 10\n",
      "5 x 3 = 15\n",
      "5 x 4 = 20\n",
      "5 x 5 = 25\n",
      "5 x 6 = 30\n",
      "5 x 7 = 35\n",
      "5 x 8 = 40\n",
      "5 x 9 = 45\n",
      "6 x 1 = 6\n",
      "6 x 2 = 12\n",
      "6 x 3 = 18\n",
      "6 x 4 = 24\n",
      "6 x 5 = 30\n",
      "6 x 6 = 36\n",
      "6 x 7 = 42\n",
      "6 x 8 = 48\n",
      "6 x 9 = 54\n",
      "7 x 1 = 7\n",
      "7 x 2 = 14\n",
      "7 x 3 = 21\n",
      "7 x 4 = 28\n",
      "7 x 5 = 35\n",
      "7 x 6 = 42\n",
      "7 x 7 = 49\n",
      "7 x 8 = 56\n",
      "7 x 9 = 63\n",
      "8 x 1 = 8\n",
      "8 x 2 = 16\n",
      "8 x 3 = 24\n",
      "8 x 4 = 32\n",
      "8 x 5 = 40\n",
      "8 x 6 = 48\n",
      "8 x 7 = 56\n",
      "8 x 8 = 64\n",
      "8 x 9 = 72\n",
      "9 x 1 = 9\n",
      "9 x 2 = 18\n",
      "9 x 3 = 27\n",
      "9 x 4 = 36\n",
      "9 x 5 = 45\n",
      "9 x 6 = 54\n",
      "9 x 7 = 63\n",
      "9 x 8 = 72\n",
      "9 x 9 = 81\n"
     ]
    }
   ],
   "source": [
    "for i in range (2,10) :\n",
    "    for j in range(1,10) :\n",
    "        print(f\"{i} x {j} = {i*j}\")"
   ]
  },
  {
   "cell_type": "markdown",
   "id": "1709df3d",
   "metadata": {},
   "source": [
    "Project Euler Q1 : "
   ]
  },
  {
   "cell_type": "code",
   "execution_count": 78,
   "id": "f6403644",
   "metadata": {},
   "outputs": [
    {
     "name": "stdout",
     "output_type": "stream",
     "text": [
      "233168\n"
     ]
    }
   ],
   "source": [
    "total = 0\n",
    "for i in range(1000) :\n",
    "    if i%3==0 or i%5 == 0 :\n",
    "        total += i\n",
    "print(total)"
   ]
  },
  {
   "cell_type": "code",
   "execution_count": null,
   "id": "39835224",
   "metadata": {},
   "outputs": [],
   "source": []
  }
 ],
 "metadata": {
  "kernelspec": {
   "display_name": "Python 3 (ipykernel)",
   "language": "python",
   "name": "python3"
  },
  "language_info": {
   "codemirror_mode": {
    "name": "ipython",
    "version": 3
   },
   "file_extension": ".py",
   "mimetype": "text/x-python",
   "name": "python",
   "nbconvert_exporter": "python",
   "pygments_lexer": "ipython3",
   "version": "3.9.13"
  }
 },
 "nbformat": 4,
 "nbformat_minor": 5
}
