{
 "cells": [
  {
   "cell_type": "markdown",
   "metadata": {},
   "source": [
    "# List, Tuple, Set, Dictionary"
   ]
  },
  {
   "cell_type": "markdown",
   "metadata": {},
   "source": [
    "| Basic data type | In Python | Example |\n",
    "| :-: |  :-: |  :-: |\n",
    "| Numeric Types | int, float, complex | 1, 3.14, 2+3j |\n",
    "| Text Sequence Type | str | 'Hello World' |\n",
    "| Sequence Types | list, tuple | [1, 2, 3], (1, 2, 3) |\n",
    "| Set Type | set | {1, 2, 3} |\n",
    "| Mapping Type | dict | {'park': '010-1234-5678} |\n",
    "| Boolean Type | bool | True, False |\n",
    "| ... | ... | ... |"
   ]
  },
  {
   "cell_type": "markdown",
   "metadata": {},
   "source": [
    "## 1. Sequence Types - list"
   ]
  },
  {
   "cell_type": "markdown",
   "metadata": {},
   "source": [
    "*list* is an ordered and changeable collection of data objects.\n",
    "- list can be expressed using brackets ([ ]) and comma(,).\n",
    "- list can contain a mixture of various-type objects.\n"
   ]
  },
  {
   "cell_type": "markdown",
   "metadata": {},
   "source": [
    "#### Value assignment: list is mutable"
   ]
  },
  {
   "cell_type": "markdown",
   "metadata": {},
   "source": [
    "list is a mutable type, so it is possible to change values of elements in a list.\n",
    "\n",
    "Please run the following codes and see what results are printed."
   ]
  },
  {
   "cell_type": "code",
   "execution_count": 1,
   "metadata": {},
   "outputs": [
    {
     "name": "stdout",
     "output_type": "stream",
     "text": [
      "[-1, 2, 3]\n"
     ]
    }
   ],
   "source": [
    "L = [1, 2, 3]\n",
    "L[0] = -1  # assign one value to specific element index.\n",
    "print(L)"
   ]
  },
  {
   "cell_type": "code",
   "execution_count": 2,
   "metadata": {},
   "outputs": [
    {
     "name": "stdout",
     "output_type": "stream",
     "text": [
      "[1, 5, 3]\n"
     ]
    }
   ],
   "source": [
    "L = [1, 2, 3]\n",
    "L[1] = 5  # assign one value to specific element index.\n",
    "print(L)"
   ]
  },
  {
   "cell_type": "markdown",
   "metadata": {},
   "source": [
    "It is also possible to replace values using slicing.\n",
    "\n",
    "For example,\n",
    "\n",
    "```\n",
    "L = [1, 2, 3, 4, 5]\n",
    "\n",
    "L[0:2] = [6, 7]\n",
    "print(L)\n",
    "```\n",
    "**[6, 7, 3, 4, 5]**\n",
    "\n",
    "\n",
    "Please run the following codes and see how it works."
   ]
  },
  {
   "cell_type": "code",
   "execution_count": 3,
   "metadata": {},
   "outputs": [
    {
     "ename": "TypeError",
     "evalue": "can only assign an iterable",
     "output_type": "error",
     "traceback": [
      "\u001b[1;31m---------------------------------------------------------------------------\u001b[0m",
      "\u001b[1;31mTypeError\u001b[0m                                 Traceback (most recent call last)",
      "\u001b[1;32m~\\AppData\\Local\\Temp\\ipykernel_2828\\2160328361.py\u001b[0m in \u001b[0;36m<module>\u001b[1;34m\u001b[0m\n\u001b[0;32m      1\u001b[0m \u001b[0mL\u001b[0m \u001b[1;33m=\u001b[0m \u001b[1;33m[\u001b[0m\u001b[1;36m1\u001b[0m\u001b[1;33m,\u001b[0m \u001b[1;36m2\u001b[0m\u001b[1;33m,\u001b[0m \u001b[1;36m3\u001b[0m\u001b[1;33m]\u001b[0m\u001b[1;33m\u001b[0m\u001b[1;33m\u001b[0m\u001b[0m\n\u001b[1;32m----> 2\u001b[1;33m \u001b[0mL\u001b[0m\u001b[1;33m[\u001b[0m\u001b[1;36m0\u001b[0m\u001b[1;33m:\u001b[0m\u001b[1;36m2\u001b[0m\u001b[1;33m]\u001b[0m \u001b[1;33m=\u001b[0m \u001b[1;33m-\u001b[0m\u001b[1;36m1\u001b[0m  \u001b[1;31m# Error: assigning non-iterable value to specific range of index is impossible\u001b[0m\u001b[1;33m\u001b[0m\u001b[1;33m\u001b[0m\u001b[0m\n\u001b[0m\u001b[0;32m      3\u001b[0m \u001b[0mprint\u001b[0m\u001b[1;33m(\u001b[0m\u001b[0mL\u001b[0m\u001b[1;33m)\u001b[0m\u001b[1;33m\u001b[0m\u001b[1;33m\u001b[0m\u001b[0m\n",
      "\u001b[1;31mTypeError\u001b[0m: can only assign an iterable"
     ]
    }
   ],
   "source": [
    "L = [1, 2, 3]\n",
    "L[0:2] = -1  # Error: assigning non-literable value to specific range of index is impossible\n",
    "print(L)"
   ]
  },
  {
   "cell_type": "code",
   "execution_count": 4,
   "metadata": {},
   "outputs": [
    {
     "name": "stdout",
     "output_type": "stream",
     "text": [
      "[-1, 3]\n"
     ]
    }
   ],
   "source": [
    "L = [1, 2, 3]\n",
    "L[0:2] = [-1]  # assigning a list to specific range of index is possible\n",
    "print(L)"
   ]
  },
  {
   "cell_type": "code",
   "execution_count": 5,
   "metadata": {},
   "outputs": [
    {
     "name": "stdout",
     "output_type": "stream",
     "text": [
      "[-1, -2, -3, -4, 3]\n"
     ]
    }
   ],
   "source": [
    "L = [1, 2, 3]\n",
    "L[0:2] = [-1, -2, -3, -4]  # assigning a list to specific range of index is possible\n",
    "print(L)"
   ]
  },
  {
   "cell_type": "markdown",
   "metadata": {},
   "source": [
    "### 1.1 Indexing"
   ]
  },
  {
   "cell_type": "markdown",
   "metadata": {},
   "source": [
    "Please print first friend's name using postive index and negative index."
   ]
  },
  {
   "cell_type": "code",
   "execution_count": 6,
   "metadata": {},
   "outputs": [
    {
     "name": "stdout",
     "output_type": "stream",
     "text": [
      "Park\n",
      "Park\n"
     ]
    }
   ],
   "source": [
    "friends = ['Park', 'Lee', 'Kim', 'Hong', 'Kang']\n",
    "\n",
    "print(friends[0])  # using postive index\n",
    "print(friends[-5])  # using negative index"
   ]
  },
  {
   "cell_type": "markdown",
   "metadata": {},
   "source": [
    "### 1.2 Slicing"
   ]
  },
  {
   "cell_type": "markdown",
   "metadata": {},
   "source": [
    "There are various ways to use slicing.\n",
    "\n",
    "For example,\n",
    "\n",
    "```\n",
    "L = [1, 2, 3, 4, 5]\n",
    "\n",
    "print(L[0:3])  # print first three elements    \n",
    "print(L[:3])  # print first three elements\n",
    "print(L[-3:])  # print last three elements\n",
    "print(L[-3:5])  # print last three elements\n",
    "print(L[-3:len(L)])  # print last three elements\n",
    "```"
   ]
  },
  {
   "cell_type": "markdown",
   "metadata": {},
   "source": [
    "Please print first three friend's name using slicing."
   ]
  },
  {
   "cell_type": "code",
   "execution_count": 7,
   "metadata": {},
   "outputs": [
    {
     "name": "stdout",
     "output_type": "stream",
     "text": [
      "['Park', 'Lee', 'Kim']\n"
     ]
    }
   ],
   "source": [
    "friends = ['Park', 'Lee', 'Kim', 'Hong', 'Kang']\n",
    "\n",
    "print(friends[0:3])"
   ]
  },
  {
   "cell_type": "markdown",
   "metadata": {},
   "source": [
    "Please print last three friend's name using slicing"
   ]
  },
  {
   "cell_type": "code",
   "execution_count": 9,
   "metadata": {},
   "outputs": [
    {
     "name": "stdout",
     "output_type": "stream",
     "text": [
      "['Kang', 'Hong', 'Kim']\n"
     ]
    }
   ],
   "source": [
    "friends = ['Park', 'Lee', 'Kim', 'Hong', 'Kang']\n",
    "\n",
    "print(friends[-1:-4:-1])"
   ]
  },
  {
   "cell_type": "markdown",
   "metadata": {},
   "source": [
    "### 1.3 Operations"
   ]
  },
  {
   "cell_type": "markdown",
   "metadata": {},
   "source": [
    "#### Concatenation"
   ]
  },
  {
   "cell_type": "markdown",
   "metadata": {},
   "source": [
    "Please create a new list `L3`, using `L1 + L2` (+ operator).\n",
    "\n",
    "Then, print `L1`, `L2`, and `L3`, and see how the concatenation works with list."
   ]
  },
  {
   "cell_type": "code",
   "execution_count": 10,
   "metadata": {},
   "outputs": [
    {
     "name": "stdout",
     "output_type": "stream",
     "text": [
      "[1, 2, 3, [4, 5]]\n",
      "['Hello World']\n",
      "[1, 2, 3, [4, 5], 'Hello World']\n"
     ]
    }
   ],
   "source": [
    "L1 = [1, 2, 3, [4, 5]]\n",
    "L2 = [\"Hello World\"]\n",
    "L3 = L1+L2\n",
    "\n",
    "print(L1)\n",
    "print(L2)\n",
    "print(L3)"
   ]
  },
  {
   "cell_type": "markdown",
   "metadata": {},
   "source": [
    "#### Repeat"
   ]
  },
  {
   "cell_type": "markdown",
   "metadata": {},
   "source": [
    "Please create a new list `L2`, using `L1 * N` (* operator)\n",
    "\n",
    "Then, print `L1` and `L2`, and see how the repeat works with list."
   ]
  },
  {
   "cell_type": "code",
   "execution_count": 1,
   "metadata": {},
   "outputs": [
    {
     "name": "stdout",
     "output_type": "stream",
     "text": [
      "[1, 2, 3, [4, 5]]\n",
      "[1, 2, 3, [4, 5], 1, 2, 3, [4, 5]]\n"
     ]
    }
   ],
   "source": [
    "L1 = [1, 2, 3, [4, 5]]\n",
    "L2 = L1 * 2\n",
    "\n",
    "print(L1)\n",
    "print(L2)"
   ]
  },
  {
   "cell_type": "markdown",
   "metadata": {},
   "source": [
    "#### In"
   ]
  },
  {
   "cell_type": "markdown",
   "metadata": {},
   "source": [
    "`in` operator returns True if there's an element in the list that's equal to the given item, False otherwise."
   ]
  },
  {
   "cell_type": "markdown",
   "metadata": {},
   "source": [
    "Please run the following code and think about why the results are printed."
   ]
  },
  {
   "cell_type": "code",
   "execution_count": 2,
   "metadata": {},
   "outputs": [
    {
     "name": "stdout",
     "output_type": "stream",
     "text": [
      "True\n",
      "False\n",
      "True\n",
      "False\n"
     ]
    }
   ],
   "source": [
    "print(1 in [1, 2, 3])\n",
    "print(1 in ['1', 2, 3])\n",
    "print('a' in ['a', 'b', 'c'])\n",
    "print('a' in ['A', 'B', 'C'])"
   ]
  },
  {
   "cell_type": "markdown",
   "metadata": {},
   "source": [
    "### 1.4 Nested lists"
   ]
  },
  {
   "cell_type": "markdown",
   "metadata": {},
   "source": [
    "list can be also nested. For a nested list, nested indexing and slicing can be used.\n",
    "\n",
    "Please run the following codes and see what results are printed."
   ]
  },
  {
   "cell_type": "code",
   "execution_count": 3,
   "metadata": {},
   "outputs": [
    {
     "name": "stdout",
     "output_type": "stream",
     "text": [
      "1\n",
      "2\n",
      "[3, 4, 5]\n",
      "3\n",
      "4\n",
      "5\n"
     ]
    }
   ],
   "source": [
    "L = [1, 2, [3, 4, 5]]\n",
    "\n",
    "print(L[0])\n",
    "print(L[1])\n",
    "print(L[2])\n",
    "\n",
    "print(L[2][0])\n",
    "print(L[2][1])\n",
    "print(L[2][2])"
   ]
  },
  {
   "cell_type": "markdown",
   "metadata": {},
   "source": [
    "### 1.5 Shallow copy and deep copy"
   ]
  },
  {
   "cell_type": "markdown",
   "metadata": {},
   "source": [
    "There are several ways to create a copy of an existing list."
   ]
  },
  {
   "cell_type": "markdown",
   "metadata": {},
   "source": [
    "#### 1.5.1 Assignment\n",
    "\n",
    "This way is not a way to create a copy of an exising list. This will share same value."
   ]
  },
  {
   "cell_type": "code",
   "execution_count": 4,
   "metadata": {},
   "outputs": [
    {
     "name": "stdout",
     "output_type": "stream",
     "text": [
      "[1, 2, 3] 2061737819392\n",
      "[1, 2, 3] 2061737819392\n"
     ]
    }
   ],
   "source": [
    "a = [1, 2, 3]\n",
    "b = a\n",
    "\n",
    "print(a, id(a))\n",
    "print(b, id(b))  # same memory addresses, sharing same value"
   ]
  },
  {
   "cell_type": "markdown",
   "metadata": {},
   "source": [
    "Chaning a value of any element in `a` is equal to changing a value of any element in `b`."
   ]
  },
  {
   "cell_type": "code",
   "execution_count": 5,
   "metadata": {},
   "outputs": [
    {
     "name": "stdout",
     "output_type": "stream",
     "text": [
      "[100, 2, 3] 2061737820352\n",
      "[100, 2, 3] 2061737820352\n"
     ]
    }
   ],
   "source": [
    "a = [1, 2, 3]\n",
    "b = a\n",
    "\n",
    "a[0] = 100\n",
    "print(a, id(a))\n",
    "print(b, id(b))"
   ]
  },
  {
   "cell_type": "markdown",
   "metadata": {},
   "source": [
    "#### 1.5.2 Shallow copy"
   ]
  },
  {
   "cell_type": "markdown",
   "metadata": {},
   "source": [
    "#### 1.5.2.1 Shallow copy using slicing\n",
    "\n",
    "You can copy a list using slicing"
   ]
  },
  {
   "cell_type": "code",
   "execution_count": 6,
   "metadata": {},
   "outputs": [
    {
     "name": "stdout",
     "output_type": "stream",
     "text": [
      "[1, 2, 3] 2061737819648\n",
      "[1, 2, 3] 2061737820608\n"
     ]
    }
   ],
   "source": [
    "a = [1, 2, 3]\n",
    "b = a[:]\n",
    "\n",
    "# differnt memory addresses, independent of each other\n",
    "print(a, id(a))\n",
    "print(b, id(b))  "
   ]
  },
  {
   "cell_type": "markdown",
   "metadata": {},
   "source": [
    "Although a value of `a`'s element is changed, `b` will not be affected because they are independent, as follows:"
   ]
  },
  {
   "cell_type": "code",
   "execution_count": 7,
   "metadata": {},
   "outputs": [
    {
     "name": "stdout",
     "output_type": "stream",
     "text": [
      "[100, 2, 3] 2061737834752\n",
      "[1, 2, 3] 2061737820352\n"
     ]
    }
   ],
   "source": [
    "a = [1, 2, 3]\n",
    "b = a[:]\n",
    "\n",
    "a[0] = 100\n",
    "\n",
    "print(a, id(a))\n",
    "print(b, id(b))"
   ]
  },
  {
   "cell_type": "markdown",
   "metadata": {},
   "source": [
    "#### 1.5.2.2 Shallow copy using copy method\n",
    "\n",
    "You can copy a list using slicing"
   ]
  },
  {
   "cell_type": "code",
   "execution_count": 8,
   "metadata": {},
   "outputs": [
    {
     "name": "stdout",
     "output_type": "stream",
     "text": [
      "[1, 2, 3] 2061737820608\n",
      "[1, 2, 3] 2061737835712\n"
     ]
    }
   ],
   "source": [
    "a = [1, 2, 3]\n",
    "b = a.copy()\n",
    "\n",
    "print(a, id(a))\n",
    "print(b, id(b))  # differnt memory addresses, independent of each other"
   ]
  },
  {
   "cell_type": "markdown",
   "metadata": {},
   "source": [
    "Although a value of `a`'s element is changed, `b` will not be affected because they are independent, as follows:"
   ]
  },
  {
   "cell_type": "code",
   "execution_count": 9,
   "metadata": {},
   "outputs": [
    {
     "name": "stdout",
     "output_type": "stream",
     "text": [
      "[100, 2, 3] 2061737820352\n",
      "[1, 2, 3] 2061737819648\n"
     ]
    }
   ],
   "source": [
    "a = [1, 2, 3]\n",
    "b = a.copy()\n",
    "\n",
    "a[0] = 100\n",
    "\n",
    "print(a, id(a))\n",
    "print(b, id(b))"
   ]
  },
  {
   "cell_type": "markdown",
   "metadata": {},
   "source": [
    "#### 1.5.2.3 A problem of shallow copy\n",
    "\n",
    "Shallow copy may cause a problem when a list has a list as an element.\n",
    "\n",
    "For example, if you changed one of values in a nested list, it will be affected to the copied list, as follows:"
   ]
  },
  {
   "cell_type": "code",
   "execution_count": 10,
   "metadata": {},
   "outputs": [
    {
     "name": "stdout",
     "output_type": "stream",
     "text": [
      "[1, 2, 3, [100, 5]] 2061737834752\n",
      "[1, 2, 3, [100, 5]] 2061737821824\n"
     ]
    }
   ],
   "source": [
    "a = [1, 2, 3, [4, 5]]\n",
    "b = a[:]\n",
    "\n",
    "a[3][0] = 100  # just tried to a value of a, but b's value will be also changed if the value is in a nested list.\n",
    "\n",
    "print(a, id(a))\n",
    "print(b, id(b))"
   ]
  },
  {
   "cell_type": "markdown",
   "metadata": {},
   "source": [
    "#### 1.5.3 Deep copy\n",
    "\n",
    "To prevent the problem of shallow copy for a nested list, you can copy a list using `deepcopy` module, as follows:"
   ]
  },
  {
   "cell_type": "code",
   "execution_count": 11,
   "metadata": {},
   "outputs": [
    {
     "name": "stdout",
     "output_type": "stream",
     "text": [
      "[1, 2, 3, [100, 5]] 2061737835712\n",
      "[1, 2, 3, [4, 5]] 2061737842560\n"
     ]
    }
   ],
   "source": [
    "import copy\n",
    "a = [1, 2, 3, [4, 5]]\n",
    "b = copy.deepcopy(a)\n",
    "\n",
    "a[3][0] = 100  # just tried to a value of a. Now, b will not be affected although the value is in a nested list.\n",
    "\n",
    "print(a, id(a))\n",
    "print(b, id(b))"
   ]
  },
  {
   "cell_type": "markdown",
   "metadata": {},
   "source": [
    "### 1.6 list methods\n",
    "\n",
    "| Method | Description |\n",
    "| :- |  :- |\n",
    "| list.copy() | Returns a copy of the list without changing itself |\n",
    "| list.clear() | Removes all the elements from the list |\n",
    "| list.append(x) | Adds an element x to the end of the list |\n",
    "| list.extend(L) | Add the list L (or any iterable objects) to the end |\n",
    "| list.insert(i, x) | Adds an element x at the specified position i (index) |\n",
    "| list.pop(i) | Returns the element at the specified position i (index) and remove the element from the list |\n",
    "| list.remove(x) | Removes the first item with the specified value |\n",
    "| list.reverse() | Reverses the order of the list |\n",
    "| list.sort() | Sorts the list |\n",
    "| list.index() | Returns an index of the first occurrence of x in the list |\n",
    "| list.count() | Returns a total number of occurrences of x in the list |\n",
    "\n",
    "Please try to run following codes to see hot the methods work"
   ]
  },
  {
   "cell_type": "code",
   "execution_count": 12,
   "metadata": {},
   "outputs": [
    {
     "ename": "SyntaxError",
     "evalue": "invalid syntax (3779912062.py, line 9)",
     "output_type": "error",
     "traceback": [
      "\u001b[1;36m  File \u001b[1;32m\"C:\\Users\\hurry\\AppData\\Local\\Temp\\ipykernel_9768\\3779912062.py\"\u001b[1;36m, line \u001b[1;32m9\u001b[0m\n\u001b[1;33m    L.append(?)\u001b[0m\n\u001b[1;37m             ^\u001b[0m\n\u001b[1;31mSyntaxError\u001b[0m\u001b[1;31m:\u001b[0m invalid syntax\n"
     ]
    }
   ],
   "source": [
    "L = [1, 2, 3]\n",
    "\n",
    "L2 = L.copy()\n",
    "print(L2)\n",
    "\n",
    "L2.clear()\n",
    "print(L2)\n",
    "\n",
    "L.append(?)\n",
    "print(L)\n",
    "\n",
    "L.extend(?)\n",
    "print(L)\n",
    "\n",
    "L.insert(?, ?)\n",
    "print(L)\n",
    "\n",
    "value = L.pop(?)\n",
    "print(L, value)\n",
    "\n",
    "L.remove(?)\n",
    "print(L)\n",
    "\n",
    "L.reverse()\n",
    "print(L)\n",
    "\n",
    "L.sort()\n",
    "print(L)\n",
    "\n",
    "i = L.index(?)\n",
    "print(L, i)\n",
    "\n",
    "c = L.count(?)\n",
    "print(L, c)"
   ]
  },
  {
   "cell_type": "markdown",
   "metadata": {},
   "source": [
    "## 2. Sequence Types - tuple"
   ]
  },
  {
   "cell_type": "markdown",
   "metadata": {},
   "source": [
    "*tuple* is an ordered and unchangeable collection of data objects.\n",
    "- tuple can be expressed using parenthesis () and comma(,).\n",
    "- tuple can contain a mixture of various-type objects.\n",
    "- If tuple has only one value, tuple can be expressed with ending comma, such as (1,)"
   ]
  },
  {
   "cell_type": "markdown",
   "metadata": {},
   "source": [
    "#### Value assignment: tupl is immutable"
   ]
  },
  {
   "cell_type": "markdown",
   "metadata": {},
   "source": [
    "tuple is a immutable type, so it is impossible to change values of elements in a tuple.\n",
    "\n",
    "Please run the following codes and see what results are printed."
   ]
  },
  {
   "cell_type": "code",
   "execution_count": 13,
   "metadata": {},
   "outputs": [
    {
     "ename": "TypeError",
     "evalue": "'tuple' object does not support item assignment",
     "output_type": "error",
     "traceback": [
      "\u001b[1;31m---------------------------------------------------------------------------\u001b[0m",
      "\u001b[1;31mTypeError\u001b[0m                                 Traceback (most recent call last)",
      "\u001b[1;32m~\\AppData\\Local\\Temp\\ipykernel_9768\\1032683875.py\u001b[0m in \u001b[0;36m<module>\u001b[1;34m\u001b[0m\n\u001b[0;32m      1\u001b[0m \u001b[0mT\u001b[0m \u001b[1;33m=\u001b[0m \u001b[1;33m(\u001b[0m\u001b[1;36m1\u001b[0m\u001b[1;33m,\u001b[0m \u001b[1;36m2\u001b[0m\u001b[1;33m,\u001b[0m \u001b[1;36m3\u001b[0m\u001b[1;33m)\u001b[0m\u001b[1;33m\u001b[0m\u001b[1;33m\u001b[0m\u001b[0m\n\u001b[1;32m----> 2\u001b[1;33m \u001b[0mT\u001b[0m\u001b[1;33m[\u001b[0m\u001b[1;36m0\u001b[0m\u001b[1;33m]\u001b[0m \u001b[1;33m=\u001b[0m \u001b[1;33m-\u001b[0m\u001b[1;36m1\u001b[0m  \u001b[1;31m# assign one value to specific element index: error\u001b[0m\u001b[1;33m\u001b[0m\u001b[1;33m\u001b[0m\u001b[0m\n\u001b[0m\u001b[0;32m      3\u001b[0m \u001b[0mprint\u001b[0m\u001b[1;33m(\u001b[0m\u001b[0mT\u001b[0m\u001b[1;33m)\u001b[0m\u001b[1;33m\u001b[0m\u001b[1;33m\u001b[0m\u001b[0m\n",
      "\u001b[1;31mTypeError\u001b[0m: 'tuple' object does not support item assignment"
     ]
    }
   ],
   "source": [
    "T = (1, 2, 3)\n",
    "T[0] = -1  # assign one value to specific element index: error\n",
    "print(T)"
   ]
  },
  {
   "cell_type": "code",
   "execution_count": 14,
   "metadata": {},
   "outputs": [
    {
     "name": "stdout",
     "output_type": "stream",
     "text": [
      "1 <class 'int'>\n",
      "(1,) <class 'tuple'>\n"
     ]
    }
   ],
   "source": [
    "a = (1)\n",
    "print(a, type(a))\n",
    "\n",
    "b = (1,)\n",
    "print(b, type(b))"
   ]
  },
  {
   "cell_type": "markdown",
   "metadata": {},
   "source": [
    "### 2.1 Indexing"
   ]
  },
  {
   "cell_type": "markdown",
   "metadata": {},
   "source": [
    "Please print first friend's name using postive index and negative index."
   ]
  },
  {
   "cell_type": "code",
   "execution_count": null,
   "metadata": {},
   "outputs": [],
   "source": [
    "friends = ('Park', 'Lee', 'Kim', 'Hong', 'Kang')\n",
    "\n",
    "print(friends[?])  # using postive index\n",
    "print(friends[?])  # using negative index"
   ]
  },
  {
   "cell_type": "markdown",
   "metadata": {},
   "source": [
    "### 2.2 Slicing"
   ]
  },
  {
   "cell_type": "markdown",
   "metadata": {},
   "source": [
    "There are various ways to use slicing.\n",
    "\n",
    "For example,\n",
    "\n",
    "```\n",
    "T = (1, 2, 3, 4, 5)\n",
    "\n",
    "print(T[0:3])  # print first three elements    \n",
    "print(T[:3])  # print first three elements\n",
    "print(T[-3:])  # print last three elements\n",
    "print(T[-3:5])  # print last three elements\n",
    "print(T[-3:len(L)])  # print last three elements\n",
    "```"
   ]
  },
  {
   "cell_type": "markdown",
   "metadata": {},
   "source": [
    "Please print first three friend's name using slicing."
   ]
  },
  {
   "cell_type": "code",
   "execution_count": null,
   "metadata": {},
   "outputs": [],
   "source": [
    "friends = ('Park', 'Lee', 'Kim', 'Hong', 'Kang')\n",
    "\n",
    "print(friends[?:?])"
   ]
  },
  {
   "cell_type": "markdown",
   "metadata": {},
   "source": [
    "Please print last three friend's name using slicing"
   ]
  },
  {
   "cell_type": "code",
   "execution_count": null,
   "metadata": {},
   "outputs": [],
   "source": [
    "friends = ('Park', 'Lee', 'Kim', 'Hong', 'Kang')\n",
    "\n",
    "print(friends[?:?])"
   ]
  },
  {
   "cell_type": "markdown",
   "metadata": {},
   "source": [
    "### 2.3 Operations"
   ]
  },
  {
   "cell_type": "markdown",
   "metadata": {},
   "source": [
    "#### Concatenation"
   ]
  },
  {
   "cell_type": "markdown",
   "metadata": {},
   "source": [
    "Please create a new list `T3`, using `T1 + T2` (+ operator).\n",
    "\n",
    "Then, print `T1`, `T2`, and `T3`, and see how the concatenation works with list."
   ]
  },
  {
   "cell_type": "code",
   "execution_count": 15,
   "metadata": {},
   "outputs": [
    {
     "ename": "SyntaxError",
     "evalue": "invalid syntax (3315061798.py, line 3)",
     "output_type": "error",
     "traceback": [
      "\u001b[1;36m  File \u001b[1;32m\"C:\\Users\\hurry\\AppData\\Local\\Temp\\ipykernel_9768\\3315061798.py\"\u001b[1;36m, line \u001b[1;32m3\u001b[0m\n\u001b[1;33m    T3 =\u001b[0m\n\u001b[1;37m         ^\u001b[0m\n\u001b[1;31mSyntaxError\u001b[0m\u001b[1;31m:\u001b[0m invalid syntax\n"
     ]
    }
   ],
   "source": [
    "T1 = (1, 2, 3, [4, 5])\n",
    "T2 = (\"Hello World\",)\n",
    "T3 = \n",
    "\n",
    "print(T1)\n",
    "print(T2)\n",
    "print(T3)"
   ]
  },
  {
   "cell_type": "markdown",
   "metadata": {},
   "source": [
    "#### Repeat"
   ]
  },
  {
   "cell_type": "markdown",
   "metadata": {},
   "source": [
    "Please create a new list `T2`, using `T1 * N` (* operator)\n",
    "\n",
    "Then, print `T1` and `T2`, and see how the repeat works with list."
   ]
  },
  {
   "cell_type": "code",
   "execution_count": 16,
   "metadata": {},
   "outputs": [
    {
     "name": "stdout",
     "output_type": "stream",
     "text": [
      "(1, 2, 3, [4, 5])\n",
      "(1, 2, 3, [4, 5], 1, 2, 3, [4, 5])\n"
     ]
    }
   ],
   "source": [
    "T1 = (1, 2, 3, [4, 5])\n",
    "T2 = T1 * 2\n",
    "\n",
    "print(T1)\n",
    "print(T2)"
   ]
  },
  {
   "cell_type": "markdown",
   "metadata": {},
   "source": [
    "#### In"
   ]
  },
  {
   "cell_type": "markdown",
   "metadata": {},
   "source": [
    "`in` operator returns True if there's an element in the list that's equal to the given item, False otherwise."
   ]
  },
  {
   "cell_type": "markdown",
   "metadata": {},
   "source": [
    "Please run the following code and think about why the results are printed."
   ]
  },
  {
   "cell_type": "code",
   "execution_count": 17,
   "metadata": {},
   "outputs": [
    {
     "name": "stdout",
     "output_type": "stream",
     "text": [
      "True\n",
      "False\n",
      "True\n",
      "False\n"
     ]
    }
   ],
   "source": [
    "print(1 in (1, 2, 3))\n",
    "print(1 in ('1', 2, 3))\n",
    "print('a' in ('a', 'b', 'c'))\n",
    "print('a' in ('A', 'B', 'C'))"
   ]
  },
  {
   "cell_type": "markdown",
   "metadata": {},
   "source": [
    "### 1.4 Nested tuples"
   ]
  },
  {
   "cell_type": "markdown",
   "metadata": {},
   "source": [
    "tuple can be nested. For a nested tuple, nested indexing and slicing can be used.\n",
    "\n",
    "Please run the following codes and see what results are printed.\n",
    "\n",
    "\n"
   ]
  },
  {
   "cell_type": "code",
   "execution_count": 37,
   "metadata": {},
   "outputs": [
    {
     "name": "stdout",
     "output_type": "stream",
     "text": [
      "1\n",
      "2\n",
      "(3, 4, 5)\n",
      "3\n",
      "4\n",
      "5\n"
     ]
    }
   ],
   "source": [
    "T = (1, 2, (3, 4, 5))\n",
    "\n",
    "print(T[0])\n",
    "print(T[1])\n",
    "print(T[2])\n",
    "\n",
    "print(T[2][0])\n",
    "print(T[2][1])\n",
    "print(T[2][2])"
   ]
  },
  {
   "cell_type": "markdown",
   "metadata": {},
   "source": [
    "### 1.5 tuple methods\n",
    "\n",
    "| Method | Description |\n",
    "| :- |  :- |\n",
    "| tuple.index() | Returns an index of the first occurrence of x in the tuple |\n",
    "| tuple.count() | Returns a total number of occurrences of x in the tuple |\n",
    "\n",
    "Please try to run following codes to see hot the methods work"
   ]
  },
  {
   "cell_type": "code",
   "execution_count": null,
   "metadata": {},
   "outputs": [],
   "source": [
    "T = (1, 2, 3)\n",
    "\n",
    "i = T.index(?)\n",
    "print(T, i)\n",
    "\n",
    "c = T.count(?)\n",
    "print(L, c)"
   ]
  },
  {
   "cell_type": "markdown",
   "metadata": {},
   "source": [
    "## Common sequence operations & built-in functions (for str, list, tuple)\n",
    "\n",
    "Following methods are common sequence operations for sequence types such as str, list, and tuple. Please try to run all the methods using str, list, and tuple below.\n",
    "\n",
    "| Method | Description |\n",
    "| :- |  :- |\n",
    "| x (not) in S | Returns True if an item of S is (not) equal to x, else False |\n",
    "| S1 + S2 | Returns the concatenation of S1 and S2 |\n",
    "| S1 * N | Returns Equivalent to adding S to itself N times |\n",
    "| s[i] / s[i:j:k] | Returns ith item of s (Indexing) / slice of S (Slicing) |\n",
    "| len(S) | Returns a length of S |\n",
    "| min(S) / max(S) | Returns a smallest/largest item of S |\n",
    "| sorted(S) | Returns a sorted S as a list type |\n",
    "| S.index(x) | Returns an index of the first occurrence of x in S |\n",
    "| S.count(x) | Returns a total number of occurrences of x in S |"
   ]
  },
  {
   "cell_type": "code",
   "execution_count": 36,
   "metadata": {},
   "outputs": [
    {
     "name": "stdout",
     "output_type": "stream",
     "text": [
      "True\n",
      "True\n",
      "True\n",
      "AB\n",
      "[1, 2, 3, 4, 5, 6]\n",
      "(1, 2, 3, 4, 5, 6)\n"
     ]
    }
   ],
   "source": [
    "print('H' in 'Hello World')\n",
    "print(1 in [1, 2, 3])\n",
    "print(1 in (1, 2, 3))\n",
    "\n",
    "print('A' + 'B')\n",
    "print([1, 2, 3] + [4, 5, 6])\n",
    "print((1, 2, 3) + (4, 5, 6))\n",
    "\n",
    "# run the rest of methods using str, list, and tuple here\n"
   ]
  },
  {
   "cell_type": "markdown",
   "metadata": {},
   "source": [
    "## 3. Set"
   ]
  },
  {
   "cell_type": "markdown",
   "metadata": {},
   "source": [
    "- set is an unordered and unindexed collection of data objects.\n",
    "- set is created using braces { } and comma.\n",
    "- set cannot have two items with the same value.\n",
    "- set can contain a mixture of various-type objects, but cannot contain mutable types (list, set, dictionary…)\n",
    "\n"
   ]
  },
  {
   "cell_type": "markdown",
   "metadata": {},
   "source": [
    "#### Value assignment: Indexing and slicing is impossible because set has no order\n",
    "\n",
    "Please try to run following codes and understand how set works."
   ]
  },
  {
   "cell_type": "code",
   "execution_count": 35,
   "metadata": {},
   "outputs": [
    {
     "ename": "TypeError",
     "evalue": "'set' object does not support item assignment",
     "output_type": "error",
     "traceback": [
      "\u001b[1;31m---------------------------------------------------------------------------\u001b[0m",
      "\u001b[1;31mTypeError\u001b[0m                                 Traceback (most recent call last)",
      "\u001b[1;32m~\\AppData\\Local\\Temp\\ipykernel_9768\\2596643574.py\u001b[0m in \u001b[0;36m<module>\u001b[1;34m\u001b[0m\n\u001b[0;32m      1\u001b[0m \u001b[0mS\u001b[0m \u001b[1;33m=\u001b[0m \u001b[1;33m{\u001b[0m\u001b[1;36m1\u001b[0m\u001b[1;33m,\u001b[0m \u001b[1;36m2\u001b[0m\u001b[1;33m,\u001b[0m \u001b[1;36m3\u001b[0m\u001b[1;33m}\u001b[0m\u001b[1;33m\u001b[0m\u001b[1;33m\u001b[0m\u001b[0m\n\u001b[1;32m----> 2\u001b[1;33m \u001b[0mS\u001b[0m\u001b[1;33m[\u001b[0m\u001b[1;36m0\u001b[0m\u001b[1;33m]\u001b[0m \u001b[1;33m=\u001b[0m \u001b[1;36m10\u001b[0m  \u001b[1;31m# error. set is an unordered and unindexed collection of data objects.\u001b[0m\u001b[1;33m\u001b[0m\u001b[1;33m\u001b[0m\u001b[0m\n\u001b[0m\u001b[0;32m      3\u001b[0m \u001b[0mprint\u001b[0m\u001b[1;33m(\u001b[0m\u001b[0mS\u001b[0m\u001b[1;33m)\u001b[0m\u001b[1;33m\u001b[0m\u001b[1;33m\u001b[0m\u001b[0m\n",
      "\u001b[1;31mTypeError\u001b[0m: 'set' object does not support item assignment"
     ]
    }
   ],
   "source": [
    "S = {1, 2, 3}\n",
    "S[0] = 10  # error. set is an unordered and unindexed collection of data objects.\n",
    "print(S)"
   ]
  },
  {
   "cell_type": "code",
   "execution_count": 34,
   "metadata": {},
   "outputs": [
    {
     "name": "stdout",
     "output_type": "stream",
     "text": [
      "{1, 2, 3}\n"
     ]
    }
   ],
   "source": [
    "S = {1, 2, 3, 1, 2, 3}  \n",
    "print(S)  # set cannot have two items with the same value."
   ]
  },
  {
   "cell_type": "code",
   "execution_count": 33,
   "metadata": {},
   "outputs": [
    {
     "name": "stdout",
     "output_type": "stream",
     "text": [
      "{3, 1, (4, 5), 2}\n"
     ]
    }
   ],
   "source": [
    "S = {1, 2, 3, (4, 5)}  # possible to contain immutable values (such as str, tuple, and int)\n",
    "print(S)"
   ]
  },
  {
   "cell_type": "code",
   "execution_count": 32,
   "metadata": {},
   "outputs": [
    {
     "ename": "TypeError",
     "evalue": "unhashable type: 'list'",
     "output_type": "error",
     "traceback": [
      "\u001b[1;31m---------------------------------------------------------------------------\u001b[0m",
      "\u001b[1;31mTypeError\u001b[0m                                 Traceback (most recent call last)",
      "\u001b[1;32m~\\AppData\\Local\\Temp\\ipykernel_9768\\4119759970.py\u001b[0m in \u001b[0;36m<module>\u001b[1;34m\u001b[0m\n\u001b[1;32m----> 1\u001b[1;33m \u001b[0mS\u001b[0m \u001b[1;33m=\u001b[0m \u001b[1;33m{\u001b[0m\u001b[1;36m1\u001b[0m\u001b[1;33m,\u001b[0m \u001b[1;36m2\u001b[0m\u001b[1;33m,\u001b[0m \u001b[1;36m3\u001b[0m\u001b[1;33m,\u001b[0m \u001b[1;33m[\u001b[0m\u001b[1;36m4\u001b[0m\u001b[1;33m,\u001b[0m \u001b[1;36m5\u001b[0m\u001b[1;33m]\u001b[0m\u001b[1;33m}\u001b[0m  \u001b[1;31m# impossible to contain mutable values (such as list) because an element of set must not be changed.\u001b[0m\u001b[1;33m\u001b[0m\u001b[1;33m\u001b[0m\u001b[0m\n\u001b[0m\u001b[0;32m      2\u001b[0m \u001b[0mprint\u001b[0m\u001b[1;33m(\u001b[0m\u001b[0mS\u001b[0m\u001b[1;33m)\u001b[0m  \u001b[1;31m# error\u001b[0m\u001b[1;33m\u001b[0m\u001b[1;33m\u001b[0m\u001b[0m\n",
      "\u001b[1;31mTypeError\u001b[0m: unhashable type: 'list'"
     ]
    }
   ],
   "source": [
    "S = {1, 2, 3, [4, 5]}  # impossible to contain mutable values (such as list) because an element of set must not be changed.\n",
    "print(S)  # error"
   ]
  },
  {
   "cell_type": "markdown",
   "metadata": {},
   "source": [
    "### 3.1 Operations"
   ]
  },
  {
   "cell_type": "markdown",
   "metadata": {},
   "source": [
    "#### in"
   ]
  },
  {
   "cell_type": "markdown",
   "metadata": {},
   "source": [
    "`in` operator returns True if there's an element in the list that's equal to the given item, False otherwise."
   ]
  },
  {
   "cell_type": "code",
   "execution_count": 31,
   "metadata": {},
   "outputs": [
    {
     "name": "stdout",
     "output_type": "stream",
     "text": [
      "True\n",
      "False\n"
     ]
    }
   ],
   "source": [
    "S = {1, 2, 3}\n",
    "print(1 in S)\n",
    "print(4 in S)"
   ]
  },
  {
   "cell_type": "markdown",
   "metadata": {},
   "source": [
    "#### len(set)"
   ]
  },
  {
   "cell_type": "markdown",
   "metadata": {},
   "source": [
    "`len(set)` returns a length of the set"
   ]
  },
  {
   "cell_type": "code",
   "execution_count": 30,
   "metadata": {},
   "outputs": [
    {
     "name": "stdout",
     "output_type": "stream",
     "text": [
      "3\n"
     ]
    }
   ],
   "source": [
    "S = {1, 2, 3, 3, 3}\n",
    "print(len(S))"
   ]
  },
  {
   "cell_type": "markdown",
   "metadata": {},
   "source": [
    "#### min(set)"
   ]
  },
  {
   "cell_type": "markdown",
   "metadata": {},
   "source": [
    "`min(set)` returns a smallest item of the set"
   ]
  },
  {
   "cell_type": "code",
   "execution_count": 29,
   "metadata": {},
   "outputs": [
    {
     "name": "stdout",
     "output_type": "stream",
     "text": [
      "1\n"
     ]
    }
   ],
   "source": [
    "S = {1, 2, 3, 4, 5}\n",
    "print(min(S))"
   ]
  },
  {
   "cell_type": "markdown",
   "metadata": {},
   "source": [
    "#### max(set)"
   ]
  },
  {
   "cell_type": "markdown",
   "metadata": {},
   "source": [
    "`max(set)` returns a largest item of the set"
   ]
  },
  {
   "cell_type": "code",
   "execution_count": 28,
   "metadata": {},
   "outputs": [
    {
     "name": "stdout",
     "output_type": "stream",
     "text": [
      "5\n"
     ]
    }
   ],
   "source": [
    "S = {1, 2, 3, 4, 5}\n",
    "print(max(S))"
   ]
  },
  {
   "cell_type": "markdown",
   "metadata": {},
   "source": [
    "#### Other set operations"
   ]
  },
  {
   "cell_type": "markdown",
   "metadata": {},
   "source": [
    "| Set Operation | Description |\n",
    "| :- | :- |\n",
    "| A $|$ B |  Union (합집합) $A \\cup B$ |\n",
    "| A & B  |  Intersection (교집합) $A \\cap B$ | \n",
    "| A - B  |  Difference (차집합) $A - B$ | \n",
    "| A >= B |  Superset (같거나 상위집합) $A \\supseteq B$ | \n",
    "| A <= B |  Subset (같거나 부분집합) $A \\subseteq B$ | \n",
    "\n",
    "Please try to run following codes to see hot the methods work"
   ]
  },
  {
   "cell_type": "code",
   "execution_count": 27,
   "metadata": {},
   "outputs": [
    {
     "name": "stdout",
     "output_type": "stream",
     "text": [
      "{1, 2, 3, 4, 5, 6, 7, 8}\n",
      "{4, 5}\n",
      "{1, 2, 3}\n",
      "{8, 6, 7}\n",
      "False\n",
      "False\n",
      "True\n",
      "True\n"
     ]
    }
   ],
   "source": [
    "S1 = {1, 2, 3, 4, 5}\n",
    "S2 = {4, 5, 6, 7, 8}\n",
    "\n",
    "print(S1|S2)\n",
    "print(S1&S2)\n",
    "print(S1-S2)\n",
    "print(S2-S1)\n",
    "\n",
    "S1 = {1, 2, 3}\n",
    "S2 = {1, 2, 3, 4, 5}\n",
    "\n",
    "print(S1>S2)\n",
    "print(S1>=S2)\n",
    "print(S1<S2)\n",
    "print(S1<=S2)"
   ]
  },
  {
   "cell_type": "markdown",
   "metadata": {},
   "source": [
    "### 3.2 set methods"
   ]
  },
  {
   "cell_type": "markdown",
   "metadata": {},
   "source": [
    "\n",
    "\n",
    "| Method | Description |\n",
    "| :- | :- |\n",
    "| set.clear() |  Removes all the elements from the set |\n",
    "| set.copy() |  Returns a copy of the set |\n",
    "| set.add(x) |  Adds an element to the rest |\n",
    "| set.pop() | Removes any a random element from the set and returns the removed element. |\n",
    "| set.remove(x) | Removes the specified element |\n",
    "| set.difference(set) | Retruns a set containing the difference between sets |\n",
    "| set.intersection(set) | Returns a set, that is the intersection of two or more sets |\n",
    "| set.union(set) | Returns a set containing the union of sets |\n",
    "\n",
    "Please try to run following codes to see hot the methods work"
   ]
  },
  {
   "cell_type": "code",
   "execution_count": 26,
   "metadata": {},
   "outputs": [
    {
     "name": "stdout",
     "output_type": "stream",
     "text": [
      "set()\n"
     ]
    }
   ],
   "source": [
    "S = {1, 2, 3, 4, 5}\n",
    "S.clear()\n",
    "print(S)"
   ]
  },
  {
   "cell_type": "code",
   "execution_count": 25,
   "metadata": {},
   "outputs": [
    {
     "name": "stdout",
     "output_type": "stream",
     "text": [
      "{1, 2, 3, 4, 5} 2061738519456\n",
      "{1, 2, 3, 4, 5} 2061738519232\n"
     ]
    }
   ],
   "source": [
    "S = {1, 2, 3, 4, 5}\n",
    "S2 = S.copy()\n",
    "print(S, id(S))\n",
    "print(S2, id(S2))"
   ]
  },
  {
   "cell_type": "code",
   "execution_count": 24,
   "metadata": {},
   "outputs": [
    {
     "name": "stdout",
     "output_type": "stream",
     "text": [
      "{1, 2, 3, 4, 5, 6}\n"
     ]
    }
   ],
   "source": [
    "S = {1, 2, 3, 4, 5}\n",
    "S.add(6)\n",
    "print(S)"
   ]
  },
  {
   "cell_type": "code",
   "execution_count": 23,
   "metadata": {},
   "outputs": [
    {
     "name": "stdout",
     "output_type": "stream",
     "text": [
      "1\n",
      "{2, 3, 4, 5}\n"
     ]
    }
   ],
   "source": [
    "S = {1, 2, 3, 4, 5}\n",
    "value = S.pop()\n",
    "print(value)\n",
    "print(S)"
   ]
  },
  {
   "cell_type": "code",
   "execution_count": 22,
   "metadata": {},
   "outputs": [
    {
     "name": "stdout",
     "output_type": "stream",
     "text": [
      "{1, 2, 3, 4}\n"
     ]
    }
   ],
   "source": [
    "S = {1, 2, 3, 4, 5}\n",
    "S.remove(5)\n",
    "print(S)"
   ]
  },
  {
   "cell_type": "code",
   "execution_count": 21,
   "metadata": {},
   "outputs": [
    {
     "name": "stdout",
     "output_type": "stream",
     "text": [
      "{1, 2, 3}\n",
      "{8, 6, 7}\n"
     ]
    }
   ],
   "source": [
    "S1 = {1, 2, 3, 4, 5}\n",
    "S2 = {4, 5, 6, 7, 8}\n",
    "print(S1.difference(S2))\n",
    "\n",
    "S1 = {1, 2, 3, 4, 5}\n",
    "S2 = {4, 5, 6, 7, 8}\n",
    "print(S2.difference(S1))"
   ]
  },
  {
   "cell_type": "code",
   "execution_count": 20,
   "metadata": {},
   "outputs": [
    {
     "name": "stdout",
     "output_type": "stream",
     "text": [
      "{4, 5}\n",
      "{4, 5}\n"
     ]
    }
   ],
   "source": [
    "S1 = {1, 2, 3, 4, 5}\n",
    "S2 = {4, 5, 6, 7, 8}\n",
    "print(S1.intersection(S2))\n",
    "\n",
    "S1 = {1, 2, 3, 4, 5}\n",
    "S2 = {4, 5, 6, 7, 8}\n",
    "print(S2.intersection(S1))"
   ]
  },
  {
   "cell_type": "code",
   "execution_count": 19,
   "metadata": {},
   "outputs": [
    {
     "name": "stdout",
     "output_type": "stream",
     "text": [
      "{1, 2, 3, 4, 5, 6, 7, 8}\n",
      "{1, 2, 3, 4, 5, 6, 7, 8}\n"
     ]
    }
   ],
   "source": [
    "S1 = {1, 2, 3, 4, 5}\n",
    "S2 = {4, 5, 6, 7, 8}\n",
    "print(S1.union(S2))\n",
    "\n",
    "S1 = {1, 2, 3, 4, 5}\n",
    "S2 = {4, 5, 6, 7, 8}\n",
    "print(S2.union(S1))"
   ]
  },
  {
   "cell_type": "markdown",
   "metadata": {},
   "source": [
    "## 4. dict (Dictionary)"
   ]
  },
  {
   "cell_type": "markdown",
   "metadata": {},
   "source": [
    "- Dictionary is an ordered key & value pairs of data objects.\n",
    "- Dictionary is created using braces, colons, commas as {key: value, …}.\n",
    "- Dictionary cannot have duplicated keys.\n",
    "- Keys must be **immutable**, such as int, str, and tuple, **not list**\n",
    "- Dictionary is indexable by keys, not numbers, such as d[key]"
   ]
  },
  {
   "cell_type": "code",
   "execution_count": null,
   "metadata": {},
   "outputs": [],
   "source": [
    "score = dict()\n",
    "score[\"Park\"] = 100\n",
    "score[\"Lee\"] = 90\n",
    "print(score)"
   ]
  },
  {
   "cell_type": "code",
   "execution_count": null,
   "metadata": {},
   "outputs": [],
   "source": [
    "score = {\"Park\": 100, \"Lee\": 90}\n",
    "print(score[\"Park\"])\n",
    "print(score[0])  # error"
   ]
  },
  {
   "cell_type": "markdown",
   "metadata": {},
   "source": [
    "### 4.1 Operations"
   ]
  },
  {
   "cell_type": "markdown",
   "metadata": {},
   "source": [
    "#### in"
   ]
  },
  {
   "cell_type": "markdown",
   "metadata": {},
   "source": [
    "`in` operator returns True if there's one of keys for a dictionary is equal to the given item, False otherwise."
   ]
  },
  {
   "cell_type": "code",
   "execution_count": null,
   "metadata": {},
   "outputs": [],
   "source": [
    "D = {\"Park\": 100, \"Lee\": 90}\n",
    "print(\"Park\" in D)\n",
    "print(\"Kim\" in D)"
   ]
  },
  {
   "cell_type": "markdown",
   "metadata": {},
   "source": [
    "#### len(set)"
   ]
  },
  {
   "cell_type": "markdown",
   "metadata": {},
   "source": [
    "`len(dict)` returns a length of the dictionary"
   ]
  },
  {
   "cell_type": "code",
   "execution_count": 58,
   "metadata": {},
   "outputs": [
    {
     "name": "stdout",
     "output_type": "stream",
     "text": [
      "2\n"
     ]
    }
   ],
   "source": [
    "D = {\"Park\": 100, \"Lee\": 90}\n",
    "print(len(D))"
   ]
  },
  {
   "cell_type": "markdown",
   "metadata": {},
   "source": [
    "#### min(set)"
   ]
  },
  {
   "cell_type": "markdown",
   "metadata": {},
   "source": [
    "`min(dict)` returns a smallest key of the dictionary"
   ]
  },
  {
   "cell_type": "code",
   "execution_count": null,
   "metadata": {},
   "outputs": [],
   "source": [
    "D = {\"Park\": 100, \"Lee\": 90}\n",
    "print(min(D))"
   ]
  },
  {
   "cell_type": "markdown",
   "metadata": {},
   "source": [
    "#### max(set)"
   ]
  },
  {
   "cell_type": "markdown",
   "metadata": {},
   "source": [
    "`max(dict)` returns a largest key of the dictionary"
   ]
  },
  {
   "cell_type": "code",
   "execution_count": null,
   "metadata": {},
   "outputs": [],
   "source": [
    "D = {\"Park\": 100, \"Lee\": 90}\n",
    "print(max(D))"
   ]
  },
  {
   "cell_type": "markdown",
   "metadata": {},
   "source": [
    "### 4.2 dict methods"
   ]
  },
  {
   "cell_type": "markdown",
   "metadata": {},
   "source": [
    "\n",
    "\n",
    "| Method | Description |\n",
    "| :- | :- |\n",
    "| dict.clear() | Removes all the elements from the dictionary |\n",
    "| dict.copy() | Returns a copy of the dictionary |\n",
    "| dict.get(key) | Returns the value of the specified key, same as dict[key] |\n",
    "| dict.keys() | Returns a list containing the dictionary's keys |\n",
    "| dict.values(x) | Returns a list of all the values in the dictionary |\n",
    "| dict.items() | Returns a list containing a tuple for each key value pair |\n",
    "| dict.pop(key) | Removes the element with the specified key and return the value |\n",
    "| dict.setdefault(key, value) | Returns the value of the specified key. If the key does not exist, insert the key with the specified value and return the value |\n",
    "| dict.popitem() | Removes the last inserted key-value pair and return the pair |\n",
    "| dict.update(dict) | Updates the dictionary with the specified key-value pairs |\n",
    "\n",
    "Please try to run following codes to see hot the methods work"
   ]
  },
  {
   "cell_type": "code",
   "execution_count": 38,
   "metadata": {},
   "outputs": [
    {
     "name": "stdout",
     "output_type": "stream",
     "text": [
      "{}\n"
     ]
    }
   ],
   "source": [
    "D = {\"Park\": 100, \"Lee\": 90}\n",
    "D.clear()\n",
    "print(D)"
   ]
  },
  {
   "cell_type": "code",
   "execution_count": 39,
   "metadata": {},
   "outputs": [
    {
     "name": "stdout",
     "output_type": "stream",
     "text": [
      "{'Park': 100, 'Lee': 90} 2061737852096\n",
      "{'Park': 100, 'Lee': 90} 2061737527872\n"
     ]
    }
   ],
   "source": [
    "D = {\"Park\": 100, \"Lee\": 90}\n",
    "D2 = D.copy()\n",
    "print(D, id(D))\n",
    "print(D2, id(D2))"
   ]
  },
  {
   "cell_type": "code",
   "execution_count": 40,
   "metadata": {},
   "outputs": [
    {
     "name": "stdout",
     "output_type": "stream",
     "text": [
      "100\n"
     ]
    }
   ],
   "source": [
    "D = {\"Park\": 100, \"Lee\": 90}\n",
    "print(D.get(\"Park\"))  # sams as D[\"Park\"]"
   ]
  },
  {
   "cell_type": "code",
   "execution_count": 41,
   "metadata": {},
   "outputs": [
    {
     "name": "stdout",
     "output_type": "stream",
     "text": [
      "dict_keys(['Park', 'Lee'])\n",
      "['Park', 'Lee']\n"
     ]
    }
   ],
   "source": [
    "D = {\"Park\": 100, \"Lee\": 90}\n",
    "print(D.keys())\n",
    "print(list(D.keys()))"
   ]
  },
  {
   "cell_type": "code",
   "execution_count": 42,
   "metadata": {},
   "outputs": [
    {
     "name": "stdout",
     "output_type": "stream",
     "text": [
      "dict_values([100, 90])\n",
      "[100, 90]\n"
     ]
    }
   ],
   "source": [
    "D = {\"Park\": 100, \"Lee\": 90}\n",
    "print(D.values())\n",
    "print(list(D.values()))"
   ]
  },
  {
   "cell_type": "code",
   "execution_count": 43,
   "metadata": {},
   "outputs": [
    {
     "name": "stdout",
     "output_type": "stream",
     "text": [
      "dict_items([('Park', 100), ('Lee', 90)])\n",
      "[('Park', 100), ('Lee', 90)]\n"
     ]
    }
   ],
   "source": [
    "D = {\"Park\": 100, \"Lee\": 90}\n",
    "print(D.items())\n",
    "print(list(D.items()))"
   ]
  },
  {
   "cell_type": "code",
   "execution_count": 44,
   "metadata": {},
   "outputs": [
    {
     "name": "stdout",
     "output_type": "stream",
     "text": [
      "100\n",
      "{'Lee': 90}\n"
     ]
    }
   ],
   "source": [
    "D = {\"Park\": 100, \"Lee\": 90}\n",
    "item = D.pop(\"Park\")\n",
    "print(item)\n",
    "print(D)"
   ]
  },
  {
   "cell_type": "code",
   "execution_count": 45,
   "metadata": {},
   "outputs": [
    {
     "name": "stdout",
     "output_type": "stream",
     "text": [
      "100\n",
      "{'Park': 100, 'Lee': 90}\n",
      "99\n",
      "{'Park': 100, 'Lee': 90, 'Kim': 99}\n"
     ]
    }
   ],
   "source": [
    "D = {\"Park\": 100, \"Lee\": 90}\n",
    "item = D.setdefault(\"Park\", 99)  # \"Park\" is a key, so return its value\n",
    "print(item)\n",
    "print(D)\n",
    "\n",
    "D = {\"Park\": 100, \"Lee\": 90}\n",
    "item = D.setdefault(\"Kim\", 99)  # \"Kim\" is not a key yet, so insert this key-value pair and return its value\n",
    "print(item)\n",
    "print(D)"
   ]
  },
  {
   "cell_type": "code",
   "execution_count": 46,
   "metadata": {},
   "outputs": [
    {
     "name": "stdout",
     "output_type": "stream",
     "text": [
      "('Lee', 90)\n",
      "{'Park': 100}\n"
     ]
    }
   ],
   "source": [
    "D = {\"Park\": 100, \"Lee\": 90}\n",
    "item = D.popitem()\n",
    "print(item)\n",
    "print(D)"
   ]
  },
  {
   "cell_type": "code",
   "execution_count": 47,
   "metadata": {},
   "outputs": [
    {
     "name": "stdout",
     "output_type": "stream",
     "text": [
      "{'Park': 100, 'Lee': 90, 'Kim': 99}\n"
     ]
    }
   ],
   "source": [
    "D = {\"Park\": 100, \"Lee\": 90}\n",
    "D.update({\"Kim\": 99})  # same as D[\"Kim\"] = 99\n",
    "print(D)"
   ]
  },
  {
   "cell_type": "markdown",
   "metadata": {},
   "source": [
    "# Type casting between data types"
   ]
  },
  {
   "cell_type": "markdown",
   "metadata": {},
   "source": [
    "| Method | Description |\n",
    "| :- | :- |\n",
    "| str.split(separator) | Returns a list which consists of split substrings by the given separator (a default separator is one space) |\n",
    "| str.join(iterable) | Returns a string which is the concatenation of strings in an iterable object, such as a tuple, a list, a dictionary, and a set |\n",
    "| list(tuple)/tuple(list) | Returns a converted type of the given tuple/list |\n",
    "| tuple(str) / list(str) | Returns a tuple/list which consists of characters of the string as elements |\n",
    "| str(any object) | Returns a string as the object looks like |\n",
    "\n",
    "Please try to run following codes to see hot the methods work"
   ]
  },
  {
   "cell_type": "code",
   "execution_count": null,
   "metadata": {},
   "outputs": [],
   "source": [
    "names = \"Park Kim Lee\"\n",
    "name_list = names.split()\n",
    "print(name_list)\n",
    "\n",
    "names = \"Park\\nKim\\nLee\"\n",
    "name_list = names.split(\"\\n\")\n",
    "print(name_list)"
   ]
  },
  {
   "cell_type": "code",
   "execution_count": null,
   "metadata": {},
   "outputs": [],
   "source": [
    "name = (\"Park\", \"Sangkeun\")\n",
    "name_str = \", \".join(name)\n",
    "print(name_str, type(name_str))\n",
    "\n",
    "num = [\"010\", \"1234\", \"5678\"]\n",
    "num_str = \"-\".join(num)\n",
    "print(num_str, type(num_str))"
   ]
  },
  {
   "cell_type": "code",
   "execution_count": null,
   "metadata": {},
   "outputs": [],
   "source": [
    "T = (\"Hello\", 2022)\n",
    "L = list(T)\n",
    "print(L, type(L))\n",
    "\n",
    "L = [\"Hello\", 2022]\n",
    "T = tuple(L)\n",
    "print(T, type(T))"
   ]
  },
  {
   "cell_type": "code",
   "execution_count": null,
   "metadata": {},
   "outputs": [],
   "source": [
    "s = \"hello\"\n",
    "L = list(s)\n",
    "print(L, type(L))\n",
    "\n",
    "s = \"hello\"\n",
    "T = tuple(s)\n",
    "print(T, type(T))"
   ]
  },
  {
   "cell_type": "code",
   "execution_count": null,
   "metadata": {},
   "outputs": [],
   "source": [
    "names = ['Park', 'Kim']\n",
    "s = str(names)\n",
    "print(s, type(s))\n",
    "print(s[0:4])\n",
    "\n",
    "names = {\"Park\": 1, \"Lee\": 2}\n",
    "s = str(names)\n",
    "print(s, type(s))\n",
    "print(s[0:4])"
   ]
  }
 ],
 "metadata": {
  "kernelspec": {
   "display_name": "Python 3 (ipykernel)",
   "language": "python",
   "name": "python3"
  },
  "language_info": {
   "codemirror_mode": {
    "name": "ipython",
    "version": 3
   },
   "file_extension": ".py",
   "mimetype": "text/x-python",
   "name": "python",
   "nbconvert_exporter": "python",
   "pygments_lexer": "ipython3",
   "version": "3.9.13"
  }
 },
 "nbformat": 4,
 "nbformat_minor": 2
}
