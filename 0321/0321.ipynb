{
 "cells": [
  {
   "cell_type": "code",
   "execution_count": 1,
   "id": "a5f0a0ec",
   "metadata": {},
   "outputs": [
    {
     "name": "stdout",
     "output_type": "stream",
     "text": [
      "Hello World!\n"
     ]
    }
   ],
   "source": [
    "print(\"Hello World!\")"
   ]
  },
  {
   "cell_type": "markdown",
   "id": "a13b4e1a",
   "metadata": {},
   "source": [
    "#### 문자열이 변수를 포함하게 될 때 print(f\"contents{num}\") : "
   ]
  },
  {
   "cell_type": "code",
   "execution_count": 2,
   "id": "613e4d5d",
   "metadata": {},
   "outputs": [
    {
     "name": "stdout",
     "output_type": "stream",
     "text": [
      "a is 1\n",
      "a is 2\n"
     ]
    }
   ],
   "source": [
    "a=1\n",
    "print(f\"a is {a}\")\n",
    "a=2\n",
    "print(f\"a is {a}\")"
   ]
  },
  {
   "cell_type": "code",
   "execution_count": 4,
   "id": "07b6d110",
   "metadata": {},
   "outputs": [
    {
     "name": "stdout",
     "output_type": "stream",
     "text": [
      "This year is 2023 <class 'int'>\n"
     ]
    }
   ],
   "source": [
    "year = 2023\n",
    "sentence = f\"This year is {year}\"\n",
    "print(sentence, type(year))"
   ]
  },
  {
   "cell_type": "code",
   "execution_count": 5,
   "id": "806e1084",
   "metadata": {},
   "outputs": [
    {
     "name": "stdout",
     "output_type": "stream",
     "text": [
      "2955439105328 2955439105328 2955439105328\n"
     ]
    }
   ],
   "source": [
    "a = \"Hello\"\n",
    "b = a\n",
    "c = \"Hello\"\n",
    "print (id(a), id(b), id(c))"
   ]
  },
  {
   "cell_type": "code",
   "execution_count": 7,
   "id": "b21c8eb7",
   "metadata": {},
   "outputs": [
    {
     "name": "stdout",
     "output_type": "stream",
     "text": [
      "2955439105328 2955439105328 2955438864880\n"
     ]
    }
   ],
   "source": [
    "a=\"Hello\"\n",
    "b=a[:] # a[0:len(a):1]\n",
    "c=b[:]+\"123\"\n",
    "print (id(a), id(b), id(c))"
   ]
  },
  {
   "cell_type": "markdown",
   "id": "daccd419",
   "metadata": {},
   "source": [
    "#### Python은 특수기호가 포함되었을 때, 새로 저장하게 된다 : "
   ]
  },
  {
   "cell_type": "code",
   "execution_count": 9,
   "id": "f1924149",
   "metadata": {},
   "outputs": [
    {
     "name": "stdout",
     "output_type": "stream",
     "text": [
      "2955439118704 2955439118704 2955438875952\n"
     ]
    }
   ],
   "source": [
    "a = \"Hello#\"\n",
    "b = a\n",
    "c = \"Hello#\"\n",
    "print (id(a), id(b), id(c))"
   ]
  },
  {
   "cell_type": "markdown",
   "id": "ecf94905",
   "metadata": {},
   "source": [
    "#### Python은 -5 ~ 256까진 미리 메모리에 할당해둔다 : "
   ]
  },
  {
   "cell_type": "code",
   "execution_count": 10,
   "id": "8ab52b53",
   "metadata": {},
   "outputs": [
    {
     "name": "stdout",
     "output_type": "stream",
     "text": [
      "2955356498224 2955356498224\n"
     ]
    }
   ],
   "source": [
    "a = 1\n",
    "b = a\n",
    "print (id(a), id(b))"
   ]
  },
  {
   "cell_type": "code",
   "execution_count": 14,
   "id": "f5e5f571",
   "metadata": {},
   "outputs": [
    {
     "name": "stdout",
     "output_type": "stream",
     "text": [
      "2955438861392 2955438861392 2955438861296\n"
     ]
    }
   ],
   "source": [
    "a = 257\n",
    "b = a\n",
    "c = 257\n",
    "print (id(a), id(b), id(c))"
   ]
  },
  {
   "cell_type": "markdown",
   "id": "7326392d",
   "metadata": {},
   "source": [
    "#### 한줄에 256 이상의 한 값이 두 변수에 할당되었을 때 같은 주소를 가리키게 된다 : "
   ]
  },
  {
   "cell_type": "code",
   "execution_count": 17,
   "id": "3b492880",
   "metadata": {},
   "outputs": [
    {
     "name": "stdout",
     "output_type": "stream",
     "text": [
      "2955438861328 2955438861328\n"
     ]
    }
   ],
   "source": [
    "a, b = 999, 999\n",
    "print (id(a), id(b))"
   ]
  },
  {
   "cell_type": "code",
   "execution_count": 19,
   "id": "d3c3231e",
   "metadata": {},
   "outputs": [
    {
     "name": "stdout",
     "output_type": "stream",
     "text": [
      "2955439124848 2955439126576\n",
      "True\n",
      "False\n"
     ]
    }
   ],
   "source": [
    "a = \"Hello#\"\n",
    "b = \"Hello#\"\n",
    "print (id(a), id(b))\n",
    "print (a == b)\n",
    "print (a is b)"
   ]
  },
  {
   "cell_type": "code",
   "execution_count": 21,
   "id": "ea92a88a",
   "metadata": {},
   "outputs": [
    {
     "name": "stdout",
     "output_type": "stream",
     "text": [
      "['문동은', '주여정', '박연진', '하도영']\n",
      "['문동은', '박연진']\n"
     ]
    }
   ],
   "source": [
    "students = [\"문동은\", \"주여정\", \"박연진\", \"하도영\"]\n",
    "print(students[:])\n",
    "print(students[0:4:2])"
   ]
  },
  {
   "cell_type": "code",
   "execution_count": 24,
   "id": "b115fa3f",
   "metadata": {},
   "outputs": [
    {
     "name": "stdout",
     "output_type": "stream",
     "text": [
      "['안녕', 'World', 2023] [1.0, 'Hello'] ['안녕', 'World', 2023, 1.0, 'Hello'] ['안녕', 'World', 2023, '안녕', 'World', 2023]\n"
     ]
    }
   ],
   "source": [
    "var1=[\"안녕\",\"World\",2023]\n",
    "var2=[1.0,\"Hello\"]\n",
    "var3=var1+var2\n",
    "var4=var1*2\n",
    "print(var1, var2, var3, var4)"
   ]
  },
  {
   "cell_type": "code",
   "execution_count": 30,
   "id": "6457994e",
   "metadata": {},
   "outputs": [
    {
     "name": "stdout",
     "output_type": "stream",
     "text": [
      "녕 <class 'str'>\n",
      "d <class 'str'>\n",
      "[2, 3] <class 'list'>\n"
     ]
    },
    {
     "ename": "TypeError",
     "evalue": "'float' object is not subscriptable",
     "output_type": "error",
     "traceback": [
      "\u001b[1;31m---------------------------------------------------------------------------\u001b[0m",
      "\u001b[1;31mTypeError\u001b[0m                                 Traceback (most recent call last)",
      "\u001b[1;32m~\\AppData\\Local\\Temp\\ipykernel_2468\\587999316.py\u001b[0m in \u001b[0;36m<module>\u001b[1;34m\u001b[0m\n\u001b[0;32m      3\u001b[0m \u001b[0mprint\u001b[0m\u001b[1;33m(\u001b[0m\u001b[0mval\u001b[0m\u001b[1;33m[\u001b[0m\u001b[1;36m1\u001b[0m\u001b[1;33m]\u001b[0m\u001b[1;33m[\u001b[0m\u001b[1;33m-\u001b[0m\u001b[1;36m1\u001b[0m\u001b[1;33m]\u001b[0m\u001b[1;33m,\u001b[0m \u001b[0mtype\u001b[0m\u001b[1;33m(\u001b[0m\u001b[0mval\u001b[0m\u001b[1;33m[\u001b[0m\u001b[1;36m1\u001b[0m\u001b[1;33m]\u001b[0m\u001b[1;33m[\u001b[0m\u001b[1;33m-\u001b[0m\u001b[1;36m1\u001b[0m\u001b[1;33m]\u001b[0m\u001b[1;33m)\u001b[0m\u001b[1;33m)\u001b[0m\u001b[1;33m\u001b[0m\u001b[1;33m\u001b[0m\u001b[0m\n\u001b[0;32m      4\u001b[0m \u001b[0mprint\u001b[0m\u001b[1;33m(\u001b[0m\u001b[0mval\u001b[0m\u001b[1;33m[\u001b[0m\u001b[1;36m2\u001b[0m\u001b[1;33m]\u001b[0m\u001b[1;33m[\u001b[0m\u001b[1;36m1\u001b[0m\u001b[1;33m:\u001b[0m\u001b[1;33m]\u001b[0m\u001b[1;33m,\u001b[0m \u001b[0mtype\u001b[0m\u001b[1;33m(\u001b[0m\u001b[0mval\u001b[0m\u001b[1;33m[\u001b[0m\u001b[1;36m2\u001b[0m\u001b[1;33m]\u001b[0m\u001b[1;33m[\u001b[0m\u001b[1;36m1\u001b[0m\u001b[1;33m:\u001b[0m\u001b[1;33m]\u001b[0m\u001b[1;33m)\u001b[0m\u001b[1;33m)\u001b[0m\u001b[1;33m\u001b[0m\u001b[1;33m\u001b[0m\u001b[0m\n\u001b[1;32m----> 5\u001b[1;33m \u001b[0mprint\u001b[0m\u001b[1;33m(\u001b[0m\u001b[0mval\u001b[0m\u001b[1;33m[\u001b[0m\u001b[1;36m3\u001b[0m\u001b[1;33m]\u001b[0m\u001b[1;33m[\u001b[0m\u001b[1;36m0\u001b[0m\u001b[1;33m]\u001b[0m\u001b[1;33m,\u001b[0m \u001b[0mtype\u001b[0m\u001b[1;33m(\u001b[0m\u001b[0mval\u001b[0m\u001b[1;33m[\u001b[0m\u001b[1;36m3\u001b[0m\u001b[1;33m]\u001b[0m\u001b[1;33m[\u001b[0m\u001b[1;36m0\u001b[0m\u001b[1;33m]\u001b[0m\u001b[1;33m)\u001b[0m\u001b[1;33m)\u001b[0m\u001b[1;33m\u001b[0m\u001b[1;33m\u001b[0m\u001b[0m\n\u001b[0m",
      "\u001b[1;31mTypeError\u001b[0m: 'float' object is not subscriptable"
     ]
    }
   ],
   "source": [
    "val = [\"안녕\", \"World\", [1,2,3], 3.14]\n",
    "print(val[0][1],type(val[0][1]))\n",
    "print(val[1][-1], type(val[1][-1])) \n",
    "print(val[2][1:], type(val[2][1:]))\n",
    "print(val[3][0], type(val[3][0]))"
   ]
  },
  {
   "cell_type": "code",
   "execution_count": 35,
   "id": "7327eae8",
   "metadata": {},
   "outputs": [
    {
     "name": "stdout",
     "output_type": "stream",
     "text": [
      "2955438892544 2955439922560\n"
     ]
    }
   ],
   "source": [
    "students = [\"Park\", \"Kim\"]\n",
    "people = students.copy()\n",
    "print(id(students), id(people))"
   ]
  },
  {
   "cell_type": "code",
   "execution_count": null,
   "id": "227c537b",
   "metadata": {},
   "outputs": [],
   "source": []
  }
 ],
 "metadata": {
  "kernelspec": {
   "display_name": "Python 3 (ipykernel)",
   "language": "python",
   "name": "python3"
  },
  "language_info": {
   "codemirror_mode": {
    "name": "ipython",
    "version": 3
   },
   "file_extension": ".py",
   "mimetype": "text/x-python",
   "name": "python",
   "nbconvert_exporter": "python",
   "pygments_lexer": "ipython3",
   "version": "3.9.13"
  }
 },
 "nbformat": 4,
 "nbformat_minor": 5
}
