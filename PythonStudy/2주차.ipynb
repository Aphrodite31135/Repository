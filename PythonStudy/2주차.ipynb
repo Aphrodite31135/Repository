{
 "cells": [
  {
   "cell_type": "markdown",
   "metadata": {
    "id": "bR3fHywmGsni"
   },
   "source": [
    "##신입생 Python 스터디 2주차 문제"
   ]
  },
  {
   "cell_type": "markdown",
   "metadata": {
    "id": "SibDiQ51Gv6n"
   },
   "source": [
    "안녕하세요, 이번 학습 주차에는 5개의 문제가 과제로 나갑니다!<br>\n",
    "번호가 높은 문제일수록 난이도가 높아집니다<br>\n",
    "모든 문제를 정확하게 풀어내 최대득점을 획득하세요!<br>\n",
    "다음은 과제 제출의 Rule입니다....!<br>\n"
   ]
  },
  {
   "cell_type": "markdown",
   "metadata": {
    "id": "5UO0y5pnGxw1"
   },
   "source": [
    "1.문제에 지시된 사항을 지키지 않으면 출력결과와 상관없이 오답입니다.<br>\n",
    "2.모든 과제는 마감기한 이전에 제출해야합니다. 과제 마감기한은 배포일 7일 이후입니다.<br>(ex: 0319일에 과제 배포:: 0326일 23시 59분까지 과제를 제출하여야함)<br>\n",
    "3.문제별 답안은 VSCode상에서 에러 없이 실행되어야합니다.\n",
    "실행오류가 발생한 경우, 해당 문제는 오답으로 처리합니다.<br>\n",
    "4.문제마다 알려진 예제입력과 숨겨진 예제입력이 존재합니다. <br> 모든 예제에서 출력과 정답이 일치해야 감점이 없습니다.<br>\n",
    "\n",
    "그럼.... 파이팅입니다!"
   ]
  },
  {
   "cell_type": "markdown",
   "metadata": {
    "id": "xkmJsHb6GyUh"
   },
   "source": [
    "#**문제1**\n",
    "**리스트 인덱싱**<br>\n",
    "아래의 코드에는 x 변수에 리스트가 저장되어 있다. 리스트 인덱싱을 적절히 활용하여, \"성공\"을 출력해보자!\n",
    "###입력\n",
    "없음\n",
    "###출력\n",
    "첫 번째 줄에 \"성공\"을 출력하면 성공!(반드시 리스트 인덱싱을 활용하여야함)"
   ]
  },
  {
   "cell_type": "code",
   "execution_count": 3,
   "metadata": {
    "id": "ZUyt4CxeI0ZI"
   },
   "outputs": [
    {
     "name": "stdout",
     "output_type": "stream",
     "text": [
      "성공\n"
     ]
    }
   ],
   "source": [
    "x=[[],0,1,[1,2,3,[1,2,[\"성공\",1,2]]]]\n",
    "##답안 입력\n",
    "print(x[3][3][2][0])"
   ]
  },
  {
   "cell_type": "markdown",
   "metadata": {
    "id": "kss5LJ70JTPx"
   },
   "source": [
    "#**문제2**\n",
    "**저희 튜플에도 그런 값은 없습니다;**<br>\n",
    "아래의 코드에는 x 변수에  튜플이 저장되어 있다.<br> 튜플에는 26개의 알파벳 소문자 중 18개만이 요소로 존재한다.<br>입력으로 주어진 알파벳이 튜플에 존재하면 True를, 없다면 False를 리턴한다.\n",
    "###입력\n",
    "첫 번째 줄에 a-z중 한 개의 알파벳이 주어진다.\n",
    "###출력\n",
    "해당하는 값이 튜플에 있으면 True를, 없다면 False를 출력한다.\n",
    "###예제 입력1&nbsp;&nbsp;&nbsp;&nbsp;&nbsp;&nbsp;&nbsp;&nbsp;&nbsp;&nbsp;&nbsp;&nbsp;&nbsp;&nbsp;&nbsp;&nbsp;&nbsp;&nbsp;&nbsp;&nbsp;&nbsp;&nbsp;&nbsp;&nbsp;&nbsp;&nbsp;&nbsp;&nbsp;&nbsp;&nbsp;&nbsp;&nbsp;&nbsp;&nbsp;&nbsp;&nbsp;&nbsp;&nbsp;&nbsp;&nbsp;&nbsp;&nbsp;예제 출력1<br>\n",
    "c&nbsp;&nbsp;&nbsp;&nbsp;&nbsp;&nbsp;&nbsp;&nbsp;&nbsp;&nbsp;&nbsp;&nbsp;&nbsp;&nbsp;&nbsp;&nbsp;&nbsp;&nbsp;&nbsp;&nbsp;&nbsp;&nbsp;&nbsp;&nbsp;&nbsp;&nbsp;&nbsp;&nbsp;&nbsp;&nbsp;&nbsp;&nbsp;&nbsp;&nbsp;&nbsp;&nbsp;&nbsp;&nbsp;&nbsp;&nbsp;&nbsp;&nbsp;&nbsp;&nbsp;&nbsp;&nbsp;&nbsp;&nbsp;&nbsp;&nbsp;&nbsp;&nbsp;&nbsp;&nbsp;&nbsp;&nbsp;&nbsp;&nbsp;&nbsp;&nbsp;&nbsp;&nbsp;&nbsp;&nbsp;&nbsp;&nbsp;&nbsp;&nbsp;&nbsp;&nbsp;&nbsp;&nbsp;&nbsp;&nbsp;&nbsp;&nbsp;&nbsp;&nbsp;&nbsp;&nbsp;&nbsp;&nbsp;&nbsp;&nbsp;&nbsp;&nbsp;&nbsp;&nbsp;&nbsp;&nbsp;&nbsp;&nbsp;&nbsp;&nbsp;&nbsp;&nbsp;&nbsp;&nbsp;True\n",
    "###예제 입력2&nbsp;&nbsp;&nbsp;&nbsp;&nbsp;&nbsp;&nbsp;&nbsp;&nbsp;&nbsp;&nbsp;&nbsp;&nbsp;&nbsp;&nbsp;&nbsp;&nbsp;&nbsp;&nbsp;&nbsp;&nbsp;&nbsp;&nbsp;&nbsp;&nbsp;&nbsp;&nbsp;&nbsp;&nbsp;&nbsp;&nbsp;&nbsp;&nbsp;&nbsp;&nbsp;&nbsp;&nbsp;&nbsp;&nbsp;&nbsp;&nbsp;&nbsp;예제 출력2<br>\n",
    "f&nbsp;&nbsp;&nbsp;&nbsp;&nbsp;&nbsp;&nbsp;&nbsp;&nbsp;&nbsp;&nbsp;&nbsp;&nbsp;&nbsp;&nbsp;&nbsp;&nbsp;&nbsp;&nbsp;&nbsp;&nbsp;&nbsp;&nbsp;&nbsp;&nbsp;&nbsp;&nbsp;&nbsp;&nbsp;&nbsp;&nbsp;&nbsp;&nbsp;&nbsp;&nbsp;&nbsp;&nbsp;&nbsp;&nbsp;&nbsp;&nbsp;&nbsp;&nbsp;&nbsp;&nbsp;&nbsp;&nbsp;&nbsp;&nbsp;&nbsp;&nbsp;&nbsp;&nbsp;&nbsp;&nbsp;&nbsp;&nbsp;&nbsp;&nbsp;&nbsp;&nbsp;&nbsp;&nbsp;&nbsp;&nbsp;&nbsp;&nbsp;&nbsp;&nbsp;&nbsp;&nbsp;&nbsp;&nbsp;&nbsp;&nbsp;&nbsp;&nbsp;&nbsp;&nbsp;&nbsp;&nbsp;&nbsp;&nbsp;&nbsp;&nbsp;&nbsp;&nbsp;&nbsp;&nbsp;&nbsp;&nbsp;&nbsp;&nbsp;&nbsp;&nbsp;&nbsp;&nbsp;&nbsp;&nbsp;False"
   ]
  },
  {
   "cell_type": "code",
   "execution_count": 5,
   "metadata": {
    "id": "TC11XzaSLXjk"
   },
   "outputs": [
    {
     "name": "stdout",
     "output_type": "stream",
     "text": [
      "f\n",
      "False\n"
     ]
    }
   ],
   "source": [
    "x=('a','b','c','d','g','h','k','l','m','p','q','r','s','t','u','w','y','z')\n",
    "##답안 입력\n",
    "char=input()\n",
    "if(char in x) :\n",
    "    print(\"True\")\n",
    "else :\n",
    "    print(\"False\")"
   ]
  },
  {
   "cell_type": "markdown",
   "metadata": {
    "id": "8ji6AJMgL85d"
   },
   "source": [
    "#**문제3**\n",
    "**리스트활용**<br>\n",
    "아래의 코드에는 x 변수와 y 변수에 서로 다른 리스트가 저장되어 있다.<br> 이번 주차 스터디에서 배운 리스트 관련 함수들을 이용하여 새로운 리스트를 출력하자.<br>(새로운 변수를 선언하거나 x,y에 새로운 요소를 추가할 수 없음.<br> 함수를 이용하여 x,y에 존재하는 요소를 삭제하거나 순서를 바꾼뒤 통째로 z변수에 더하는 것만 허용함.)\n",
    "###입력\n",
    "없음\n",
    "###출력\n",
    "첫 번째 줄에 [1,2,3,9,8,7]을 출력하면 성공"
   ]
  },
  {
   "cell_type": "code",
   "execution_count": 6,
   "metadata": {
    "id": "TlC1u-6XNMRT"
   },
   "outputs": [
    {
     "name": "stdout",
     "output_type": "stream",
     "text": [
      "[1, 2, 3, 9, 8, 7]\n"
     ]
    }
   ],
   "source": [
    "x=[1,2,3,4]\n",
    "y=[7,8,9]\n",
    "z=[]\n",
    "##답변 시작\n",
    "z=x[0:3]+y[::-1]\n",
    "print(z)"
   ]
  },
  {
   "cell_type": "markdown",
   "metadata": {
    "id": "1T0nO9hwRQYp"
   },
   "source": [
    "#**문제4**\n",
    "**미세먼지 경보 시스템**<br>\n",
    "아래의 코드는 공공데이터포탈_에어코리아에서 다운 받을 수 있는 미세먼지 경보 시스템의 xml파일 데이터의 일부분을 x 변수에 딕셔너리 자료형으로 저장한 것이다.<br> 문자열을 입력받아 해당 값이 딕셔너리에 key 또는 value로 존재하는지 확인한다.\n",
    "\n",
    "###입력\n",
    "첫 번째 줄에 문자열을 입력받는다. 문자열은 공백 및 개행문자를 포함하지않는다.\n",
    "\n",
    "###출력\n",
    "입력받은 값이 딕셔너리에 key 또는 value로 존재하면 True를, 그렇지 않다면 False를 출력한다.\n",
    "\n",
    "###예제 입력1&nbsp;&nbsp;&nbsp;&nbsp;&nbsp;&nbsp;&nbsp;&nbsp;&nbsp;&nbsp;&nbsp;&nbsp;&nbsp;&nbsp;&nbsp;&nbsp;&nbsp;&nbsp;&nbsp;&nbsp;&nbsp;&nbsp;&nbsp;&nbsp;&nbsp;&nbsp;&nbsp;&nbsp;&nbsp;&nbsp;&nbsp;&nbsp;&nbsp;&nbsp;&nbsp;&nbsp;&nbsp;&nbsp;&nbsp;&nbsp;&nbsp;&nbsp;예제 출력1<br>\n",
    "clearVal&nbsp;&nbsp;&nbsp;&nbsp;&nbsp;&nbsp;&nbsp;&nbsp;&nbsp;&nbsp;&nbsp;&nbsp;&nbsp;&nbsp;&nbsp;&nbsp;&nbsp;&nbsp;&nbsp;&nbsp;&nbsp;&nbsp;&nbsp;&nbsp;&nbsp;&nbsp;&nbsp;&nbsp;&nbsp;&nbsp;&nbsp;&nbsp;&nbsp;&nbsp;&nbsp;&nbsp;&nbsp;&nbsp;&nbsp;&nbsp;&nbsp;&nbsp;&nbsp;&nbsp;&nbsp;&nbsp;&nbsp;&nbsp;&nbsp;&nbsp;&nbsp;&nbsp;&nbsp;&nbsp;&nbsp;&nbsp;&nbsp;&nbsp;&nbsp;&nbsp;&nbsp;&nbsp;&nbsp;&nbsp;&nbsp;&nbsp;&nbsp;&nbsp;&nbsp;&nbsp;&nbsp;&nbsp;&nbsp;&nbsp;&nbsp;&nbsp;&nbsp;&nbsp;&nbsp;&nbsp;&nbsp;&nbsp;&nbsp;&nbsp;&nbsp;&nbsp;True\n",
    "\n",
    "###예제 입력2&nbsp;&nbsp;&nbsp;&nbsp;&nbsp;&nbsp;&nbsp;&nbsp;&nbsp;&nbsp;&nbsp;&nbsp;&nbsp;&nbsp;&nbsp;&nbsp;&nbsp;&nbsp;&nbsp;&nbsp;&nbsp;&nbsp;&nbsp;&nbsp;&nbsp;&nbsp;&nbsp;&nbsp;&nbsp;&nbsp;&nbsp;&nbsp;&nbsp;&nbsp;&nbsp;&nbsp;&nbsp;&nbsp;&nbsp;&nbsp;&nbsp;&nbsp;예제 출력2<br>\n",
    "세종&nbsp;&nbsp;&nbsp;&nbsp;&nbsp;&nbsp;&nbsp;&nbsp;&nbsp;&nbsp;&nbsp;&nbsp;&nbsp;&nbsp;&nbsp;&nbsp;&nbsp;&nbsp;&nbsp;&nbsp;&nbsp;&nbsp;&nbsp;&nbsp;&nbsp;&nbsp;&nbsp;&nbsp;&nbsp;&nbsp;&nbsp;&nbsp;&nbsp;&nbsp;&nbsp;&nbsp;&nbsp;&nbsp;&nbsp;&nbsp;&nbsp;&nbsp;&nbsp;&nbsp;&nbsp;&nbsp;&nbsp;&nbsp;&nbsp;&nbsp;&nbsp;&nbsp;&nbsp;&nbsp;&nbsp;&nbsp;&nbsp;&nbsp;&nbsp;&nbsp;&nbsp;&nbsp;&nbsp;&nbsp;&nbsp;&nbsp;&nbsp;&nbsp;&nbsp;&nbsp;&nbsp;&nbsp;&nbsp;&nbsp;&nbsp;&nbsp;&nbsp;&nbsp;&nbsp;&nbsp;&nbsp;&nbsp;&nbsp;&nbsp;&nbsp;&nbsp;&nbsp;&nbsp;&nbsp;&nbsp;&nbsp;&nbsp;True\n",
    "\n",
    "###예제 입력3&nbsp;&nbsp;&nbsp;&nbsp;&nbsp;&nbsp;&nbsp;&nbsp;&nbsp;&nbsp;&nbsp;&nbsp;&nbsp;&nbsp;&nbsp;&nbsp;&nbsp;&nbsp;&nbsp;&nbsp;&nbsp;&nbsp;&nbsp;&nbsp;&nbsp;&nbsp;&nbsp;&nbsp;&nbsp;&nbsp;&nbsp;&nbsp;&nbsp;&nbsp;&nbsp;&nbsp;&nbsp;&nbsp;&nbsp;&nbsp;&nbsp;&nbsp;예제 출력3<br>\n",
    "서울시&nbsp;&nbsp;&nbsp;&nbsp;&nbsp;&nbsp;&nbsp;&nbsp;&nbsp;&nbsp;&nbsp;&nbsp;&nbsp;&nbsp;&nbsp;&nbsp;&nbsp;&nbsp;&nbsp;&nbsp;&nbsp;&nbsp;&nbsp;&nbsp;&nbsp;&nbsp;&nbsp;&nbsp;&nbsp;&nbsp;&nbsp;&nbsp;&nbsp;&nbsp;&nbsp;&nbsp;&nbsp;&nbsp;&nbsp;&nbsp;&nbsp;&nbsp;&nbsp;&nbsp;&nbsp;&nbsp;&nbsp;&nbsp;&nbsp;&nbsp;&nbsp;&nbsp;&nbsp;&nbsp;&nbsp;&nbsp;&nbsp;&nbsp;&nbsp;&nbsp;&nbsp;&nbsp;&nbsp;&nbsp;&nbsp;&nbsp;&nbsp;&nbsp;&nbsp;&nbsp;&nbsp;&nbsp;&nbsp;&nbsp;&nbsp;&nbsp;&nbsp;&nbsp;&nbsp;&nbsp;&nbsp;&nbsp;&nbsp;&nbsp;&nbsp;&nbsp;&nbsp;&nbsp;False"
   ]
  },
  {
   "cell_type": "code",
   "execution_count": 18,
   "metadata": {
    "id": "ufY-zWXiR74i"
   },
   "outputs": [
    {
     "name": "stdout",
     "output_type": "stream",
     "text": [
      "서울시\n",
      "False\n"
     ]
    }
   ],
   "source": [
    "x={'clearVal': '99', 'sn': '3519', 'districtName': '세종', 'dataDate': '2021-11-21', 'issueVal': '153', 'issueTime': '03:00', 'clearDate': '2021-11-21', 'issueDate': '2021-11-21', 'moveName': '세종권역', 'clearTime': '19:00', 'issueGbn': '주의보', 'itemCode': 'PM10'}\n",
    "##답변 시작\n",
    "name=input()\n",
    "if((name in x.values()) or (name in x.keys())) :\n",
    "    print(\"True\")\n",
    "else :\n",
    "    print(\"False\")"
   ]
  },
  {
   "cell_type": "markdown",
   "metadata": {
    "id": "TruwgiC-OT6G"
   },
   "source": [
    "#**문제5**\n",
    "**체(sifter)**<br>\n",
    "첫 번째 줄에는 5개의 정수가, 두 번째 줄에는 4개의 정수가 입력된다.<br>\n",
    "두 변수 x,y에 리스트로 각각 5개, 4개의 정수를 모두 저장한 뒤,<br> 두 개의 리스트에서 중복되는 값들을 새로운 리스트에 오른차순으로 담아 출력한다.\n",
    "\n",
    "###입력\n",
    "첫 번째 줄에 5개의 정수를 공백을 기준으로, <br>\n",
    "두 번째 줄에 4개의 정수를 공백을 기준으로 입력받는다.<br>(각각의 줄에 중복되는 정수는 입력되지 않는다)\n",
    "\n",
    "###출력\n",
    "두 리스트에서 중복되는 값 들을 오른차 순으로 정렬하여 리스트로 출력한다.\n",
    "\n",
    "###예제 입력1&nbsp;&nbsp;&nbsp;&nbsp;&nbsp;&nbsp;&nbsp;&nbsp;&nbsp;&nbsp;&nbsp;&nbsp;&nbsp;&nbsp;&nbsp;&nbsp;&nbsp;&nbsp;&nbsp;&nbsp;&nbsp;&nbsp;&nbsp;&nbsp;&nbsp;&nbsp;&nbsp;&nbsp;&nbsp;&nbsp;&nbsp;&nbsp;&nbsp;&nbsp;&nbsp;&nbsp;&nbsp;&nbsp;&nbsp;&nbsp;&nbsp;&nbsp;예제 출력1<br>1 3 5 7 9&nbsp;&nbsp;&nbsp;&nbsp;&nbsp;&nbsp;&nbsp;&nbsp;&nbsp;&nbsp;&nbsp;&nbsp;&nbsp;&nbsp;&nbsp;&nbsp;&nbsp;&nbsp;&nbsp;&nbsp;&nbsp;&nbsp;&nbsp;&nbsp;&nbsp;&nbsp;&nbsp;&nbsp;&nbsp;&nbsp;&nbsp;&nbsp;&nbsp;&nbsp;&nbsp;&nbsp;&nbsp;&nbsp;&nbsp;&nbsp;&nbsp;&nbsp;&nbsp;&nbsp;&nbsp;&nbsp;&nbsp;&nbsp;&nbsp;&nbsp;&nbsp;&nbsp;&nbsp;&nbsp;&nbsp;&nbsp;&nbsp;&nbsp;&nbsp;&nbsp;&nbsp;&nbsp;&nbsp;&nbsp;&nbsp;&nbsp;&nbsp;&nbsp;&nbsp;&nbsp;&nbsp;&nbsp;&nbsp;&nbsp;&nbsp;&nbsp;&nbsp;&nbsp;&nbsp;&nbsp;&nbsp;&nbsp;&nbsp;&nbsp;&nbsp;&nbsp;[1,3]<br>1 2 3 4\n",
    "\n",
    "###예제 입력2&nbsp;&nbsp;&nbsp;&nbsp;&nbsp;&nbsp;&nbsp;&nbsp;&nbsp;&nbsp;&nbsp;&nbsp;&nbsp;&nbsp;&nbsp;&nbsp;&nbsp;&nbsp;&nbsp;&nbsp;&nbsp;&nbs\n",
    "p;&nbsp;&nbsp;&nbsp;&nbsp;&nbsp;&nbsp;&nbsp;&nbsp;&nbsp;&nbsp;&nbsp;&nbsp;&nbsp;&nbsp;&nbsp;&nbsp;&nbsp;&nbsp;&nbsp;&nbsp;예제 출력2<br>1 3 5 7 9&nbsp;&nbsp;&nbsp;&nbsp;&nbsp;&nbsp;&nbsp;&nbsp;&nbsp;&nbsp;&nbsp;&nbsp;&nbsp;&nbsp;&nbsp;&nbsp;&nbsp;&nbsp;&nbsp;&nbsp;&nbsp;&nbsp;&nbsp;&nbsp;&nbsp;&nbsp;&nbsp;&nbsp;&nbsp;&nbsp;&nbsp;&nbsp;&nbsp;&nbsp;&nbsp;&nbsp;&nbsp;&nbsp;&nbsp;&nbsp;&nbsp;&nbsp;&nbsp;&nbsp;&nbsp;&nbsp;&nbsp;&nbsp;&nbsp;&nbsp;&nbsp;&nbsp;&nbsp;&nbsp;&nbsp;&nbsp;&nbsp;&nbsp;&nbsp;&nbsp;&nbsp;&nbsp;&nbsp;&nbsp;&nbsp;&nbsp;&nbsp;&nbsp;&nbsp;&nbsp;&nbsp;&nbsp;&nbsp;&nbsp;&nbsp;&nbsp;&nbsp;&nbsp;&nbsp;&nbsp;&nbsp;&nbsp;&nbsp;&nbsp;&nbsp;&nbsp;[]<br>2 4 6 8"
   ]
  },
  {
   "cell_type": "code",
   "execution_count": 19,
   "metadata": {
    "id": "xFU9S14nQs3X"
   },
   "outputs": [
    {
     "name": "stdout",
     "output_type": "stream",
     "text": [
      "1 3 5 7 9\n",
      "2 4 6 8\n",
      "[]\n"
     ]
    }
   ],
   "source": [
    "x=[]\n",
    "y=[]\n",
    "z=[]\n",
    "#답변 시작\n",
    "x=input().split(\" \")\n",
    "y=input().split(\" \")\n",
    "\n",
    "for i in range(len(x)) :\n",
    "    x[i]=int(x[i])\n",
    "for i in range(len(y)) :\n",
    "    y[i]=int(y[i])\n",
    "for i in range(len(x)) :\n",
    "    for j in range(i,len(y)) :\n",
    "        if(x[i]==y[j]) :\n",
    "            z.append(y[j])\n",
    "z.sort()\n",
    "print(z)"
   ]
  },
  {
   "cell_type": "code",
   "execution_count": null,
   "metadata": {},
   "outputs": [],
   "source": []
  }
 ],
 "metadata": {
  "colab": {
   "provenance": []
  },
  "kernelspec": {
   "display_name": "Python 3 (ipykernel)",
   "language": "python",
   "name": "python3"
  },
  "language_info": {
   "codemirror_mode": {
    "name": "ipython",
    "version": 3
   },
   "file_extension": ".py",
   "mimetype": "text/x-python",
   "name": "python",
   "nbconvert_exporter": "python",
   "pygments_lexer": "ipython3",
   "version": "3.9.13"
  }
 },
 "nbformat": 4,
 "nbformat_minor": 1
}
