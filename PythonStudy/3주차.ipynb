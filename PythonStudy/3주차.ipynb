{
 "cells": [
  {
   "attachments": {},
   "cell_type": "markdown",
   "metadata": {
    "id": "-HIPPutvqaYQ"
   },
   "source": [
    "##신입생 Python 스터디 1주차 문제"
   ]
  },
  {
   "attachments": {},
   "cell_type": "markdown",
   "metadata": {
    "id": "O_hn39goqe6z"
   },
   "source": [
    "안녕하세요, 이번 신입생 Python스터디에는 9개의 문제가 과제로 나갑니다!<br>\n",
    "모든 문제를 정확하게 풀어내 최대득점을 획득하세요!<br>\n",
    "다음은 과제 제출의 Rule입니다....!<br>\n"
   ]
  },
  {
   "attachments": {},
   "cell_type": "markdown",
   "metadata": {
    "id": "86Zrs2ySq7uD"
   },
   "source": [
    "1.문제에 지시된 사항을 지키지 않으면 출력결과와 상관없이 오답입니다.<br>\n",
    "2.모든 과제는 마감기한 이전에 제출해야합니다. 과제 마감기한은 배포일 7일 이후입니다.<br>(ex: 0321일에 과제 배포:: 0328일 23시 59분까지 과제를 제출해야 함)<br>\n",
    "3.문제별 답안은 VSCode상에서 에러 없이 실행되어야합니다.<br>\n",
    "실행오류가 발생한 경우, 해당 문제는 오답으로 처리합니다.<br>\n",
    "4.문제마다 알려진 예제입력과 숨겨진 예제입력이 존재합니다. <br> 모든 예제에서 출력과 정답이 일치해야 감점이 없습니다.<br>\n",
    "\n",
    "그럼.... 파이팅입니다!"
   ]
  },
  {
   "attachments": {},
   "cell_type": "markdown",
   "metadata": {
    "id": "NxD_v_lUtM7j"
   },
   "source": [
    "#**문제1**\n",
    "**구구단출력**<br>반복문을 이용하여 구구단 1단부터 9단까지 출력하는 프로그램을 작성하시오.<br>\n",
    "###입력\n",
    "없음<br>\n",
    "###출력예시\n",
    "1\\*1=1<br>\n",
    "1\\*2=2<br>\n",
    "1\\*3=3<br>\n",
    "1\\*4=4<br>\n",
    "1\\*5=5<br>\n",
    "1\\*6=6<br>\n",
    "1\\*7=7<br>\n",
    "1\\*8=8<br>\n",
    "1\\*9=9<br>\n",
    "2\\*1=2<br>\n",
    "2\\*2=4<br>\n",
    "2\\*3=6<br>\n",
    ".\n",
    ".\n",
    ".\n",
    "\n"
   ]
  },
  {
   "cell_type": "code",
   "execution_count": 1,
   "metadata": {
    "id": "RidrGU2JuR-T"
   },
   "outputs": [
    {
     "name": "stdout",
     "output_type": "stream",
     "text": [
      "1*1=1\n",
      "1*2=2\n",
      "1*3=3\n",
      "1*4=4\n",
      "1*5=5\n",
      "1*6=6\n",
      "1*7=7\n",
      "1*8=8\n",
      "1*9=9\n",
      "2*1=2\n",
      "2*2=4\n",
      "2*3=6\n",
      "2*4=8\n",
      "2*5=10\n",
      "2*6=12\n",
      "2*7=14\n",
      "2*8=16\n",
      "2*9=18\n",
      "3*1=3\n",
      "3*2=6\n",
      "3*3=9\n",
      "3*4=12\n",
      "3*5=15\n",
      "3*6=18\n",
      "3*7=21\n",
      "3*8=24\n",
      "3*9=27\n",
      "4*1=4\n",
      "4*2=8\n",
      "4*3=12\n",
      "4*4=16\n",
      "4*5=20\n",
      "4*6=24\n",
      "4*7=28\n",
      "4*8=32\n",
      "4*9=36\n",
      "5*1=5\n",
      "5*2=10\n",
      "5*3=15\n",
      "5*4=20\n",
      "5*5=25\n",
      "5*6=30\n",
      "5*7=35\n",
      "5*8=40\n",
      "5*9=45\n",
      "6*1=6\n",
      "6*2=12\n",
      "6*3=18\n",
      "6*4=24\n",
      "6*5=30\n",
      "6*6=36\n",
      "6*7=42\n",
      "6*8=48\n",
      "6*9=54\n",
      "7*1=7\n",
      "7*2=14\n",
      "7*3=21\n",
      "7*4=28\n",
      "7*5=35\n",
      "7*6=42\n",
      "7*7=49\n",
      "7*8=56\n",
      "7*9=63\n",
      "8*1=8\n",
      "8*2=16\n",
      "8*3=24\n",
      "8*4=32\n",
      "8*5=40\n",
      "8*6=48\n",
      "8*7=56\n",
      "8*8=64\n",
      "8*9=72\n",
      "9*1=9\n",
      "9*2=18\n",
      "9*3=27\n",
      "9*4=36\n",
      "9*5=45\n",
      "9*6=54\n",
      "9*7=63\n",
      "9*8=72\n",
      "9*9=81\n"
     ]
    }
   ],
   "source": [
    "#아래줄에 답변을 작성하시오.\n",
    "for i in range(1,10) :\n",
    "    for j in range(1,10) : \n",
    "        print(f\"{i}*{j}={i*j}\")"
   ]
  },
  {
   "attachments": {},
   "cell_type": "markdown",
   "metadata": {
    "id": "Ui8ympXPxKgV"
   },
   "source": [
    "#**문제2**\n",
    "**9와4분의3승강장**<br>\n",
    "영국 킹스크로스 역의 9번 승강장과 10번 승강장 사이에 있는 벽에는 마법사들만 통과할 수 있는 마법이 걸려있어, 마법사와 마법사가 끄는 짐수레만 들어갈 수 있다.\n",
    "<br> 마법사와 머글을 구분하여 9와4분의3승강장을 통과한 마법사의 횟수를 출력하는 프로그램을 작성하자."
   ]
  },
  {
   "attachments": {},
   "cell_type": "markdown",
   "metadata": {
    "id": "4bKSUulT0OF6"
   },
   "source": [
    "###입력\n",
    "첫째 줄에 n명의 사람 이름이 주어진다. 사람이 마법사인 경우는, 이름이 \"마법사\"로 시작한다.\n",
    "\n",
    "###출력\n",
    "첫째 줄에 입력받은 마법사의 수를 헤아려, 승강장을 통과한 사람의 수를 출력한다.\n",
    "\n",
    "###예제 입력1&nbsp;&nbsp;&nbsp;&nbsp;&nbsp;&nbsp;&nbsp;&nbsp;&nbsp;&nbsp;&nbsp;&nbsp;&nbsp;&nbsp;&nbsp;&nbsp;&nbsp;&nbsp;&nbsp;&nbsp;&nbsp;&nbsp;&nbsp;&nbsp;&nbsp;&nbsp;&nbsp;&nbsp;&nbsp;&nbsp;&nbsp;&nbsp;&nbsp;&nbsp;&nbsp;&nbsp;&nbsp;&nbsp;&nbsp;&nbsp;&nbsp;&nbsp;예제 출력1<br>\n",
    "\n",
    "마법사해리제임스포터&nbsp;&nbsp;&nbsp;&nbsp;&nbsp;&nbsp;&nbsp;&nbsp;&nbsp;&nbsp;&nbsp;&nbsp;&nbsp;&nbsp;&nbsp;&nbsp;&nbsp;&nbsp;&nbsp;&nbsp;&nbsp;&nbsp;&nbsp;&nbsp;&nbsp;&nbsp;&nbsp;&nbsp;&nbsp;&nbsp;&nbsp;&nbsp;&nbsp;&nbsp;&nbsp;&nbsp;&nbsp;&nbsp;&nbsp;4<br>송상현<br>마법사알버스덤블도어<br>마법사톰리들<br>홍길동<br>마법사세베루스스네이프\n"
   ]
  },
  {
   "cell_type": "code",
   "execution_count": 5,
   "metadata": {
    "id": "xV3Pnv9m5ysg"
   },
   "outputs": [
    {
     "name": "stdout",
     "output_type": "stream",
     "text": [
      "마법사해리제임스포터 송상현 마법사알버스덤블도어 마법사톰리들 홍길동\n",
      "3\n"
     ]
    }
   ],
   "source": [
    "#아래줄에 답변을 작성하시오.\n",
    "name = []\n",
    "name = input().split(\" \")\n",
    "magician = 0\n",
    "\n",
    "for i in range(len(name)) :\n",
    "    if(\"마법사\"in name[i]) :\n",
    "        magician+=1\n",
    "print(magician)"
   ]
  },
  {
   "attachments": {},
   "cell_type": "markdown",
   "metadata": {
    "id": "0AgxBYwAukJl"
   },
   "source": [
    "#**문제3**\n",
    "**피보나치 수열1**<br>\n",
    "\n",
    "피보나치 수열은 다음과 같은 점화식으로 정의되는 수열이다.<br>\n",
    "F(n+2)=F(n+1)+F(n) (단, n은 자연수)<br>\n",
    "첫 번째 피보나치 수F(1)와 두 번째 피보나치 수F(2)가 주어질 때,<br> n번째 피보나치 수를 출력하는 프로그램을 작성하자.<br>(단, 시간복잡도는 n이하여야한다. 시간 복잡도에 대한 설명은 다음의 링크 참고:: https://hanamon.kr/%EC%95%8C%EA%B3%A0%EB%A6%AC%EC%A6%98-time-complexity-%EC%8B%9C%EA%B0%84-%EB%B3%B5%EC%9E%A1%EB%8F%84/\n",
    "##입력\n",
    "첫 번째 줄에 차례대로 F(1),F(2),n값이 주어진다. n은 1이상의 정수이다.\n",
    "##출력\n",
    "첫 번째 줄에 n번째 피보나치 수를 출력한다.\n",
    "##예제 입력1&nbsp;&nbsp;&nbsp;&nbsp;&nbsp;&nbsp;&nbsp;&nbsp;&nbsp;&nbsp;&nbsp;&nbsp;&nbsp;&nbsp;&nbsp;&nbsp;&nbsp;&nbsp;&nbsp;&nbsp;&nbsp;&nbsp;&nbsp;&nbsp;&nbsp;&nbsp;&nbsp;&nbsp;&nbsp;&nbsp;&nbsp;&nbsp;&nbsp;&nbsp;&nbsp;&nbsp;&nbsp;&nbsp;&nbsp;&nbsp;&nbsp;&nbsp;예제 출력1<br>\n",
    "1 1 19&nbsp;&nbsp;&nbsp;&nbsp;&nbsp;&nbsp;&nbsp;&nbsp;&nbsp;&nbsp;&nbsp;&nbsp;&nbsp;&nbsp;&nbsp;&nbsp;&nbsp;&nbsp;&nbsp;&nbsp;&nbsp;&nbsp;&nbsp;&nbsp;&nbsp;&nbsp;&nbsp;&nbsp;&nbsp;&nbsp;&nbsp;&nbsp;&nbsp;&nbsp;&nbsp;&nbsp;&nbsp;&nbsp;&nbsp;&nbsp;&nbsp;&nbsp;&nbsp;&nbsp;&nbsp;&nbsp;&nbsp;&nbsp;&nbsp;&nbsp;&nbsp;&nbsp;&nbsp;&nbsp;&nbsp;&nbsp;&nbsp;&nbsp;&nbsp;&nbsp;&nbsp;&nbsp;&nbsp;&nbsp;&nbsp;&nbsp;&nbsp;&nbsp;&nbsp;&nbsp;&nbsp;&nbsp;&nbsp;&nbsp;&nbsp;&nbsp;&nbsp;&nbsp;&nbsp;4181\n",
    "\n",
    "\n"
   ]
  },
  {
   "cell_type": "code",
   "execution_count": 17,
   "metadata": {
    "id": "FHJ45KqX0oLU"
   },
   "outputs": [
    {
     "name": "stdout",
     "output_type": "stream",
     "text": [
      "F(n): 0\n",
      "F(n+1): 1\n",
      "출력할 n번째 피보나치 수: 8\n",
      "결과: 13\n"
     ]
    }
   ],
   "source": [
    "#아래줄에 답변을 작성하시오.\n",
    "x=int(input(\"F(n): \"))\n",
    "y=int(input(\"F(n+1): \"))\n",
    "n=int(input(\"출력할 n번째 피보나치 수: \"))\n",
    "result=0\n",
    "\n",
    "for i in range(n-2) :\n",
    "    result=x+y\n",
    "    x=y\n",
    "    y=result\n",
    "print(f\"결과: {result}\")"
   ]
  },
  {
   "attachments": {},
   "cell_type": "markdown",
   "metadata": {
    "id": "NNHBsffDxviq"
   },
   "source": [
    "# **문제4**\n",
    "**에라토스테네스의 체**<br>\n",
    "에라토스테네스의 체는, n이하의 소수를 모두 구할 때 매우 효율적인 알고리즘이다.<br>에라토스테네스의 체 알고리즘을 이용하여, n이하의 소수를 모두 출력하는 프로그램을 작성하자.\n",
    "###입력\n",
    "첫째 줄에 자연수 n이 주어진다.\n",
    "###출력\n",
    "첫째 줄에 n이하의 소수를 모두 출력한다. 출력할 소수가 한 개도 없다면 \"NaN\"을 출력한다.\n",
    "###예제 입력1&nbsp;&nbsp;&nbsp;&nbsp;&nbsp;&nbsp;&nbsp;&nbsp;&nbsp;&nbsp;&nbsp;&nbsp;&nbsp;&nbsp;&nbsp;&nbsp;&nbsp;&nbsp;&nbsp;&nbsp;&nbsp;&nbsp;&nbsp;&nbsp;&nbsp;&nbsp;&nbsp;&nbsp;&nbsp;&nbsp;&nbsp;&nbsp;&nbsp;&nbsp;&nbsp;&nbsp;&nbsp;&nbsp;&nbsp;&nbsp;&nbsp;&nbsp;예제 출력1<br>\n",
    "17&nbsp;&nbsp;&nbsp;&nbsp;&nbsp;&nbsp;&nbsp;&nbsp;&nbsp;&nbsp;&nbsp;&nbsp;&nbsp;&nbsp;&nbsp;&nbsp;&nbsp;&nbsp;&nbsp;&nbsp;&nbsp;&nbsp;&nbsp;&nbsp;&nbsp;&nbsp;&nbsp;&nbsp;&nbsp;&nbsp;&nbsp;&nbsp;&nbsp;&nbsp;&nbsp;&nbsp;&nbsp;&nbsp;&nbsp;&nbsp;&nbsp;&nbsp;&nbsp;&nbsp;&nbsp;&nbsp;&nbsp;&nbsp;&nbsp;&nbsp;&nbsp;&nbsp;&nbsp;&nbsp;&nbsp;&nbsp;&nbsp;&nbsp;&nbsp;&nbsp;&nbsp;&nbsp;&nbsp;&nbsp;&nbsp;&nbsp;&nbsp;&nbsp;&nbsp;&nbsp;&nbsp;2 3 5 7 11 13 17\n",
    "###예제 입력2&nbsp;&nbsp;&nbsp;&nbsp;&nbsp;&nbsp;&nbsp;&nbsp;&nbsp;&nbsp;&nbsp;&nbsp;&nbsp;&nbsp;&nbsp;&nbsp;&nbsp;&nbsp;&nbsp;&nbsp;&nbsp;&nbsp;&nbsp;&nbsp;&nbsp;&nbsp;&nbsp;&nbsp;&nbsp;&nbsp;&nbsp;&nbsp;&nbsp;&nbsp;&nbsp;&nbsp;&nbsp;&nbsp;&nbsp;&nbsp;&nbsp;&nbsp;예제 출력2<br>\n",
    "1&nbsp;&nbsp;&nbsp;&nbsp;&nbsp;&nbsp;&nbsp;&nbsp;&nbsp;&nbsp;&nbsp;&nbsp;&nbsp;&nbsp;&nbsp;&nbsp;&nbsp;&nbsp;&nbsp;&nbsp;&nbsp;&nbsp;&nbsp;&nbsp;&nbsp;&nbsp;&nbsp;&nbsp;&nbsp;&nbsp;&nbsp;&nbsp;&nbsp;&nbsp;&nbsp;&nbsp;&nbsp;&nbsp;&nbsp;&nbsp;&nbsp;&nbsp;&nbsp;&nbsp;&nbsp;&nbsp;&nbsp;&nbsp;&nbsp;&nbsp;&nbsp;&nbsp;&nbsp;&nbsp;&nbsp;&nbsp;&nbsp;&nbsp;&nbsp;&nbsp;&nbsp;&nbsp;&nbsp;&nbsp;&nbsp;&nbsp;&nbsp;&nbsp;&nbsp;&nbsp;&nbsp;&nbsp;&nbsp;&nbsp;NaN\n",
    "###더 알아보기\n",
    "에라토스테네스의 체는 n이하의 소수를 모두 구할 때에는 매우 효율적인 알고리즘이지만,<br> 특정 범위의 소수 한 개를 구하거나 어떤 수가 소수인지 판정할 때에는 그리 효율적인 알고리즘이 아니다.<br> 위와같은 상황에서 효율적으로 사용할 수 있는 알고리즘이 있을까?\n"
   ]
  },
  {
   "cell_type": "code",
   "execution_count": null,
   "metadata": {
    "id": "rlhWFr8d0p7O"
   },
   "outputs": [],
   "source": [
    "#아래줄에 답변을 작성하시오.\n",
    "nm1=int(input())\n",
    "for i in range(2,nm1+1) :\n",
    "    for j in range(2,i+1) :\n",
    "        if i%j==0 :"
   ]
  },
  {
   "attachments": {},
   "cell_type": "markdown",
   "metadata": {
    "id": "ZPSdxA6DDh_d"
   },
   "source": [
    "#**문제5**\n",
    "**모듈러블랙잭**<br>\n",
    "카지노에서 인기 있는 게임인 블랙잭의 규칙은 매우 쉽다. 주어진 n장의 카드 중 세 장의 카드를 골라, 세 장의 카드 수의 합이 21에 가장 가까운 사람이 승리한다.<br>\n",
    "상현이가 만든 모듈러블랙잭게임의 룰은 다음과 같다.<br>\"n장의 카드가 주어졌을 때, 세 장의 카드를 골라 21로 나눈 나머지(0~20)가 가장 작은 사람이 승리한다.\"\n",
    "n장의 카드가 주어질 때, 세 장을 조합하여 가장 작은 나머지를 출력하는 프로그램을 작성하자. \n",
    "###입력\n",
    "첫 번째 줄에 주어진 모든 카드에 쓰여있는 수가 주어진다.\n",
    "###출력\n",
    "세 장의 카드를 조합하여 가장 작은 나머지를 출력한다.\n",
    "###예제 입력1&nbsp;&nbsp;&nbsp;&nbsp;&nbsp;&nbsp;&nbsp;&nbsp;&nbsp;&nbsp;&nbsp;&nbsp;&nbsp;&nbsp;&nbsp;&nbsp;&nbsp;&nbsp;&nbsp;&nbsp;&nbsp;&nbsp;&nbsp;&nbsp;&nbsp;&nbsp;&nbsp;&nbsp;&nbsp;&nbsp;&nbsp;&nbsp;&nbsp;&nbsp;&nbsp;&nbsp;&nbsp;&nbsp;&nbsp;&nbsp;&nbsp;&nbsp;예제 출력1<br>\n",
    "3 5 7 9 11 13 15 17&nbsp;&nbsp;&nbsp;&nbsp;&nbsp;&nbsp;&nbsp;&nbsp;&nbsp;&nbsp;&nbsp;&nbsp;&nbsp;&nbsp;&nbsp;&nbsp;&nbsp;&nbsp;&nbsp;&nbsp;&nbsp;&nbsp;&nbsp;&nbsp;&nbsp;&nbsp;&nbsp;&nbsp;&nbsp;&nbsp;&nbsp;&nbsp;&nbsp;&nbsp;&nbsp;&nbsp;&nbsp;&nbsp;&nbsp;&nbsp;&nbsp;&nbsp;&nbsp;0<br>\n",
    "###예제 입력2&nbsp;&nbsp;&nbsp;&nbsp;&nbsp;&nbsp;&nbsp;&nbsp;&nbsp;&nbsp;&nbsp;&nbsp;&nbsp;&nbsp;&nbsp;&nbsp;&nbsp;&nbsp;&nbsp;&nbsp;&nbsp;&nbsp;&nbsp;&nbsp;&nbsp;&nbsp;&nbsp;&nbsp;&nbsp;&nbsp;&nbsp;&nbsp;&nbsp;&nbsp;&nbsp;&nbsp;&nbsp;&nbsp;&nbsp;&nbsp;&nbsp;&nbsp;예제 출력1<br>\n",
    "2 7 9 14 32&nbsp;&nbsp;&nbsp;&nbsp;&nbsp;&nbsp;&nbsp;&nbsp;&nbsp;&nbsp;&nbsp;&nbsp;&nbsp;&nbsp;&nbsp;&nbsp;&nbsp;&nbsp;&nbsp;&nbsp;&nbsp;&nbsp;&nbsp;&nbsp;&nbsp;&nbsp;&nbsp;&nbsp;&nbsp;&nbsp;&nbsp;&nbsp;&nbsp;&nbsp;&nbsp;&nbsp;&nbsp;&nbsp;&nbsp;&nbsp;&nbsp;&nbsp;&nbsp;&nbsp;&nbsp;&nbsp;&nbsp;&nbsp;&nbsp;&nbsp;&nbsp;&nbsp;&nbsp;&nbsp;&nbsp;&nbsp;&nbsp;1\n"
   ]
  },
  {
   "cell_type": "code",
   "execution_count": null,
   "metadata": {
    "id": "p5eZAqVIFnP-"
   },
   "outputs": [],
   "source": [
    "#아래줄에 답변을 작성하시오.\n"
   ]
  },
  {
   "attachments": {},
   "cell_type": "markdown",
   "metadata": {
    "id": "lVVvJi-kDVWE"
   },
   "source": [
    "#문제6\n",
    "**그리디백화점**<br>\n",
    "그리디 백화점은 현금결제로만 물건을 구매 할 수 있다.<br>언제나 그리디 백화점은 현금 결제 후  가장 적은 화폐의 개수로 거스름 돈을 준다.<br>\n",
    "예를 들면 다음과 같다. <br>그리디백화점 카운터에 50원이 6개,100원이 13개, 1000원이 4개 있고, 4650원을 나누어 줘야 한다면, 그리디백화점은 언제나 1000원 4개, 100원 6개, 50원 1개로 거스름 돈을 줄 것이다.<br>\n",
    "위와 같은 규칙으로, 손님이 받을 화폐의 개수를 출력하는 프로그램을 작성하자.\n"
   ]
  },
  {
   "attachments": {},
   "cell_type": "markdown",
   "metadata": {
    "id": "ff18jr8DrtfK"
   },
   "source": [
    "###입력\n",
    "첫 째 줄에 줘야하는 거스름돈이 입력된다.<br>\n",
    "둘 째 줄에는 아래와 같은 형식으로 카운터에 현재 있는 화폐의 종류와 수량이 입력된다. <br>각각의 화폐는 쉼표(,)를 통해 구분된다. 100:21,60:4,50:6,....\n",
    "###출력\n",
    "그리디백화점이 손님에게 줄 거스름돈의 최소화폐수를 출력한다.\n",
    "###예제 입력1&nbsp;&nbsp;&nbsp;&nbsp;&nbsp;&nbsp;&nbsp;&nbsp;&nbsp;&nbsp;&nbsp;&nbsp;&nbsp;&nbsp;&nbsp;&nbsp;&nbsp;&nbsp;&nbsp;&nbsp;&nbsp;&nbsp;&nbsp;&nbsp;&nbsp;&nbsp;&nbsp;&nbsp;&nbsp;&nbsp;&nbsp;&nbsp;&nbsp;&nbsp;&nbsp;&nbsp;&nbsp;&nbsp;&nbsp;&nbsp;&nbsp;&nbsp;예제 출력1<br>\n",
    "5730&nbsp;&nbsp;&nbsp;&nbsp;&nbsp;&nbsp;&nbsp;&nbsp;&nbsp;&nbsp;&nbsp;&nbsp;&nbsp;&nbsp;&nbsp;&nbsp;&nbsp;&nbsp;&nbsp;&nbsp;&nbsp;&nbsp;&nbsp;&nbsp;&nbsp;&nbsp;&nbsp;&nbsp;&nbsp;&nbsp;&nbsp;&nbsp;&nbsp;&nbsp;&nbsp;&nbsp;&nbsp;&nbsp;&nbsp;&nbsp;&nbsp;&nbsp;&nbsp;&nbsp;&nbsp;&nbsp;&nbsp;&nbsp;&nbsp;&nbsp;&nbsp;&nbsp;&nbsp;&nbsp;&nbsp;&nbsp;&nbsp;&nbsp;&nbsp;&nbsp;&nbsp;&nbsp;&nbsp;&nbsp;&nbsp;&nbsp;&nbsp;&nbsp;51<br>1000:2,100:21,60:71,50:90,10:100\n",
    "###예제 입력2&nbsp;&nbsp;&nbsp;&nbsp;&nbsp;&nbsp;&nbsp;&nbsp;&nbsp;&nbsp;&nbsp;&nbsp;&nbsp;&nbsp;&nbsp;&nbsp;&nbsp;&nbsp;&nbsp;&nbsp;&nbsp;&nbsp;&nbsp;&nbsp;&nbsp;&nbsp;&nbsp;&nbsp;&nbsp;&nbsp;&nbsp;&nbsp;&nbsp;&nbsp;&nbsp;&nbsp;&nbsp;&nbsp;&nbsp;&nbsp;&nbsp;&nbsp;예제 출력1<br>\n",
    "1170&nbsp;&nbsp;&nbsp;&nbsp;&nbsp;&nbsp;&nbsp;&nbsp;&nbsp;&nbsp;&nbsp;&nbsp;&nbsp;&nbsp;&nbsp;&nbsp;&nbsp;&nbsp;&nbsp;&nbsp;&nbsp;&nbsp;&nbsp;&nbsp;&nbsp;&nbsp;&nbsp;&nbsp;&nbsp;&nbsp;&nbsp;&nbsp;&nbsp;&nbsp;&nbsp;&nbsp;&nbsp;&nbsp;&nbsp;&nbsp;&nbsp;&nbsp;&nbsp;&nbsp;&nbsp;&nbsp;&nbsp;&nbsp;&nbsp;&nbsp;&nbsp;&nbsp;&nbsp;&nbsp;&nbsp;&nbsp;&nbsp;&nbsp;&nbsp;&nbsp;&nbsp;&nbsp;&nbsp;&nbsp;&nbsp;&nbsp;&nbsp;19<br>100:6,50:30,10:7\n",
    "##주의\n",
    "예제입력1에서 1000:2,100:21,60:26,50:1,10:2의 경우가 아닌,<br>1000:2,100:21,60:23,50:5의 경우가 정답임을 주의하자."
   ]
  },
  {
   "cell_type": "code",
   "execution_count": null,
   "metadata": {
    "id": "l4o35PuOsDz-"
   },
   "outputs": [],
   "source": [
    "#아래줄에 답변을 작성하시오.\n"
   ]
  }
 ],
 "metadata": {
  "colab": {
   "provenance": []
  },
  "kernelspec": {
   "display_name": "Python 3 (ipykernel)",
   "language": "python",
   "name": "python3"
  },
  "language_info": {
   "codemirror_mode": {
    "name": "ipython",
    "version": 3
   },
   "file_extension": ".py",
   "mimetype": "text/x-python",
   "name": "python",
   "nbconvert_exporter": "python",
   "pygments_lexer": "ipython3",
   "version": "3.9.13"
  }
 },
 "nbformat": 4,
 "nbformat_minor": 1
}
