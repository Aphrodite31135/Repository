{
 "cells": [
  {
   "cell_type": "markdown",
   "metadata": {
    "id": "-HIPPutvqaYQ"
   },
   "source": [
    "##신입생 Python 스터디 1주차 문제"
   ]
  },
  {
   "cell_type": "markdown",
   "metadata": {
    "id": "O_hn39goqe6z"
   },
   "source": [
    "안녕하세요, 이번 신입생 Python스터디에는 9개의 문제가 과제로 나갑니다!<br>\n",
    "모든 문제를 정확하게 풀어내 최대득점을 획득하세요!<br>\n",
    "다음은 과제 제출의 Rule입니다....!<br>\n"
   ]
  },
  {
   "cell_type": "markdown",
   "metadata": {
    "id": "86Zrs2ySq7uD"
   },
   "source": [
    "1.문제에 지시된 사항을 지키지 않으면 출력결과와 상관없이 오답입니다.<br>\n",
    "2.모든 과제는 마감기한 이전에 제출해야합니다. 과제 마감기한은 배포일 7일 이후입니다.<br>(ex: 0321일에 과제 배포:: 0328일 23시 59분까지 과제를 제출해야 함)<br>\n",
    "3.문제별 답안은 VSCode상에서 에러 없이 실행되어야합니다.<br>\n",
    "실행오류가 발생한 경우, 해당 문제는 오답으로 처리합니다.<br>\n",
    "4.문제마다 알려진 예제입력과 숨겨진 예제입력이 존재합니다. <br> 모든 예제에서 출력과 정답이 일치해야 감점이 없습니다.<br>\n",
    "\n",
    "그럼.... 파이팅입니다!"
   ]
  },
  {
   "cell_type": "markdown",
   "metadata": {
    "id": "NxD_v_lUtM7j"
   },
   "source": [
    "#**문제1**\n",
    "**Hello,World! 출력하기**<br>Hello,World!를 출력하는 프로그램을 작성하시오.<br>\n",
    "###입력\n",
    "없음<br>\n",
    "###출력\n",
    "첫째 줄에 Hello,World!를 출력한다."
   ]
  },
  {
   "cell_type": "code",
   "execution_count": 1,
   "metadata": {
    "id": "RidrGU2JuR-T"
   },
   "outputs": [
    {
     "name": "stdout",
     "output_type": "stream",
     "text": [
      "Hello,World!\n"
     ]
    }
   ],
   "source": [
    "#아래줄에 답변을 작성하시오.\n",
    "print(\"Hello,World!\")"
   ]
  },
  {
   "cell_type": "markdown",
   "metadata": {
    "id": "Ui8ympXPxKgV"
   },
   "source": [
    "#**문제2**\n",
    "**input함수**<br>\n",
    "Python에는 사용자로부터 입력을 받을 수 있는 여러 함수가 존재한다.<br> 그 중 가장 대표적인 함수는 input()함수이다.\n",
    "input()함수의 사용방법은 다음과 같다.\n"
   ]
  },
  {
   "cell_type": "code",
   "execution_count": 2,
   "metadata": {
    "id": "PemyKO-Fxwdf"
   },
   "outputs": [
    {
     "name": "stdout",
     "output_type": "stream",
     "text": [
      "아무 것이나 입력하세요:HelloWorld!\n",
      "HelloWorld!\n"
     ]
    }
   ],
   "source": [
    "a=input(\"아무 것이나 입력하세요:\")\n",
    "print(a)"
   ]
  },
  {
   "cell_type": "markdown",
   "metadata": {
    "id": "4bKSUulT0OF6"
   },
   "source": [
    "이 코드를 실행하면, \"아무것이나 입력하세요: \"라는 메시지가 출력되며 사용자는 문자열을 입력할 수 있습니다.<br> 입력한  값은 **문자열로** a변수에 저장된 후 출력됩니다.<br><br>\n",
    "사용자로부터 값을 입력 받아 거꾸로 출력하는 프로그램을 작성해 봅시다. \n",
    "###입력\n",
    "첫째 줄에 문자열 값이 주어진다.\n",
    "\n",
    "###출력\n",
    "첫째 줄에 입력한 문자열을 거꾸로 뒤집어 출력한다.\n",
    "\n",
    "###예제 입력1&nbsp;&nbsp;&nbsp;&nbsp;&nbsp;&nbsp;&nbsp;&nbsp;&nbsp;&nbsp;&nbsp;&nbsp;&nbsp;&nbsp;&nbsp;&nbsp;&nbsp;&nbsp;&nbsp;&nbsp;&nbsp;&nbsp;&nbsp;&nbsp;&nbsp;&nbsp;&nbsp;&nbsp;&nbsp;&nbsp;&nbsp;&nbsp;&nbsp;&nbsp;&nbsp;&nbsp;&nbsp;&nbsp;&nbsp;&nbsp;&nbsp;&nbsp;예제 출력1<br>\n",
    "소프트웨어융합학과&nbsp;&nbsp;&nbsp;&nbsp;&nbsp;&nbsp;&nbsp;&nbsp;&nbsp;&nbsp;&nbsp;&nbsp;&nbsp;&nbsp;&nbsp;&nbsp;&nbsp;&nbsp;&nbsp;&nbsp;&nbsp;&nbsp;&nbsp;&nbsp;&nbsp;&nbsp;&nbsp;&nbsp;&nbsp;&nbsp;&nbsp;&nbsp;&nbsp;&nbsp;&nbsp;&nbsp;&nbsp;&nbsp;&nbsp;&nbsp;&nbsp;&nbsp;&nbsp;&nbsp;&nbsp;&nbsp;&nbsp;&nbsp;&nbsp;&nbsp;&nbsp;&nbsp;&nbsp;과학합융어웨트프소<br>\n",
    "\n",
    "###예제 입력2&nbsp;&nbsp;&nbsp;&nbsp;&nbsp;&nbsp;&nbsp;&nbsp;&nbsp;&nbsp;&nbsp;&nbsp;&nbsp;&nbsp;&nbsp;&nbsp;&nbsp;&nbsp;&nbsp;&nbsp;&nbsp;&nbsp;&nbsp;&nbsp;&nbsp;&nbsp;&nbsp;&nbsp;&nbsp;&nbsp;&nbsp;&nbsp;&nbsp;&nbsp;&nbsp;&nbsp;&nbsp;&nbsp;&nbsp;&nbsp;&nbsp;&nbsp;예제 출력2<br>\n",
    "119&nbsp;&nbsp;&nbsp;&nbsp;&nbsp;&nbsp;&nbsp;&nbsp;&nbsp;&nbsp;&nbsp;&nbsp;&nbsp;&nbsp;&nbsp;&nbsp;&nbsp;&nbsp;&nbsp;&nbsp;&nbsp;&nbsp;&nbsp;&nbsp;&nbsp;&nbsp;&nbsp;&nbsp;&nbsp;&nbsp;&nbsp;&nbsp;&nbsp;&nbsp;&nbsp;&nbsp;&nbsp;&nbsp;&nbsp;&nbsp;&nbsp;&nbsp;&nbsp;&nbsp;&nbsp;&nbsp;&nbsp;&nbsp;&nbsp;&nbsp;&nbsp;&nbsp;&nbsp;&nbsp;&nbsp;&nbsp;&nbsp;&nbsp;&nbsp;&nbsp;&nbsp;&nbsp;&nbsp;&nbsp;&nbsp;&nbsp;&nbsp;&nbsp;&nbsp;&nbsp;&nbsp;&nbsp;&nbsp;&nbsp;&nbsp;&nbsp;&nbsp;&nbsp;&nbsp;&nbsp;&nbsp;&nbsp;&nbsp;911<br>"
   ]
  },
  {
   "cell_type": "code",
   "execution_count": 3,
   "metadata": {
    "id": "xV3Pnv9m5ysg",
    "scrolled": true
   },
   "outputs": [
    {
     "name": "stdout",
     "output_type": "stream",
     "text": [
      "소프트웨어융합학과\n",
      "과학합융어웨트프소\n"
     ]
    }
   ],
   "source": [
    "#아래줄에 답변을 작성하시오.\n",
    "a=input()\n",
    "print(a[::-1])"
   ]
  },
  {
   "cell_type": "markdown",
   "metadata": {
    "id": "0AgxBYwAukJl"
   },
   "source": [
    "#**문제3**\n",
    "**int, float 함수 알아보기**<br>\n",
    "int함수와 float함수는 Python의 내장 함수들이다.<br> 이 함수들의 동작을 정리하면 다음과 같다.<br>\n",
    "**int()**: 입력 파라메타로 전달받은 **문자열**이 숫자로만 이루어진 경우, 정수 타입으로 변환된 결과값을 반환한다. (예제: int( ``문자열`` ))<br>또한, 입력파라메타가 **실수 자료형**인 경우 소수점 아래를 버리고 정수 타입으로 변환하여 값을 반환한다.(예제: int( ``실수형`` ))<br>\n",
    "**float()**: 입력 파라메타로 전달받은 **문자열**이 숫자로만 이루어진 경우, 실수 타입으로 변환된 결과값으로 돌려준다. (예제: float( ``문자열`` ))<br>또한, 입력파라메타가 **정수 자료형**인 경우 실수 타입으로 변환하여 값을 반환한다.(예제: int( ``정수형`` ))<br>\n",
    "\n",
    "문제:두 변수 x,y에 문자열 형으로 사용자가 입력한 값을 입력받는다.<br> 이후, 두 변수의 형식을 숫자형으로 변환하여 x-y를 연산한 값을 출력한다. \n",
    "##입력\n",
    "첫 번째 줄에 x, 두 번째 줄에 y에 해당하는 값이 주어진다. x와 y는 \"1\",\"2\",\"3\",...과 같은 값이다.\n",
    "##출력\n",
    "첫 번째 줄에 숫자형으로 변환한 x,y변수의 차(x-y)를 출력한다.\n",
    "\n",
    "##예제 입력1&nbsp;&nbsp;&nbsp;&nbsp;&nbsp;&nbsp;&nbsp;&nbsp;&nbsp;&nbsp;&nbsp;&nbsp;&nbsp;&nbsp;&nbsp;&nbsp;&nbsp;&nbsp;&nbsp;&nbsp;&nbsp;&nbsp;&nbsp;&nbsp;&nbsp;&nbsp;&nbsp;&nbsp;&nbsp;&nbsp;&nbsp;&nbsp;&nbsp;&nbsp;&nbsp;&nbsp;&nbsp;&nbsp;&nbsp;&nbsp;&nbsp;&nbsp;예제 출력1<br>\n",
    "2&nbsp;&nbsp;&nbsp;&nbsp;&nbsp;&nbsp;&nbsp;&nbsp;&nbsp;&nbsp;&nbsp;&nbsp;&nbsp;&nbsp;&nbsp;&nbsp;&nbsp;&nbsp;&nbsp;&nbsp;&nbsp;&nbsp;&nbsp;&nbsp;&nbsp;&nbsp;&nbsp;&nbsp;&nbsp;&nbsp;&nbsp;&nbsp;&nbsp;&nbsp;&nbsp;&nbsp;&nbsp;&nbsp;&nbsp;&nbsp;&nbsp;&nbsp;&nbsp;&nbsp;&nbsp;&nbsp;&nbsp;&nbsp;&nbsp;&nbsp;&nbsp;&nbsp;&nbsp;&nbsp;&nbsp;&nbsp;&nbsp;&nbsp;&nbsp;&nbsp;&nbsp;&nbsp;&nbsp;&nbsp;&nbsp;&nbsp;&nbsp;&nbsp;&nbsp;&nbsp;&nbsp;&nbsp;&nbsp;&nbsp;&nbsp;&nbsp;&nbsp;&nbsp;&nbsp;&nbsp;&nbsp;&nbsp;&nbsp;&nbsp;&nbsp;&nbsp;&nbsp;&nbsp;1<br>1\n",
    "\n",
    "##예제 입력2&nbsp;&nbsp;&nbsp;&nbsp;&nbsp;&nbsp;&nbsp;&nbsp;&nbsp;&nbsp;&nbsp;&nbsp;&nbsp;&nbsp;&nbsp;&nbsp;&nbsp;&nbsp;&nbsp;&nbsp;&nbsp;&nbsp;&nbsp;&nbsp;&nbsp;&nbsp;&nbsp;&nbsp;&nbsp;&nbsp;&nbsp;&nbsp;&nbsp;&nbsp;&nbsp;&nbsp;&nbsp;&nbsp;&nbsp;&nbsp;&nbsp;&nbsp;예제 출력2<br>\n",
    "211&nbsp;&nbsp;&nbsp;&nbsp;&nbsp;&nbsp;&nbsp;&nbsp;&nbsp;&nbsp;&nbsp;&nbsp;&nbsp;&nbsp;&nbsp;&nbsp;&nbsp;&nbsp;&nbsp;&nbsp;&nbsp;&nbsp;&nbsp;&nbsp;&nbsp;&nbsp;&nbsp;&nbsp;&nbsp;&nbsp;&nbsp;&nbsp;&nbsp;&nbsp;&nbsp;&nbsp;&nbsp;&nbsp;&nbsp;&nbsp;&nbsp;&nbsp;&nbsp;&nbsp;&nbsp;&nbsp;&nbsp;&nbsp;&nbsp;&nbsp;&nbsp;&nbsp;&nbsp;&nbsp;&nbsp;&nbsp;&nbsp;&nbsp;&nbsp;&nbsp;&nbsp;&nbsp;&nbsp;&nbsp;&nbsp;&nbsp;&nbsp;&nbsp;&nbsp;&nbsp;&nbsp;&nbsp;&nbsp;&nbsp;&nbsp;&nbsp;&nbsp;&nbsp;&nbsp;&nbsp;&nbsp;&nbsp;&nbsp;100<br>111\n",
    "\n"
   ]
  },
  {
   "cell_type": "code",
   "execution_count": 4,
   "metadata": {
    "id": "FHJ45KqX0oLU"
   },
   "outputs": [
    {
     "name": "stdout",
     "output_type": "stream",
     "text": [
      "2\n",
      "1\n",
      "1\n"
     ]
    }
   ],
   "source": [
    "#아래줄에 답변을 작성하시오.\n",
    "x=int(input())\n",
    "y=int(input())\n",
    "print(x-y)"
   ]
  },
  {
   "cell_type": "markdown",
   "metadata": {
    "id": "NNHBsffDxviq"
   },
   "source": [
    "#**문제4**\n",
    "**실수 연산**<br>\n",
    "두 실수 A,B를 입력받고, A*B를 소수점 아래 세 번째 자리까지 출력하는 프로그램을 작성하시오.(단 B는 0으로 주어지지 않는다.)\n",
    "###입력\n",
    "첫째 줄에 A와 B가 주어진다. 형식은(A(공백)B)와 같다.\n",
    "###출력\n",
    "첫째 줄에 A*B를 소수점 아래 세 번째 자리까지 출력한다.(반올림하지 않는다.)\n",
    "###예제 입력1&nbsp;&nbsp;&nbsp;&nbsp;&nbsp;&nbsp;&nbsp;&nbsp;&nbsp;&nbsp;&nbsp;&nbsp;&nbsp;&nbsp;&nbsp;&nbsp;&nbsp;&nbsp;&nbsp;&nbsp;&nbsp;&nbsp;&nbsp;&nbsp;&nbsp;&nbsp;&nbsp;&nbsp;&nbsp;&nbsp;&nbsp;&nbsp;&nbsp;&nbsp;&nbsp;&nbsp;&nbsp;&nbsp;&nbsp;&nbsp;&nbsp;&nbsp;예제 출력1<br>\n",
    "0.01 3.360964&nbsp;&nbsp;&nbsp;&nbsp;&nbsp;&nbsp;&nbsp;&nbsp;&nbsp;&nbsp;&nbsp;&nbsp;&nbsp;&nbsp;&nbsp;&nbsp;&nbsp;&nbsp;&nbsp;&nbsp;&nbsp;&nbsp;&nbsp;&nbsp;&nbsp;&nbsp;&nbsp;&nbsp;&nbsp;&nbsp;&nbsp;&nbsp;&nbsp;&nbsp;&nbsp;&nbsp;&nbsp;&nbsp;&nbsp;&nbsp;&nbsp;&nbsp;&nbsp;&nbsp;&nbsp;&nbsp;&nbsp;&nbsp;&nbsp;&nbsp;&nbsp;&nbsp;&nbsp;&nbsp;&nbsp;&nbsp;&nbsp;&nbsp;&nbsp;&nbsp;&nbsp;&nbsp;&nbsp;0.033\n",
    "###예제 입력2&nbsp;&nbsp;&nbsp;&nbsp;&nbsp;&nbsp;&nbsp;&nbsp;&nbsp;&nbsp;&nbsp;&nbsp;&nbsp;&nbsp;&nbsp;&nbsp;&nbsp;&nbsp;&nbsp;&nbsp;&nbsp;&nbsp;&nbsp;&nbsp;&nbsp;&nbsp;&nbsp;&nbsp;&nbsp;&nbsp;&nbsp;&nbsp;&nbsp;&nbsp;&nbsp;&nbsp;&nbsp;&nbsp;&nbsp;&nbsp;&nbsp;&nbsp;예제 출력2<br>\n",
    "3.141592 3.14159265359&nbsp;&nbsp;&nbsp;&nbsp;&nbsp;&nbsp;&nbsp;&nbsp;&nbsp;&nbsp;&nbsp;&nbsp;&nbsp;&nbsp;&nbsp;&nbsp;&nbsp;&nbsp;&nbsp;&nbsp;&nbsp;&nbsp;&nbsp;&nbsp;&nbsp;&nbsp;&nbsp;&nbsp;&nbsp;&nbsp;&nbsp;&nbsp;&nbsp;&nbsp;&nbsp;&nbsp;&nbsp;&nbsp;&nbsp;&nbsp;&nbsp;&nbsp;&nbsp;9.869\n",
    "###힌트<br>\n",
    "한 줄에 값 여러개 입력 받는 방법을 모르겠다면..?<br><참고>\n",
    "https://uhhyunjoo.tistory.com/20"
   ]
  },
  {
   "cell_type": "code",
   "execution_count": 5,
   "metadata": {
    "id": "rlhWFr8d0p7O",
    "scrolled": false
   },
   "outputs": [
    {
     "name": "stdout",
     "output_type": "stream",
     "text": [
      "0.01 3.360964\n",
      "0.033\n"
     ]
    }
   ],
   "source": [
    "#아래줄에 답변을 작성하시오.\n",
    "a, b = input().split(\" \")\n",
    "a=float(a)\n",
    "b=float(b)\n",
    "print(\"%.3f\" %(int(a*b*1000)/1000))"
   ]
  },
  {
   "cell_type": "markdown",
   "metadata": {
    "id": "ZPSdxA6DDh_d"
   },
   "source": [
    "### **문제5**\n",
    "**문자열포매팅<br><br>**\n",
    "상현이는 어느날, 사과가 먹고 싶어 마트에 갔다. 마트에는 n개의 사과가 있었고, <br>배가 너무나도 고팠던 상현이는 사과를 모두 먹어버렸다. <br>상현이는 몇개의 사과를 먹었을까?\n",
    "###입력\n",
    "첫 번째 줄에 자연수 n이 주어진다.\n",
    "###출력\n",
    "\"상현이는 n개의 사과를 맛있게 먹었다!\"와 같이 문자열 포매팅을 이용하여 출력한다.<br>(format함수를 이용하지 않은 경우 오답)\n",
    "###예제 입력1&nbsp;&nbsp;&nbsp;&nbsp;&nbsp;&nbsp;&nbsp;&nbsp;&nbsp;&nbsp;&nbsp;&nbsp;&nbsp;&nbsp;&nbsp;&nbsp;&nbsp;&nbsp;&nbsp;&nbsp;&nbsp;&nbsp;&nbsp;&nbsp;&nbsp;&nbsp;&nbsp;&nbsp;&nbsp;&nbsp;&nbsp;&nbsp;&nbsp;&nbsp;&nbsp;&nbsp;&nbsp;&nbsp;&nbsp;&nbsp;&nbsp;&nbsp;예제 출력1<br>\n",
    "9&nbsp;&nbsp;&nbsp;&nbsp;&nbsp;&nbsp;&nbsp;&nbsp;&nbsp;&nbsp;&nbsp;&nbsp;&nbsp;&nbsp;&nbsp;&nbsp;&nbsp;&nbsp;&nbsp;&nbsp;&nbsp;&nbsp;&nbsp;&nbsp;&nbsp;&nbsp;&nbsp;&nbsp;&nbsp;&nbsp;&nbsp;&nbsp;&nbsp;&nbsp;&nbsp;&nbsp;&nbsp;&nbsp;&nbsp;&nbsp;&nbsp;&nbsp;&nbsp;&nbsp;&nbsp;&nbsp;&nbsp;&nbsp;&nbsp;&nbsp;&nbsp;&nbsp;&nbsp;&nbsp;&nbsp;&nbsp;&nbsp;&nbsp;&nbsp;&nbsp;&nbsp;&nbsp;&nbsp;&nbsp;&nbsp;&nbsp;&nbsp;&nbsp;&nbsp;&nbsp;&nbsp;&nbsp;&nbsp;&nbsp;&nbsp;&nbsp;&nbsp;&nbsp;&nbsp;&nbsp;&nbsp;&nbsp;&nbsp;&nbsp;&nbsp;&nbsp;&nbsp;상현이는 9개의 사과를 맛있게 먹었다!\n"
   ]
  },
  {
   "cell_type": "code",
   "execution_count": 6,
   "metadata": {
    "id": "p5eZAqVIFnP-"
   },
   "outputs": [
    {
     "name": "stdout",
     "output_type": "stream",
     "text": [
      "9\n",
      "상현이는 9개의 사과를 맛있게 먹었다!\n"
     ]
    }
   ],
   "source": [
    "#아래줄에 답변을 작성하시오.\n",
    "apple=int(input())\n",
    "string=\"상현이는 {}개의 사과를 맛있게 먹었다!\".format(apple)\n",
    "print(string)"
   ]
  },
  {
   "cell_type": "markdown",
   "metadata": {
    "id": "lVVvJi-kDVWE"
   },
   "source": [
    "#문제6\n",
    "**capslock해제**<br>\n",
    "상현이는 영어 과제를 하다가 caps lock이 걸려 있다는 사실을 까먹고 영어 단어의 대문자와 소문자를 바꿔서 적었다.<br>예를 들어 Apple을 aPPLE로 적어버렸다. 다행히 적은 문장은 길지 않았다. 상현이가 적은 문장은 다음과 같다.<br>"
   ]
  },
  {
   "cell_type": "code",
   "execution_count": null,
   "metadata": {
    "id": "VnHf7FzcrgjV"
   },
   "outputs": [],
   "source": [
    "x=\"wHAT dOESN'T kILL yOU mAKES yOU stronger\""
   ]
  },
  {
   "cell_type": "markdown",
   "metadata": {
    "id": "ff18jr8DrtfK"
   },
   "source": [
    "상현이가 원래 적으려 했던 문장을 출력하자.\n",
    "###입력\n",
    "없음\n",
    "###출력\n",
    "상현이가 원래 적으려 했던 문장(대소문자를 뒤바꾼 문장)을 오늘 배운 개념을 적절히 사용하여 출력하자."
   ]
  },
  {
   "cell_type": "code",
   "execution_count": 7,
   "metadata": {
    "id": "l4o35PuOsDz-",
    "scrolled": true
   },
   "outputs": [
    {
     "name": "stdout",
     "output_type": "stream",
     "text": [
      "What Doesn't Kill You Makes You STRONGER\n"
     ]
    }
   ],
   "source": [
    "x=\"wHAT dOESN'T kILL yOU mAKES yOU stronger\"\n",
    "#아래줄에 답변을 작성하시오.\n",
    "print(x.swapcase())"
   ]
  },
  {
   "cell_type": "markdown",
   "metadata": {
    "id": "wsfFq7ly6Aea"
   },
   "source": [
    "#**문제7**\n",
    "**반올림피자<br>**\n",
    "상현이는  반올림피자를 먹다가 문뜩<br> 조건문이나 round함수를 사용하지 않고도 반올림을 구현 할 수 있을 것<br> 같다는 생각을 하였다. 임의의 양의 실수값을 입력받아 <br> 반올림 한 정수를 출력하는 프로그램을 작성하자.\n",
    "###입력\n",
    "첫 번째 줄에 양의 실수값 n이 주어진다.\n",
    "###출력\n",
    "입력한 양의 실수값을 반올림하여 정수로 변환한 값을 출력한다(조건문이나 round함수 등을 이용하면 오답)\n",
    "###예제 입력1&nbsp;&nbsp;&nbsp;&nbsp;&nbsp;&nbsp;&nbsp;&nbsp;&nbsp;&nbsp;&nbsp;&nbsp;&nbsp;&nbsp;&nbsp;&nbsp;&nbsp;&nbsp;&nbsp;&nbsp;&nbsp;&nbsp;&nbsp;&nbsp;&nbsp;&nbsp;&nbsp;&nbsp;&nbsp;&nbsp;&nbsp;&nbsp;&nbsp;&nbsp;&nbsp;&nbsp;&nbsp;&nbsp;&nbsp;&nbsp;&nbsp;&nbsp;예제 출력1<br>\n",
    "3.14159265&nbsp;&nbsp;&nbsp;&nbsp;&nbsp;&nbsp;&nbsp;&nbsp;&nbsp;&nbsp;&nbsp;&nbsp;&nbsp;&nbsp;&nbsp;&nbsp;&nbsp;&nbsp;&nbsp;&nbsp;&nbsp;&nbsp;&nbsp;&nbsp;&nbsp;&nbsp;&nbsp;&nbsp;&nbsp;&nbsp;&nbsp;&nbsp;&nbsp;&nbsp;&nbsp;&nbsp;&nbsp;&nbsp;&nbsp;&nbsp;&nbsp;&nbsp;&nbsp;&nbsp;&nbsp;&nbsp;&nbsp;&nbsp;&nbsp;&nbsp;&nbsp;&nbsp;&nbsp;&nbsp;&nbsp;&nbsp;&nbsp;&nbsp;&nbsp;&nbsp;&nbsp;&nbsp;&nbsp;&nbsp;&nbsp;&nbsp;&nbsp;&nbsp;3\n",
    "###예제 입력2&nbsp;&nbsp;&nbsp;&nbsp;&nbsp;&nbsp;&nbsp;&nbsp;&nbsp;&nbsp;&nbsp;&nbsp;&nbsp;&nbsp;&nbsp;&nbsp;&nbsp;&nbsp;&nbsp;&nbsp;&nbsp;&nbsp;&nbsp;&nbsp;&nbsp;&nbsp;&nbsp;&nbsp;&nbsp;&nbsp;&nbsp;&nbsp;&nbsp;&nbsp;&nbsp;&nbsp;&nbsp;&nbsp;&nbsp;&nbsp;&nbsp;&nbsp;예제 출력2<br>\n",
    "2.71828182846&nbsp;&nbsp;&nbsp;&nbsp;&nbsp;&nbsp;&nbsp;&nbsp;&nbsp;&nbsp;&nbsp;&nbsp;&nbsp;&nbsp;&nbsp;&nbsp;&nbsp;&nbsp;&nbsp;&nbsp;&nbsp;&nbsp;&nbsp;&nbsp;&nbsp;&nbsp;&nbsp;&nbsp;&nbsp;&nbsp;&nbsp;&nbsp;&nbsp;&nbsp;&nbsp;&nbsp;&nbsp;&nbsp;&nbsp;&nbsp;&nbsp;&nbsp;&nbsp;&nbsp;&nbsp;&nbsp;&nbsp;&nbsp;&nbsp;&nbsp;&nbsp;&nbsp;&nbsp;&nbsp;&nbsp;&nbsp;&nbsp;&nbsp;&nbsp;&nbsp;&nbsp;3"
   ]
  },
  {
   "cell_type": "code",
   "execution_count": 8,
   "metadata": {
    "id": "KtvXLiN2uG1Y"
   },
   "outputs": [
    {
     "name": "stdout",
     "output_type": "stream",
     "text": [
      "3.14159265\n",
      "3\n"
     ]
    }
   ],
   "source": [
    "#아래줄에 답변을 작성하시오.\n",
    "a=float(input())\n",
    "print(int(a+0.5))"
   ]
  },
  {
   "cell_type": "markdown",
   "metadata": {
    "id": "Rlwcx1J70bdj"
   },
   "source": [
    "#**문제8**\n",
    "**1+1=.....2?**<br><br>\n",
    "Python에서 1+1은 당연히 2이다.<br> 그럼, 0.1+0.2는 0.3과 같을까?<br>또한, 1.5+0.5는 2.0와 같을까?<br> 직접 확인하자.\n",
    "\n"
   ]
  },
  {
   "cell_type": "code",
   "execution_count": 9,
   "metadata": {
    "colab": {
     "base_uri": "https://localhost:8080/"
    },
    "id": "5pafdJit6Hlw",
    "outputId": "814c4c5a-d2ea-4bf4-dc5a-2f1857d7ccec"
   },
   "outputs": [
    {
     "name": "stdout",
     "output_type": "stream",
     "text": [
      "False\n",
      "True\n"
     ]
    }
   ],
   "source": [
    "x,y,z=0.1,0.2,0.3\n",
    "a,b,c=1.5,0.5,2.0\n",
    "print(x+y==z)\n",
    "print(a+b==c)"
   ]
  },
  {
   "cell_type": "markdown",
   "metadata": {
    "id": "qmnIj0vf7GGp"
   },
   "source": [
    "우리는 방금 소수에서 ==을 이용하면 통념과는 다른 연산결과가 나타나는 것을 확인하였다.<br> 그렇다면, 어떤 방식으로 두 소수의 값을 비교해야 할까?<br> Python의 내장 함수에서는 두 실수를 수학적으로 비교할 수 있는 방법이 없다.<br> 그러나 파이썬 내장 라이브러리인 math 모듈을 이용하면 가능하다!<br>아래의 코드를 통해 그 방법을 이해하자.\n",
    "\n",
    "\n"
   ]
  },
  {
   "cell_type": "code",
   "execution_count": 10,
   "metadata": {
    "colab": {
     "base_uri": "https://localhost:8080/"
    },
    "id": "TA8s0qeNFp55",
    "outputId": "d30c7cb4-39e8-4f54-e3b3-35ab9b7afddf"
   },
   "outputs": [
    {
     "name": "stdout",
     "output_type": "stream",
     "text": [
      "False\n",
      "True\n"
     ]
    }
   ],
   "source": [
    "import math # math모듈을 사용하기 위해 이미 만들어진 math모듈을 불러오는 것이다.\n",
    "x,y,z=0.1,0.2,0.3\n",
    "print(x+y==z) #기존 연산방법:: x+y와 z가 같지않다는 뜻의 False가 출력된다.\n",
    "print(math.isclose(x+y,z)) #math 모듈의 isclose()함수를 이용한 계산방법. x+y와 z가 같다는 뜻의 True가 출력된다.\n",
    "#math 모듈의 isclose()함수를 사용하는 방법은 다음과 같다. \n",
    "#math.isclose(a,b)\n",
    "#비교할 두 수 a와 b를 ,로 구분하여 math.isclose()의 괄호 안에 삽입하면 된다!"
   ]
  },
  {
   "cell_type": "markdown",
   "metadata": {
    "id": "4yASIMQf4xcc"
   },
   "source": [
    "위의 코드에서 math.isclose()함수의 사용방법에 대해 알아보았다.<br>\n",
    "세 실수 a,b,c를 입력받아 a+b가 c와 수학적으로 같은지 출력하는 프로그램을 만들어 보자.\n",
    "\n",
    "###입력\n",
    "첫 번째 줄에 세 실수 a b c가 주어진다.\n",
    "###출력\n",
    "첫 번째 줄에 a+b와 c를 비교한 결과를 출력한다.<br> a+b와 c가 수학적으로 같다면 True를, 그렇지 않다면 False를 출력한다.\n",
    "###예제 입력1&nbsp;&nbsp;&nbsp;&nbsp;&nbsp;&nbsp;&nbsp;&nbsp;&nbsp;&nbsp;&nbsp;&nbsp;&nbsp;&nbsp;&nbsp;&nbsp;&nbsp;&nbsp;&nbsp;&nbsp;&nbsp;&nbsp;&nbsp;&nbsp;&nbsp;&nbsp;&nbsp;&nbsp;&nbsp;&nbsp;&nbsp;&nbsp;&nbsp;&nbsp;&nbsp;&nbsp;&nbsp;&nbsp;&nbsp;&nbsp;&nbsp;&nbsp;예제 출력1<br>\n",
    "0.01 3.32 3.33&nbsp;&nbsp;&nbsp;&nbsp;&nbsp;&nbsp;&nbsp;&nbsp;&nbsp;&nbsp;&nbsp;&nbsp;&nbsp;&nbsp;&nbsp;&nbsp;&nbsp;&nbsp;&nbsp;&nbsp;&nbsp;&nbsp;&nbsp;&nbsp;&nbsp;&nbsp;&nbsp;&nbsp;&nbsp;&nbsp;&nbsp;&nbsp;&nbsp;&nbsp;&nbsp;&nbsp;&nbsp;&nbsp;&nbsp;&nbsp;&nbsp;&nbsp;&nbsp;&nbsp;&nbsp;&nbsp;&nbsp;&nbsp;&nbsp;&nbsp;&nbsp;&nbsp;&nbsp;&nbsp;&nbsp;&nbsp;&nbsp;&nbsp;&nbsp;&nbsp;&nbsp;&nbsp;&nbsp;&nbsp;&nbsp;&nbsp;&nbsp;&nbsp;&nbsp;&nbsp;&nbsp;&nbsp;&nbsp;&nbsp;&nbsp;&nbsp;&nbsp;&nbsp;&nbsp;&nbsp;True\n",
    "###예제 입력2&nbsp;&nbsp;&nbsp;&nbsp;&nbsp;&nbsp;&nbsp;&nbsp;&nbsp;&nbsp;&nbsp;&nbsp;&nbsp;&nbsp;&nbsp;&nbsp;&nbsp;&nbsp;&nbsp;&nbsp;&nbsp;&nbsp;&nbsp;&nbsp;&nbsp;&nbsp;&nbsp;&nbsp;&nbsp;&nbsp;&nbsp;&nbsp;&nbsp;&nbsp;&nbsp;&nbsp;&nbsp;&nbsp;&nbsp;&nbsp;&nbsp;&nbsp;예제 출력2<br>\n",
    "3.1 -1.3 3.14&nbsp;&nbsp;&nbsp;&nbsp;&nbsp;&nbsp;&nbsp;&nbsp;&nbsp;&nbsp;&nbsp;&nbsp;&nbsp;&nbsp;&nbsp;&nbsp;&nbsp;&nbsp;&nbsp;&nbsp;&nbsp;&nbsp;&nbsp;&nbsp;&nbsp;&nbsp;&nbsp;&nbsp;&nbsp;&nbsp;&nbsp;&nbsp;&nbsp;&nbsp;&nbsp;&nbsp;&nbsp;&nbsp;&nbsp;&nbsp;&nbsp;&nbsp;&nbsp;&nbsp;&nbsp;&nbsp;&nbsp;&nbsp;&nbsp;&nbsp;&nbsp;&nbsp;&nbsp;&nbsp;&nbsp;&nbsp;&nbsp;&nbsp;&nbsp;&nbsp;&nbsp;&nbsp;&nbsp;&nbsp;&nbsp;&nbsp;&nbsp;&nbsp;&nbsp;&nbsp;&nbsp;&nbsp;&nbsp;&nbsp;&nbsp;&nbsp;&nbsp;&nbsp;&nbsp;&nbsp;&nbsp;&nbsp;&nbsp;False\n",
    "###더 알아보기\n",
    "1.Python은 기본적으로 고정소수점과 부동소수점 방식 중 부동소수점 방식으로 소수를 저장한다. <br> 두 방식의 차이는 무엇일까?<br>\n",
    "2.math.isclose(a,b)함수는 a와 b의 차이가 머신입실론 보다 작으면 True를, 크면 False를 반환한다.<br> 머신 입실론은 무엇일까?"
   ]
  },
  {
   "cell_type": "code",
   "execution_count": 11,
   "metadata": {
    "id": "Ek0N8ytt6_sE"
   },
   "outputs": [
    {
     "name": "stdout",
     "output_type": "stream",
     "text": [
      "0.01 3.32 3.33\n",
      "True\n"
     ]
    }
   ],
   "source": [
    "import math\n",
    "#아래줄에 답변을 작성하시오.\n",
    "a, b, c = input().split(\" \")\n",
    "a=float(a)\n",
    "b=float(b)\n",
    "c=float(c)\n",
    "print(math.isclose(a+b,c))\n",
    "# A1. 고정소수점 방식은 메모리에 10진수를 2진수로 변환한 것을\n",
    "#     그대로 입력하는 것이고, 부동소수점 방식은 메모리에 2진수로\n",
    "#     변환한 것을 정규화 시키는데, 이때 소수점의 위치를 옮기는 \n",
    "#     과정을 포함하여 메모리에 저장한다. \n",
    "# A2. 머신 입실론은 컴퓨터 내에서 소수를 메모리에 저장하는 \n",
    "#     과정에서 발생하는 작은 오차를 의미할 것이다. "
   ]
  },
  {
   "cell_type": "markdown",
   "metadata": {
    "id": "d2WuMzdOsPoL"
   },
   "source": [
    "#문제 9\n",
    "**도메인네임**<br>\n",
    "회사 홈페이지에 접속하려면 사이트 전용 비밀번호가 필요하다.<br>비밀번호는 회사 홈페이지의 url 주소를 기반으로 알아낼 수 있다.<br> 비밀번호를 알아내는 방법은 다음과 같다. <br>첫 째, url 주소에서 \"http://www.\"과 \".com\"를 제외하고 남은 부분을 도메인명이라고 부른다. <br>이 때, 도메인명의 첫 4개 글자와 도메인명의 알파벳 개수, 그리고 느낌표 1개를 순서대로 하나의 문자열로 만들면 비밀번호가 된다.<br> 예를 들어, url 주소가 \"http://www.naver.com\"이면, 도메인명은 \"naver\", 도메인의 첫 4개 글자는 \"nave\", 알파벳 개수는 5, 그리고 느낌표를 붙여서 비밀번호는 \"nave5!\"가 된다.<br>입력한 사이트의 전용 비밀번호를 찾아보자!\n",
    "###입력\n",
    "첫 번째 줄에 사이트의 url주소가 입력된다.<br>(단, url 주소는 항상 http://도메인명.com의 형식으로 주어지며, 도메인명은 항상 4글자 이상이다.)\n",
    "###출력\n",
    "첫 번째 줄에 입력한 사이트의 전용 비밀번호를 출력한다.\n",
    "###예제 입력1&nbsp;&nbsp;&nbsp;&nbsp;&nbsp;&nbsp;&nbsp;&nbsp;&nbsp;&nbsp;&nbsp;&nbsp;&nbsp;&nbsp;&nbsp;&nbsp;&nbsp;&nbsp;&nbsp;&nbsp;&nbsp;&nbsp;&nbsp;&nbsp;&nbsp;&nbsp;&nbsp;&nbsp;&nbsp;&nbsp;&nbsp;&nbsp;&nbsp;&nbsp;&nbsp;&nbsp;&nbsp;&nbsp;&nbsp;&nbsp;&nbsp;&nbsp;예제 출력1<br>\n",
    "http://google.com<br>&nbsp;&nbsp;&nbsp;&nbsp;&nbsp;&nbsp;&nbsp;&nbsp;&nbsp;&nbsp;&nbsp;&nbsp;&nbsp;&nbsp;&nbsp;&nbsp;&nbsp;&nbsp;&nbsp;&nbsp;&nbsp;&nbsp;&nbsp;&nbsp;&nbsp;&nbsp;&nbsp;&nbsp;&nbsp;&nbsp;&nbsp;&nbsp;&nbsp;&nbsp;&nbsp;&nbsp;&nbsp;&nbsp;&nbsp;&nbsp;&nbsp;&nbsp;&nbsp;&nbsp;&nbsp;&nbsp;&nbsp;&nbsp;&nbsp;&nbsp;&nbsp;&nbsp;&nbsp;&nbsp;&nbsp;&nbsp;&nbsp;&nbsp;&nbsp;&nbsp;&nbsp;&nbsp;&nbsp;&nbsp;&nbsp;&nbsp;&nbsp;&nbsp;&nbsp;&nbsp;&nbsp;&nbsp;&nbsp;&nbsp;&nbsp;&nbsp;&nbsp;&nbsp;&nbsp;&nbsp;&nbsp;&nbsp;&nbsp;&nbsp;&nbsp;&nbsp;&nbsp;&nbsp;&nbsp;&nbsp;&nbsp;&nbsp;&nbsp;&nbsp;&nbsp;&nbsp;&nbsp;&nbsp;&nbsp;&nbsp;&nbsp;&nbsp;goog6!\n",
    "###예제 입력2&nbsp;&nbsp;&nbsp;&nbsp;&nbsp;&nbsp;&nbsp;&nbsp;&nbsp;&nbsp;&nbsp;&nbsp;&nbsp;&nbsp;&nbsp;&nbsp;&nbsp;&nbsp;&nbsp;&nbsp;&nbsp;&nbsp;&nbsp;&nbsp;&nbsp;&nbsp;&nbsp;&nbsp;&nbsp;&nbsp;&nbsp;&nbsp;&nbsp;&nbsp;&nbsp;&nbsp;&nbsp;&nbsp;&nbsp;&nbsp;&nbsp;&nbsp;예제 출력2<br>\n",
    "http://apple.com<br>&nbsp;&nbsp;&nbsp;&nbsp;&nbsp;&nbsp;&nbsp;&nbsp;&nbsp;&nbsp;&nbsp;&nbsp;&nbsp;&nbsp;&nbsp;&nbsp;&nbsp;&nbsp;&nbsp;&nbsp;&nbsp;&nbsp;&nbsp;&nbsp;&nbsp;&nbsp;&nbsp;&nbsp;&nbsp;&nbsp;&nbsp;&nbsp;&nbsp;&nbsp;&nbsp;&nbsp;&nbsp;&nbsp;&nbsp;&nbsp;&nbsp;&nbsp;&nbsp;&nbsp;&nbsp;&nbsp;&nbsp;&nbsp;&nbsp;&nbsp;&nbsp;&nbsp;&nbsp;&nbsp;&nbsp;&nbsp;&nbsp;&nbsp;&nbsp;&nbsp;&nbsp;&nbsp;&nbsp;&nbsp;&nbsp;&nbsp;&nbsp;&nbsp;&nbsp;&nbsp;&nbsp;&nbsp;&nbsp;&nbsp;&nbsp;&nbsp;&nbsp;&nbsp;&nbsp;&nbsp;&nbsp;&nbsp;&nbsp;&nbsp;&nbsp;&nbsp;&nbsp;&nbsp;&nbsp;&nbsp;&nbsp;&nbsp;&nbsp;&nbsp;&nbsp;&nbsp;&nbsp;&nbsp;&nbsp;&nbsp;&nbsp;&nbsp;appl5!"
   ]
  },
  {
   "cell_type": "code",
   "execution_count": 12,
   "metadata": {
    "id": "rgki0ofluC8Z"
   },
   "outputs": [
    {
     "name": "stdout",
     "output_type": "stream",
     "text": [
      "http://google.com\n",
      "goog6!\n"
     ]
    }
   ],
   "source": [
    "#아래줄에 답변을 작성하시오.\n",
    "URL = input()\n",
    "URL = URL[7:]\n",
    "URL = URL[-5::-1]\n",
    "Domain = URL[::-1]\n",
    "Len_Domain = len(Domain)\n",
    "PW = Domain[0:4] + str(Len_Domain) + \"!\"\n",
    "print(PW)"
   ]
  }
 ],
 "metadata": {
  "colab": {
   "provenance": []
  },
  "kernelspec": {
   "display_name": "Python 3 (ipykernel)",
   "language": "python",
   "name": "python3"
  },
  "language_info": {
   "codemirror_mode": {
    "name": "ipython",
    "version": 3
   },
   "file_extension": ".py",
   "mimetype": "text/x-python",
   "name": "python",
   "nbconvert_exporter": "python",
   "pygments_lexer": "ipython3",
   "version": "3.10.9"
  }
 },
 "nbformat": 4,
 "nbformat_minor": 1
}
