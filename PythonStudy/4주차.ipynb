{
 "cells": [
  {
   "cell_type": "code",
   "execution_count": 16,
   "metadata": {},
   "outputs": [
    {
     "name": "stdout",
     "output_type": "stream",
     "text": [
      "10 + 10 = 20\n",
      "Bye~\n"
     ]
    }
   ],
   "source": [
    "def Add(nm1, nm2) :\n",
    "    print(f\"{nm1} + {nm2} = {nm1+nm2}\")\n",
    "def sub(nm1, nm2) :\n",
    "    print(f\"{nm1} - {nm2} = {nm1-nm2}\")\n",
    "def mul(nm1, nm2) :\n",
    "    print(f\"{nm1} * {nm2} = {nm1*nm2}\")\n",
    "def div(nm1, nm2) :\n",
    "    print(f\"{nm1} / {nm2} = {nm1/nm2}\")\n",
    "def mod(nm1, nm2) :\n",
    "    print(f\"{nm1} % {nm2} = {nm1%nm2}\")\n",
    "def flo(nm1, nm2) :\n",
    "    print(f\"{nm1} // {nm2} = {nm1//nm2}\")\n",
    "def exp(nm1, nm2) :\n",
    "    print(f\"{nm1} ** {nm2} = {nm1**nm2}\")\n",
    "\n",
    "select = 0\n",
    "while True :\n",
    "    select=int(input(\"1. 덧셈, 2. 뻴셈, 3. 곱셈, 4. 나눗셈, 5. 나머지, 6. 몫, 7. 제곱승, 8. 종료 : \"))\n",
    "    if select == 8 :\n",
    "        break\n",
    "    nm1 = int(input(\"첫 번째 숫자 입력 : \"))\n",
    "    nm2 = int(input(\"두 번째 숫자 입력 : \"))\n",
    "    if select == 1 :\n",
    "        Add(nm1,nm2)\n",
    "    elif select == 2:\n",
    "        sub(nm1, nm2)\n",
    "    elif select == 3:\n",
    "        mul(nm1, nm2)\n",
    "    elif select == 4 :\n",
    "        div(nm1,nm2)\n",
    "    elif select == 5 :\n",
    "        mod(nm1,nm2)\n",
    "    elif select == 6:\n",
    "        flo(nm1, nm2)\n",
    "    elif select == 7 :\n",
    "        exp(nm1,nm2)\n",
    "    else :\n",
    "        print(\"잘못 입력했습니다. 다시 입력하세요. \")\n",
    "print(\"Bye~\")"
   ]
  },
  {
   "cell_type": "code",
   "execution_count": null,
   "metadata": {},
   "outputs": [
    {
     "name": "stdout",
     "output_type": "stream",
     "text": [
      "90(km/h)속도로 2(h)시간 45(m)분 동안 이동한 거리 : 247.5(km)\n",
      "90(km/h)속도로 247.5(km) 이동한 시간 : 2(h)시간 45(m)분\n"
     ]
    }
   ],
   "source": [
    "def getDistance() :\n",
    "    km = int(input(\"속도(km/h) 입력 : \"))\n",
    "    h = int(input(\"시간(h) 입력: \"))\n",
    "    m = int(input(\"시간(m) 입력: \"))\n",
    "    print(f\"{km}(km/h)속도로 {h}(h)시간 {m}(m)분 동안 이동한 거리 : {km*(h+(m/60))}(km)\")\n",
    "def getTime() :\n",
    "    kmh = int(input(\"속도(km/h) 입력 : \"))\n",
    "    km = float(input(\"거리(km) 입력 : \"))\n",
    "    print(f\"{kmh}(km/h)속도로 {km}(km) 이동한 시간 : {int(km//kmh)}(h)시간 {int((km%kmh)/kmh*60)}(m)분\")\n",
    "\n",
    "getDistance()\n",
    "getTime()"
   ]
  },
  {
   "cell_type": "code",
   "execution_count": 32,
   "metadata": {},
   "outputs": [
    {
     "name": "stdout",
     "output_type": "stream",
     "text": [
      "유아 1명 요금 : 18,000원\n",
      "유아 할인 대상 1명 요금 : 9,000원\n",
      "=========================\n",
      "소아 2명 요금 : 50,000원\n",
      "소아 할인 대상 1명 요금 : 12,500원\n",
      "성인 2명 요금 : 100,000원\n",
      "성인 할인 대상 0명 요금 : 0원\n",
      "=========================\n",
      "total : 5명\n",
      "Total Price : 189,500원\n",
      "=========================\n"
     ]
    }
   ],
   "source": [
    "baby = int(input(\"유아 입력 : \"))\n",
    "dis_baby = int(input(\"할인 대상 유아 입력 : \"))\n",
    "young = int(input(\"소아 입력 : \"))\n",
    "dis_young = int(input(\"할인 대상 소아 입력 : \"))\n",
    "adult = int(input(\"성인 입력 : \"))\n",
    "dis_adult = int(input(\"할인 대상 성인 입력 : \"))    \n",
    "\n",
    "print(f\"유아 {baby}명 요금 : {format(18000*baby, ',')}원\")\n",
    "print(f\"유아 할인 대상 {dis_baby}명 요금 : {format(9000*dis_baby,',')}원\")\n",
    "print(\"=========================\")\n",
    "print(f\"소아 {young}명 요금 : {format(25000*young,',')}원\")\n",
    "print(f\"소아 할인 대상 {dis_young}명 요금 : {format(12500*dis_young,',')}원\")\n",
    "print(f\"성인 {adult}명 요금 : {format(50000*adult,',')}원\")\n",
    "print(f\"성인 할인 대상 {dis_adult}명 요금 : {format(25000*dis_adult,',')}원\")\n",
    "print(\"=========================\")\n",
    "print(f\"total : {baby+young+adult}명\")\n",
    "print(f\"Total Price : {format(dis_baby*18000+baby*9000+young*25000+dis_young*12500+adult*50000+dis_adult*25000,',')}원\")\n",
    "print(\"=========================\")"
   ]
  },
  {
   "cell_type": "code",
   "execution_count": 28,
   "metadata": {},
   "outputs": [
    {
     "name": "stdout",
     "output_type": "stream",
     "text": [
      "두 수 사이의 홀수는 다음과 같습니다. \n",
      "1 3 5 7 9 11 13 15 17 19 21 23 25 27 29 31 33 35 37 39 41 43 45 47 49 51 53 55 57 59 "
     ]
    }
   ],
   "source": [
    "def refunc(nm1, nm2) :\n",
    "    if nm2 <= nm1 :\n",
    "        return\n",
    "    if nm1%2 == 0 :\n",
    "        refunc(nm1+1, nm2)\n",
    "    else :\n",
    "        print(nm1, end = \" \")\n",
    "        refunc(nm1+2,nm2)\n",
    "nm1 = int(input(\"첫 번째 숫자를 입력하세요: \"))\n",
    "nm2 = int(input(\"두 번째 숫자를 입력하세요: \"))\n",
    "print(\"두 수 사이의 홀수는 다음과 같습니다. \")\n",
    "if nm1 > nm2 :\n",
    "    refunc(nm2, nm1)\n",
    "else :\n",
    "    refunc(nm1, nm2)"
   ]
  }
 ],
 "metadata": {
  "kernelspec": {
   "display_name": "Python 3",
   "language": "python",
   "name": "python3"
  },
  "language_info": {
   "codemirror_mode": {
    "name": "ipython",
    "version": 3
   },
   "file_extension": ".py",
   "mimetype": "text/x-python",
   "name": "python",
   "nbconvert_exporter": "python",
   "pygments_lexer": "ipython3",
   "version": "3.11.2"
  },
  "orig_nbformat": 4
 },
 "nbformat": 4,
 "nbformat_minor": 2
}
