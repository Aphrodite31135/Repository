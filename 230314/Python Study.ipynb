{
 "cells": [
  {
   "cell_type": "markdown",
   "id": "4fa24de0",
   "metadata": {},
   "source": [
    "### 복소수 지칭 하는 법 : \n",
    "복소수는 j로 지칭 ex) 4 + 6j\n",
    "\n",
    "정수끼리 나누어도 n.n 형태로 나옴"
   ]
  },
  {
   "cell_type": "code",
   "execution_count": 1,
   "id": "00f49edf",
   "metadata": {},
   "outputs": [
    {
     "ename": "ValueError",
     "evalue": "invalid literal for int() with base 10: '2022.09'",
     "output_type": "error",
     "traceback": [
      "\u001b[1;31m---------------------------------------------------------------------------\u001b[0m",
      "\u001b[1;31mValueError\u001b[0m                                Traceback (most recent call last)",
      "\u001b[1;32m~\\AppData\\Local\\Temp\\ipykernel_1892\\100181791.py\u001b[0m in \u001b[0;36m<module>\u001b[1;34m\u001b[0m\n\u001b[0;32m      1\u001b[0m \u001b[0ma\u001b[0m\u001b[1;33m=\u001b[0m\u001b[1;34m\"2022.09\"\u001b[0m\u001b[1;33m\u001b[0m\u001b[1;33m\u001b[0m\u001b[0m\n\u001b[1;32m----> 2\u001b[1;33m \u001b[0ma\u001b[0m\u001b[1;33m=\u001b[0m\u001b[0mint\u001b[0m\u001b[1;33m(\u001b[0m\u001b[0ma\u001b[0m\u001b[1;33m)\u001b[0m\u001b[1;33m\u001b[0m\u001b[1;33m\u001b[0m\u001b[0m\n\u001b[0m\u001b[0;32m      3\u001b[0m \u001b[0mprint\u001b[0m\u001b[1;33m(\u001b[0m\u001b[0ma\u001b[0m\u001b[1;33m)\u001b[0m\u001b[1;33m\u001b[0m\u001b[1;33m\u001b[0m\u001b[0m\n",
      "\u001b[1;31mValueError\u001b[0m: invalid literal for int() with base 10: '2022.09'"
     ]
    }
   ],
   "source": [
    "a=\"2022.09\"\n",
    "a=int(a)\n",
    "print(a)"
   ]
  },
  {
   "cell_type": "code",
   "execution_count": 2,
   "id": "372f5b09",
   "metadata": {},
   "outputs": [
    {
     "name": "stdout",
     "output_type": "stream",
     "text": [
      "2022.09\n",
      "2022\n"
     ]
    }
   ],
   "source": [
    "a='2022.09'\n",
    "a=float(a)\n",
    "print(a)\n",
    "a=int(a)\n",
    "print(a)"
   ]
  },
  {
   "cell_type": "code",
   "execution_count": 3,
   "id": "8c73d684",
   "metadata": {},
   "outputs": [
    {
     "name": "stdout",
     "output_type": "stream",
     "text": [
      "python\n",
      "파이선\n",
      "QWER\n",
      "I love \"python\".\n",
      "I love 'python'.\n",
      "I love \"python\".\n"
     ]
    }
   ],
   "source": [
    "a='python'\n",
    "print(a)\n",
    "b=\"파이선\"\n",
    "print(b)\n",
    "c=\"\"\"QWER\"\"\"\n",
    "print(c)\n",
    "a='I love \"python\".' # '' 와 \"\" 내부에서 서로 다른 것을 사용해도 무관\n",
    "print (a)\n",
    "b=\"I love 'python'.\" \n",
    "print(b)\n",
    "c='''I love \"python\".'''\n",
    "print(c)\n",
    "a=\"\"\"I love 'python'.\"\"\""
   ]
  },
  {
   "cell_type": "code",
   "execution_count": 4,
   "id": "c0e857cd",
   "metadata": {},
   "outputs": [
    {
     "name": "stdout",
     "output_type": "stream",
     "text": [
      "2022 <class 'int'>\n",
      "2022 <class 'str'>\n"
     ]
    }
   ],
   "source": [
    "s=\"2022\"\n",
    "s=int(s)\n",
    "print(s,type(s))\n",
    "s=str(s)\n",
    "print(s,type(s))"
   ]
  },
  {
   "cell_type": "code",
   "execution_count": 5,
   "id": "c1df6d3b",
   "metadata": {},
   "outputs": [
    {
     "name": "stdout",
     "output_type": "stream",
     "text": [
      "HelloWorld\n",
      "Hello World!\n",
      "HelloHelloHello\n",
      "\n",
      "\n"
     ]
    }
   ],
   "source": [
    "a=\"Hello\"\n",
    "b=\"World\"\n",
    "print (a + b)\n",
    "print(a + \" \" + b + \"!\")\n",
    "a*=3\n",
    "print (a)\n",
    "b*=0 # 빈 문자열\n",
    "print (b)\n",
    "a*=-1 # 빈 문자열\n",
    "print (a) "
   ]
  },
  {
   "cell_type": "markdown",
   "id": "30d4c2b0",
   "metadata": {},
   "source": [
    "### Escape Characters in Python : \n",
    "\\' \\\" \\\\ \\n \\t \\r"
   ]
  },
  {
   "cell_type": "code",
   "execution_count": 6,
   "id": "b0aaed52",
   "metadata": {},
   "outputs": [
    {
     "name": "stdout",
     "output_type": "stream",
     "text": [
      "12\n",
      "H\n",
      "o\n",
      "!\n",
      "H\n"
     ]
    }
   ],
   "source": [
    "a=\"Hello World!\"\n",
    "print (len(a)) # 문자열의 길이 출력 함수\n",
    "print (a[0]) # 0번째 글자\n",
    "print (a[7]) # 7번째 글자\n",
    "print (a[-1]) # 뒤에서 1번째 글자\n",
    "print (a[-12]) #뒤에서 12번째 글자"
   ]
  },
  {
   "cell_type": "code",
   "execution_count": null,
   "id": "74ed15ea",
   "metadata": {},
   "outputs": [],
   "source": []
  }
 ],
 "metadata": {
  "kernelspec": {
   "display_name": "Python 3 (ipykernel)",
   "language": "python",
   "name": "python3"
  },
  "language_info": {
   "codemirror_mode": {
    "name": "ipython",
    "version": 3
   },
   "file_extension": ".py",
   "mimetype": "text/x-python",
   "name": "python",
   "nbconvert_exporter": "python",
   "pygments_lexer": "ipython3",
   "version": "3.9.13"
  }
 },
 "nbformat": 4,
 "nbformat_minor": 5
}
