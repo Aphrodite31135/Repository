{
 "cells": [
  {
   "cell_type": "markdown",
   "metadata": {},
   "source": [
    "# Conditional Statements"
   ]
  },
  {
   "cell_type": "markdown",
   "metadata": {},
   "source": [
    "We can code as we want using conditions. For exmaple, we can give A+ to students whose score is greater than 90, B+ otherwise. To code like this, in this section, we first learn `bool` type which is a result of conditions. Then, we learn `if` statements to run different codes depending on conditions."
   ]
  },
  {
   "cell_type": "markdown",
   "metadata": {},
   "source": [
    "## 1. `bool` type"
   ]
  },
  {
   "cell_type": "markdown",
   "metadata": {},
   "source": [
    "- Boolean values are the two constant objects `False` and `True`.\n",
    "- `bool(x)` function can be used to check the x's Boolean value"
   ]
  },
  {
   "cell_type": "markdown",
   "metadata": {},
   "source": [
    "### 1.1 Valuse defined as False\n",
    "- `None`\n",
    "- zero of any numeric type: 0 (int), 0.0 (float), …\n",
    "- Empty sequences and collections: '', (), [], {}, set(), …"
   ]
  },
  {
   "cell_type": "code",
   "execution_count": null,
   "metadata": {},
   "outputs": [],
   "source": [
    "print(None, bool(None))\n",
    "print(0, bool(0))\n",
    "print(0.0, bool(0.0))\n",
    "print('', bool(''))\n",
    "print([], bool([]))\n",
    "print({}, bool({}))"
   ]
  },
  {
   "cell_type": "markdown",
   "metadata": {},
   "source": [
    "### 1.2 Valuse defined as True\n",
    "- All values except for the False considered values"
   ]
  },
  {
   "cell_type": "code",
   "execution_count": null,
   "metadata": {},
   "outputs": [],
   "source": [
    "print(1, bool(1))\n",
    "print(3.14, bool(3.14))\n",
    "print('Hello', bool('Hello'))\n",
    "print([1, 2, 3], bool([1, 2, 3]))\n",
    "print({1, 2, 3}, bool({1, 2, 3}))\n",
    "print({\"Park\": 100, \"Lee\": 90}, bool({\"Park\": 100, \"Lee\": 90}))"
   ]
  },
  {
   "cell_type": "markdown",
   "metadata": {},
   "source": [
    "### 1.3 bool operation\n",
    "\n",
    "| Operation | Description |\n",
    "| :- | :- |\n",
    "| x or y | True if x or y is True, else False. \n",
    "| | If a type of x or y is not bool: |\n",
    "| |- If x is considered as False, then returns y, else x.|\n",
    "| |- It only evaluates y if the x is considered False.|\n",
    "| x and y | True if both x and y are True, else False. \n",
    "| | If a type of x or y is not bool: |\n",
    "| |- If x is considered as False, then returns x, else y.|\n",
    "| |- It only evaluates y if the x is considered True.|\n",
    "| not x | if x is considered as False, then True, else False |"
   ]
  },
  {
   "cell_type": "markdown",
   "metadata": {},
   "source": [
    "### *or* operation\n",
    "\n",
    "#### When x and y are bool types\n",
    "| x | y | result |\n",
    "| :-: | :-: | :-: |\n",
    "| True | True | True |\n",
    "| False | True | True |\n",
    "| True | False | True |\n",
    "| False | False | False |\n",
    "\n",
    "#### When x and y are not bool types\n",
    "| x | y | result | bool(result)\n",
    "| :-: | :-: | :-: | :-: |\n",
    "| 1 | \"Hello | 1 | True |\n",
    "| (1,2,3) | [] | (1,2,3) | True |\n",
    "| None | {\"a\": 1} | {\"a\": 1} | True |\n",
    "| 0.0 | {} | {} | False |\n",
    "\n",
    "Please run the following codes and see what results are printed."
   ]
  },
  {
   "cell_type": "code",
   "execution_count": null,
   "metadata": {},
   "outputs": [],
   "source": [
    "print(True or True)\n",
    "print(True or False)\n",
    "print(False or False)\n",
    "print(3.14 or {\"Park\": 100})\n",
    "print([] or {\"a\", \"b\"})"
   ]
  },
  {
   "cell_type": "markdown",
   "metadata": {},
   "source": [
    "### *and* operation\n",
    "\n",
    "#### When x and y are bool types\n",
    "| x | y | result |\n",
    "| :-: | :-: | :-: |\n",
    "| True | True | True |\n",
    "| False | True | False |\n",
    "| True | False | False |\n",
    "| False | False | False |\n",
    "\n",
    "#### When x and y are not bool types\n",
    "| x | y | result | bool(result)\n",
    "| :-: | :-: | :-: | :-: |\n",
    "| 1 | \"Hello | 1 | True |\n",
    "| (1,2,3) | [] | [] | False |\n",
    "| None | {\"a\": 1} | None | False |\n",
    "| 0.0 | {} | {} | False |\n",
    "\n",
    "Please run the following codes and see what results are printed."
   ]
  },
  {
   "cell_type": "code",
   "execution_count": null,
   "metadata": {},
   "outputs": [],
   "source": [
    "print(True and True)\n",
    "print(True and False)\n",
    "print(False and False)\n",
    "print((1, 2, 3) and [1, 2, 3])\n",
    "print([] and {\"a\", \"b\"})"
   ]
  },
  {
   "cell_type": "markdown",
   "metadata": {},
   "source": [
    "### 1.4 Comparision operations"
   ]
  },
  {
   "cell_type": "markdown",
   "metadata": {},
   "source": [
    "| Operation | Description |\n",
    "| :-: | :-: |\n",
    "| x < y | x is strictly less than y |\n",
    "| x <= y | x is less than or equal to y |\n",
    "| x > y | x is strictly greater than y |\n",
    "| x >= y | x is greater than or equal to y |\n",
    "| x == y | x is equal to y (value comparision) |\n",
    "| x != y | x is not equal to y (value comparision) |\n",
    "| x is y | x is y (object identity comparision) |\n",
    "| x is not y | x is not y (object identity comparision) |\n",
    "\n",
    "Please run the following codes and see how comparision works."
   ]
  },
  {
   "cell_type": "code",
   "execution_count": null,
   "metadata": {},
   "outputs": [],
   "source": [
    "print(3 < 3.14)\n",
    "print(\"a\" > \"b\")\n",
    "print(\"a\" < \"apple\")\n",
    "print(\"a\" < \"A\")\n",
    "print(\"!\" < \"$\")\n",
    "print(\"가\" < \"a\")"
   ]
  },
  {
   "cell_type": "markdown",
   "metadata": {},
   "source": [
    "#### Comparision between characters, such as \"a\" < \"A\"\n",
    "\n",
    "- `chr(unicode)` returns a value of the unicode\n",
    "- `ord(c)` returns a unicode of the given character c"
   ]
  },
  {
   "cell_type": "markdown",
   "metadata": {},
   "source": [
    "print(\"a\" < \"A\")\n",
    "print(ord(\"a\"), ord(\"A\"))\n",
    "print(ord(\"a\") < ord(\"A\"))\n",
    "print(chr(97), chr(65))"
   ]
  },
  {
   "cell_type": "markdown",
   "metadata": {},
   "source": [
    "## 2.`if` statement"
   ]
  },
  {
   "cell_type": "markdown",
   "metadata": {},
   "source": [
    "- `if` statements can be used to run a block of code when a given condition is satisfied.\n",
    "- A code block for a if statement is indicated by indentations (at least 1 space)"
   ]
  },
  {
   "cell_type": "markdown",
   "metadata": {},
   "source": [
    "### 2.1 only `if` statement"
   ]
  },
  {
   "cell_type": "code",
   "execution_count": null,
   "metadata": {},
   "outputs": [],
   "source": [
    "# This code will print \"very good!\" if your input is greater than 90.\n",
    "your_input = int(input(\"Enter your score\"))\n",
    "if your_input>90:\n",
    "    print(\"very good!\")"
   ]
  },
  {
   "cell_type": "markdown",
   "metadata": {},
   "source": [
    "### 2.2 `if` `else` statement\n",
    "\n",
    "- `else` follows the closest `if` statement."
   ]
  },
  {
   "cell_type": "code",
   "execution_count": null,
   "metadata": {},
   "outputs": [],
   "source": [
    "# This code will print \"very good!\" if your input is greater than 90, \"not good.\", otherwise.\n",
    "your_input = int(input(\"Enter your score\"))\n",
    "if your_input>90:\n",
    "    print(\"very good!\")\n",
    "else:\n",
    "    print(\"not good.\")"
   ]
  },
  {
   "cell_type": "markdown",
   "metadata": {},
   "source": [
    "### 2.3 `if` `elif` statement\n",
    "\n",
    "- `elif` follows the closest `if` statement."
   ]
  },
  {
   "cell_type": "code",
   "execution_count": null,
   "metadata": {},
   "outputs": [],
   "source": [
    "'''\n",
    "If your input is greater than 90, this code will print \"very good!\" \n",
    "Otherwise, if your input is greater than 80, this code will print \"good!\"\n",
    "'''\n",
    "your_input = int(input(\"Enter your score\"))\n",
    "if your_input>90:\n",
    "    print(\"very good!\")\n",
    "elif your_input>80:\n",
    "    print(\"good.\")"
   ]
  },
  {
   "cell_type": "code",
   "execution_count": null,
   "metadata": {},
   "outputs": [],
   "source": [
    "'''\n",
    "If your input is greater than 90, this code will print \"very good!\" \n",
    "Otherwise, if your input is greater than 80, this code will print \"good!\"\n",
    "Otherwise, if your input is greater than 70, this code will print \"so so.\"\n",
    "Otherwise, if your input is greater than 60, this code will print \"not bad.\"\n",
    "'''\n",
    "your_input = int(input(\"Enter your score\"))\n",
    "if your_input>90:\n",
    "    print(\"very good!\")\n",
    "elif your_input>80:\n",
    "    print(\"good.\")\n",
    "elif your_input>70:\n",
    "    print(\"so so.\")\n",
    "elif your_input>60:\n",
    "    print(\"not bad.\")"
   ]
  },
  {
   "cell_type": "markdown",
   "metadata": {},
   "source": [
    "### 2.4 `if` `elif` `else` statement\n",
    "\n",
    "- `elif` and `else` follows the closest `if` statement."
   ]
  },
  {
   "cell_type": "code",
   "execution_count": null,
   "metadata": {},
   "outputs": [],
   "source": [
    "'''\n",
    "If your input is greater than 90, this code will print \"very good!\" \n",
    "Otherwise, if your input is greater than 80, this code will print \"good!\"\n",
    "Otherwise, if your input is greater than 70, this code will print \"so so.\"\n",
    "Otherwise, this code will print \"bad!\"\n",
    "'''\n",
    "your_input = int(input(\"Enter your score\"))\n",
    "if your_input>90:\n",
    "    print(\"very good!\")\n",
    "elif your_input>80:\n",
    "    print(\"good.\")\n",
    "elif your_input>70:\n",
    "    print(\"so so.\")\n",
    "else:\n",
    "    print(\"bad!\")"
   ]
  },
  {
   "cell_type": "markdown",
   "metadata": {},
   "source": [
    "Keep it mind that `elif` and `else` follows the closest `if` statement. Please run the following code and see how it works."
   ]
  },
  {
   "cell_type": "code",
   "execution_count": null,
   "metadata": {},
   "outputs": [],
   "source": [
    "score = int(input(\"Score: \"))\n",
    "if score>=90:\n",
    "    print(\"A\")\n",
    "if score<90 and score>=80:\n",
    "    print(\"B\")\n",
    "else:  # This follows the closest if (second if)\n",
    "    print(\"C\")"
   ]
  },
  {
   "cell_type": "markdown",
   "metadata": {},
   "source": [
    "### 2.5 nested `if` statements\n",
    "\n",
    "- `if` statement can be nested in another `if` statement"
   ]
  },
  {
   "cell_type": "code",
   "execution_count": null,
   "metadata": {},
   "outputs": [],
   "source": [
    "score = int(input(\"Score: \"))\n",
    "if score>=90:\n",
    "    if score>=95:  # 95 <= score\n",
    "        grade = \"A+\"\n",
    "    else:  # 90 <= score <95\n",
    "        grade = \"B\"\n",
    "else:\n",
    "    grade = \"F\"\n",
    "print(grade)"
   ]
  },
  {
   "cell_type": "code",
   "execution_count": null,
   "metadata": {},
   "outputs": [],
   "source": [
    "grade, cheated = None, True\n",
    "score = int(input(\"Score: \"))\n",
    "if score>=90:\n",
    "    if not cheated:\n",
    "        grade = \"A\"\n",
    "    else:\n",
    "        grade = \"B\"\n",
    "else:\n",
    "    grade = \"F\"\n",
    "print(grade)"
   ]
  },
  {
   "cell_type": "code",
   "execution_count": null,
   "metadata": {},
   "outputs": [],
   "source": [
    "# Login simulation\n",
    "accounts = {\"sk.park@khu.ac.kr\": 1234, \"python@khu.ac.kr\": 5678}\n",
    "email = input(\"Please type your email: \")\n",
    "if (email in accounts.keys()):\n",
    "    password = int(input(\"Please type your password: \"))\n",
    "    if (email==\"sk.park@khu.ac.kr\") and (password == accounts[email]):\n",
    "        print(\"Hi, Park Sangkeun!\")\n",
    "    elif (email==\"python@khu.ac.kr\") and (password == accounts[email]):\n",
    "        print(\"Hi, Python!\")\n",
    "    else:\n",
    "        print(\"Please check your password.\")\n",
    "else:  # if email is not in accounts.keys()\n",
    "    print(\"There is no email registered.\")"
   ]
  }
 ],
 "metadata": {
  "kernelspec": {
   "display_name": "Python 3 (ipykernel)",
   "language": "python",
   "name": "python3"
  },
  "language_info": {
   "codemirror_mode": {
    "name": "ipython",
    "version": 3
   },
   "file_extension": ".py",
   "mimetype": "text/x-python",
   "name": "python",
   "nbconvert_exporter": "python",
   "pygments_lexer": "ipython3",
   "version": "3.9.13"
  }
 },
 "nbformat": 4,
 "nbformat_minor": 2
}
