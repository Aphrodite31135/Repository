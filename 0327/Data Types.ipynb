{
 "cells": [
  {
   "cell_type": "markdown",
   "id": "bd026977",
   "metadata": {},
   "source": [
    "# 8주차 - DataCollectionType    \n",
    "- 자료 구조는 데이터를 구성하고 저장하는 방식입니다. 파이썬에서는 리스트, 튜플, 딕셔너리 등의 자료 구조를 사용할 수 있습니다. 각 자료 구조는 데이터를 조작하고 처리하는 데 특화된 방법을 제공합니다.\n",
    "\n",
    "## 문제"
   ]
  },
  {
   "cell_type": "markdown",
   "id": "8a8582d4",
   "metadata": {},
   "source": [
    "### 1. 다음 코드의 출력 결과는 무엇인가요?\n",
    "```python\n",
    "my_list = [1, 2, 3, 4, 5]\n",
    "print(sum(my_list))\n",
    "```"
   ]
  },
  {
   "cell_type": "markdown",
   "id": "bdfef80a",
   "metadata": {},
   "source": [
    "### 정답 작성: 15"
   ]
  },
  {
   "cell_type": "markdown",
   "id": "e1bcba60",
   "metadata": {},
   "source": [
    "### 2. 각 x와 y를 튜플로 묶고, 이를 하나의 리스트에 넣는 코드를 작성하시오.\n",
    "\n",
    "x1 = 1, y1 = 1\n",
    "x2 = 2, y2 = 2\n",
    "x3 = 3, y3 = 3\n",
    "\n",
    "Output : [(1, 1), (2, 2), (3, 3)]"
   ]
  },
  {
   "cell_type": "markdown",
   "id": "498d87b1",
   "metadata": {},
   "source": [
    "### 정답 작성(아래 Code로):"
   ]
  },
  {
   "cell_type": "code",
   "execution_count": 1,
   "id": "ce28043d",
   "metadata": {},
   "outputs": [
    {
     "name": "stdout",
     "output_type": "stream",
     "text": [
      "[(1, 1), (2, 2), (3, 3)]\n"
     ]
    }
   ],
   "source": [
    "x1,y1 = 1, 1\n",
    "x2, y2 = 2, 2\n",
    "x3, y3 = 3, 3\n",
    "tuple1=(x1,y1)\n",
    "tuple2=(x2,y2)\n",
    "tuple3=(x3,y3)\n",
    "List=[tuple1,tuple2,tuple3,]\n",
    "print(List)"
   ]
  },
  {
   "cell_type": "markdown",
   "id": "d5e9e417",
   "metadata": {},
   "source": [
    "### 3. 다음 코드의 출력 결과는 무엇인가요?\n",
    "```python\n",
    "my_dict = {'apple': 1, 'banana': 2, 'orange': 3}\n",
    "print(my_dict['banana'])\n",
    "```"
   ]
  },
  {
   "cell_type": "markdown",
   "id": "7d3da3af",
   "metadata": {},
   "source": [
    "### 정답 작성: 2"
   ]
  },
  {
   "cell_type": "markdown",
   "id": "671b37e1",
   "metadata": {},
   "source": [
    "### 4. 다음 코드의 출력 결과는 무엇인가요?\n",
    "```python\n",
    "my_list = [1, 2, 3, 4, 5]\n",
    "new_list = [x * 2 for x in my_list]\n",
    "print(new_list)\n",
    "```"
   ]
  },
  {
   "cell_type": "markdown",
   "id": "562e3db0",
   "metadata": {},
   "source": [
    "### 정답 작성: [2, 4, 6, 8, 10]"
   ]
  },
  {
   "cell_type": "markdown",
   "id": "c3af4e40",
   "metadata": {},
   "source": [
    "### 5. 다음 코드의 출력 결과는 무엇인가요?\n",
    "```python\n",
    "my_dict = {'apple': 1, 'banana': 2, 'orange': 3}\n",
    "for key, value in my_dict.items():\n",
    "    print(key, value)\n",
    "```"
   ]
  },
  {
   "cell_type": "markdown",
   "id": "d899bde4",
   "metadata": {},
   "source": [
    "### 정답 작성: apple 1 banana 2 orange 3"
   ]
  },
  {
   "cell_type": "markdown",
   "id": "4bd21ee8",
   "metadata": {},
   "source": [
    "### 6. 사용자의 아이디와 비밀번호를 dictionary로 저장할 수 있는 프로그램을 완성하시오."
   ]
  },
  {
   "cell_type": "markdown",
   "id": "6c3b47e7",
   "metadata": {},
   "source": [
    "### 정답 작성:"
   ]
  },
  {
   "cell_type": "code",
   "execution_count": 2,
   "id": "5a0c549c",
   "metadata": {},
   "outputs": [
    {
     "name": "stdout",
     "output_type": "stream",
     "text": [
      "ID: Hong Gil-Dong\n",
      "PW: qwer1234\n",
      "{'Hong Gil-Dong': 'qwer1234'}\n"
     ]
    }
   ],
   "source": [
    "User = {}\n",
    "ID = input(\"ID: \")\n",
    "PW = input(\"PW: \")\n",
    "User[ID] = PW\n",
    "print(User)"
   ]
  },
  {
   "cell_type": "code",
   "execution_count": null,
   "id": "19f08227",
   "metadata": {},
   "outputs": [],
   "source": []
  }
 ],
 "metadata": {
  "kernelspec": {
   "display_name": "Python 3 (ipykernel)",
   "language": "python",
   "name": "python3"
  },
  "language_info": {
   "codemirror_mode": {
    "name": "ipython",
    "version": 3
   },
   "file_extension": ".py",
   "mimetype": "text/x-python",
   "name": "python",
   "nbconvert_exporter": "python",
   "pygments_lexer": "ipython3",
   "version": "3.9.13"
  }
 },
 "nbformat": 4,
 "nbformat_minor": 5
}
