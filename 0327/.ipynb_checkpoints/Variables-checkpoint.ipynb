{
 "cells": [
  {
   "cell_type": "markdown",
   "id": "2bd8f2e6",
   "metadata": {},
   "source": [
    "# 1주차 - Value\n",
    "- 변수는 값을 저장하는 공간으로, 값을 임시로 저장하거나 다양한 작업을 수행하는 데 필요한 데이터를 유지하는 데 사용됩니다. 변수는 메모리의 특정 위치에 이름을 할당하여 값을 저장하고 관리합니다.\n",
    "\n",
    "## 문제"
   ]
  },
  {
   "cell_type": "markdown",
   "id": "c44a4c43",
   "metadata": {},
   "source": [
    "### 1. 다음 중 유효한 변수 이름이 아닌 것은?\n",
    "- my_variable\n",
    "- 1st_variable\n",
    "- _another_variable\n",
    "- myVariable\n",
    "- MY_VARIABLE"
   ]
  },
  {
   "cell_type": "markdown",
   "id": "e7d07d52",
   "metadata": {},
   "source": [
    "### 정답 작성: 1st_variable"
   ]
  },
  {
   "cell_type": "markdown",
   "id": "2b95da6c",
   "metadata": {},
   "source": [
    "### 2. 다음 코드의 출력 결과는 무엇인가요?\n",
    "```python\n",
    "x = 5\n",
    "print(x + 3)\n",
    "```"
   ]
  },
  {
   "cell_type": "markdown",
   "id": "0ce18982",
   "metadata": {},
   "source": [
    "### 정답 작성: 8"
   ]
  },
  {
   "cell_type": "markdown",
   "id": "732ca2ef",
   "metadata": {},
   "source": [
    "### 3. 다음 코드의 출력 결과는 무엇인가요?\n",
    "```python\n",
    "x = 10\n",
    "y = 3\n",
    "print(x / y)\n",
    "```"
   ]
  },
  {
   "cell_type": "markdown",
   "id": "141d344e",
   "metadata": {},
   "source": [
    "### 정답 작성: 3.3333333333333335"
   ]
  },
  {
   "cell_type": "markdown",
   "id": "b9b21d14",
   "metadata": {},
   "source": [
    "### 4. 다음 코드의 출력 결과는 무엇인가요?\n",
    "```python\n",
    "x = 5\n",
    "y = 'hello'\n",
    "print(x + y)\n",
    "```"
   ]
  },
  {
   "cell_type": "markdown",
   "id": "95101080",
   "metadata": {},
   "source": [
    "### 정답 작성: Error"
   ]
  },
  {
   "cell_type": "markdown",
   "id": "c1dace7f",
   "metadata": {},
   "source": [
    "### 5. 다음 코드의 출력 결과는 무엇인가요?\n",
    "```python\n",
    "x = 10\n",
    "y = 3\n",
    "z = x % y\n",
    "print(z)\n",
    "```"
   ]
  },
  {
   "cell_type": "markdown",
   "id": "71a9dc63",
   "metadata": {},
   "source": [
    "### 정답 작성: 1"
   ]
  },
  {
   "cell_type": "markdown",
   "id": "ee03643b",
   "metadata": {},
   "source": [
    "### 6. 두 자연수 A와 B가 주어진다. 이때, A+B, A-B, A*B, A/B(몫), A%B(나머지)를 출력하는 프로그램을 작성하시오. "
   ]
  },
  {
   "cell_type": "markdown",
   "id": "2a4774ff",
   "metadata": {},
   "source": [
    "### 정답 작성(아래 Code로):"
   ]
  },
  {
   "cell_type": "code",
   "execution_count": 1,
   "id": "ddf21195",
   "metadata": {
    "scrolled": true
   },
   "outputs": [
    {
     "name": "stdout",
     "output_type": "stream",
     "text": [
      "10\n",
      "4\n",
      "21\n",
      "2\n",
      "1\n"
     ]
    }
   ],
   "source": [
    "A = 7\n",
    "B = 3\n",
    "\n",
    "print (A + B)\n",
    "print (A - B)\n",
    "print (A * B)\n",
    "print (A // B)\n",
    "print (A % B)"
   ]
  },
  {
   "cell_type": "markdown",
   "id": "2ce026c3",
   "metadata": {},
   "source": [
    "```\n",
    "output(아래와 같이 나와야함):\n",
    "10\n",
    "4\n",
    "21\n",
    "2\n",
    "1\n",
    "```"
   ]
  },
  {
   "cell_type": "markdown",
   "id": "4dac724e",
   "metadata": {},
   "source": [
    "### 7. 정수 N이 주어졌을 때, 소인수분해하는 프로그램을 작성하시오."
   ]
  },
  {
   "cell_type": "markdown",
   "id": "43664e8d",
   "metadata": {},
   "source": [
    "### 정답 작성(아래 Code로):"
   ]
  },
  {
   "cell_type": "code",
   "execution_count": 2,
   "id": "c0b45540",
   "metadata": {},
   "outputs": [
    {
     "name": "stdout",
     "output_type": "stream",
     "text": [
      "2\n",
      "2\n",
      "2\n",
      "3\n",
      "3\n"
     ]
    }
   ],
   "source": [
    "N = 72\n",
    "i = 2\n",
    "\n",
    "while i<=N:\n",
    "    if(N%i==0) :\n",
    "        print(i)\n",
    "        N/=i\n",
    "    else :\n",
    "        i+=1"
   ]
  },
  {
   "cell_type": "markdown",
   "id": "b95ce243",
   "metadata": {},
   "source": [
    "```\n",
    "output(아래와 같이 나와야함):\n",
    "2\n",
    "2\n",
    "2\n",
    "3\n",
    "3\n",
    "```"
   ]
  },
  {
   "cell_type": "markdown",
   "id": "8e5713a9",
   "metadata": {},
   "source": [
    "### 8. 연도가 주어졌을 때, 윤년이면 1, 아니면 0을 출력하는 프로그램을 작성하시오."
   ]
  },
  {
   "cell_type": "markdown",
   "id": "03439c96",
   "metadata": {},
   "source": [
    "### 정답 작성(아래 Code로):"
   ]
  },
  {
   "cell_type": "code",
   "execution_count": 3,
   "id": "bfbd5c60",
   "metadata": {},
   "outputs": [
    {
     "name": "stdout",
     "output_type": "stream",
     "text": [
      "1\n",
      "0\n"
     ]
    }
   ],
   "source": [
    "def Func(k) :\n",
    "        if(k%4 == 0) :\n",
    "            if(k%100 == 0) :\n",
    "                if(k%400 == 0) :\n",
    "                    print(\"1\")\n",
    "                else :\n",
    "                    print(\"0\")\n",
    "            else : \n",
    "                print(\"1\")\n",
    "        else :\n",
    "            print(\"0\")\n",
    "            \n",
    "Year1 = 2000\n",
    "Year2 = 1999\n",
    "\n",
    "Func(Year1)\n",
    "Func(Year2)"
   ]
  },
  {
   "cell_type": "markdown",
   "id": "a6b8bf48",
   "metadata": {},
   "source": [
    "```\n",
    "output:\n",
    "1\n",
    "0\n",
    "```"
   ]
  }
 ],
 "metadata": {
  "kernelspec": {
   "display_name": "Python 3 (ipykernel)",
   "language": "python",
   "name": "python3"
  },
  "language_info": {
   "codemirror_mode": {
    "name": "ipython",
    "version": 3
   },
   "file_extension": ".py",
   "mimetype": "text/x-python",
   "name": "python",
   "nbconvert_exporter": "python",
   "pygments_lexer": "ipython3",
   "version": "3.9.13"
  }
 },
 "nbformat": 4,
 "nbformat_minor": 5
}
