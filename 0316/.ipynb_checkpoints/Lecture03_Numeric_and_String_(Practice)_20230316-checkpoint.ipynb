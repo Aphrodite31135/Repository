{
 "cells": [
  {
   "cell_type": "markdown",
   "id": "eca126bb",
   "metadata": {},
   "source": [
    "# Numeric and String Types"
   ]
  },
  {
   "cell_type": "markdown",
   "id": "d3950266",
   "metadata": {},
   "source": [
    "## Numeric Types (int and float)"
   ]
  },
  {
   "cell_type": "markdown",
   "id": "bb1bd858",
   "metadata": {},
   "source": [
    "### Impicit Type Conversion"
   ]
  },
  {
   "cell_type": "markdown",
   "id": "38411ed8",
   "metadata": {},
   "source": [
    "- What is a result type of ``int`` <i>operators (+, -, *, /, ...)</i>  ``float``?\n",
    "\n",
    "1) Create variable ``result1`` and assign an expression of 1 + 2.0 (``int`` + ``float``).\n",
    "\n",
    "2) Create variable ``result2`` and assign an expression of 2 - 3.0 (``int`` - ``float``).\n",
    "\n",
    "3) Create variable ``result3`` and assign an expression of 3 / 4.0 (``int`` / ``float``).\n",
    "\n",
    "4) Create variable ``result4`` and assign an expression of 4 * 5.0 (``int`` * ``float``).\n",
    "\n",
    "5) Then, print values and types of the four variables (``result1``, ``result2``, ``result3``, and ``result4``) using ``print()`` and ``type()``."
   ]
  },
  {
   "cell_type": "code",
   "execution_count": 3,
   "id": "94ebccef",
   "metadata": {},
   "outputs": [
    {
     "name": "stdout",
     "output_type": "stream",
     "text": [
      "3.0 <class 'float'> -1.0 <class 'float'> 0.75 <class 'float'> 20.0 <class 'float'>\n"
     ]
    }
   ],
   "source": [
    "# Write a code here\n",
    "\n",
    "result1 = 1 + 2.0\n",
    "result2 = 2 - 3.0\n",
    "result3 = 3 / 4.0\n",
    "result4 = 4 * 5.0\n",
    "\n",
    "print(result1, type(result1),result2, type(result2),result3, type(result3),result4, type(result4))"
   ]
  },
  {
   "cell_type": "markdown",
   "id": "3bcafc60",
   "metadata": {},
   "source": [
    "### Explicit Type Conversion"
   ]
  },
  {
   "cell_type": "markdown",
   "id": "54b239f6",
   "metadata": {},
   "source": [
    "Please run the following code and see what happen."
   ]
  },
  {
   "cell_type": "code",
   "execution_count": 2,
   "id": "3830dea9",
   "metadata": {},
   "outputs": [],
   "source": [
    "# Run the folloowing code.\n",
    "\n",
    "a = '3.14'\n",
    "print(a, type(a))\n",
    "a = int(a)  # to convert the value type from str to int\n",
    "print(a, type(a))"
   ]
  },
  {
   "cell_type": "markdown",
   "id": "56d5bb1a",
   "metadata": {},
   "source": [
    "- To solve the problem above, how can you convert the type of variable ``a``, from ``str`` to ``int`` so that its value can become integer 3? Please write a code below and print ``a``."
   ]
  },
  {
   "cell_type": "code",
   "execution_count": 4,
   "id": "45e21b69",
   "metadata": {},
   "outputs": [
    {
     "name": "stdout",
     "output_type": "stream",
     "text": [
      "3.14 <class 'str'>\n",
      "3 <class 'int'>\n"
     ]
    }
   ],
   "source": [
    "# Write a code here\n",
    "\n",
    "a = '3.14'\n",
    "print(a, type(a))\n",
    "a = float(a)\n",
    "a = int(a)\n",
    "print(a, type(a))"
   ]
  },
  {
   "cell_type": "markdown",
   "id": "b0933e2c",
   "metadata": {},
   "source": [
    "### Rounding error"
   ]
  },
  {
   "cell_type": "markdown",
   "id": "900c6f2b",
   "metadata": {},
   "source": [
    "In Python, 0.1 + 0.2 is not exactly 0.3.\n",
    "```\n",
    ">>> a = 0.1 + 0.2\n",
    ">>> print(a)\n",
    "0.30000000000000004\n",
    "```\n",
    "\n",
    "However, 0.1 + 0.1 is exactly 0.2.\n",
    "```\n",
    ">>> b = 0.1 + 0.1\n",
    ">>> print(b)\n",
    "0.2\n",
    "```\n",
    "\n",
    "Using comparision operator ``==``, please check if (0.1 + 0.2) is 0.3 and (0.1 + 0.1) is 0.2 "
   ]
  },
  {
   "cell_type": "code",
   "execution_count": 6,
   "id": "59525a0a",
   "metadata": {},
   "outputs": [
    {
     "name": "stdout",
     "output_type": "stream",
     "text": [
      "False\n",
      "True\n"
     ]
    }
   ],
   "source": [
    "# Write a code here\n",
    "\n",
    "a = 0.1 + 0.2\n",
    "print(a==0.3)\n",
    "\n",
    "b = 0.1 + 0.1\n",
    "print(b==0.2)"
   ]
  },
  {
   "cell_type": "markdown",
   "id": "a50d8376",
   "metadata": {},
   "source": [
    "## Text Sequence Type (str)"
   ]
  },
  {
   "cell_type": "markdown",
   "id": "c68b04a7",
   "metadata": {},
   "source": [
    "### Creating str variables"
   ]
  },
  {
   "cell_type": "markdown",
   "id": "f2d3a3ff",
   "metadata": {},
   "source": [
    "You can create a str variable using single quotes (' and '), double quotes(\" and \"), and triple quotes (''' and ''', \"\"\" and \"\"\").\n",
    "\n",
    "1) Create variable ``s1`` and assign any text you want using single quotes.\n",
    "\n",
    "2) Create variable ``s2`` and assign any text you want using double quotes.\n",
    "\n",
    "3) Create variable ``s3`` and assign any text you want using three single quotes.\n",
    "\n",
    "4) Create variable ``s4`` and assign any text you want using three double quotes.\n",
    "\n",
    "5) Then, print the four variables, ``s1``, ``s2``, ``s3``, and ``s4``.\n"
   ]
  },
  {
   "cell_type": "code",
   "execution_count": 7,
   "id": "32e5cee6",
   "metadata": {},
   "outputs": [
    {
     "name": "stdout",
     "output_type": "stream",
     "text": [
      "Hello World!\n",
      "Hello World!\n",
      "Hello World!\n",
      "Hello World!\n"
     ]
    }
   ],
   "source": [
    "# Write a code here\n",
    "\n",
    "s1 = 'Hello World!'\n",
    "s2 = \"Hello World!\"\n",
    "s3 = '''Hello World!'''\n",
    "s4 = \"\"\"Hello World!\"\"\"\n",
    "\n",
    "print(s1)\n",
    "print(s2)\n",
    "print(s3)\n",
    "print(s4)"
   ]
  },
  {
   "cell_type": "markdown",
   "id": "4a89e484",
   "metadata": {},
   "source": [
    "### Concatenation"
   ]
  },
  {
   "cell_type": "markdown",
   "id": "c7261f62",
   "metadata": {},
   "source": [
    "``+`` operator is supported for string values. \n",
    "\n",
    "1) Create variable ``a`` and assign a string value, ``Hello``.\n",
    "\n",
    "2) Create variable ``b`` and assign a string value,  ``World``.\n",
    "\n",
    "3) Create variable ``c`` and assign ``Hello World!`` using variables ``a``, ``b`` and ``+`` operator.\n",
    "\n",
    "4) Then, print variable ``c``."
   ]
  },
  {
   "cell_type": "code",
   "execution_count": 9,
   "id": "f70e777f",
   "metadata": {},
   "outputs": [
    {
     "name": "stdout",
     "output_type": "stream",
     "text": [
      "Hello World!\n"
     ]
    }
   ],
   "source": [
    "# Write a code here\n",
    "\n",
    "a = \"Hello\"\n",
    "b = \"World\"\n",
    "c = a + \" \" + b + \"!\"\n",
    "\n",
    "print(c)\n"
   ]
  },
  {
   "cell_type": "markdown",
   "id": "874b4b71",
   "metadata": {},
   "source": [
    "### Repeat"
   ]
  },
  {
   "cell_type": "markdown",
   "id": "fe6a4c5a",
   "metadata": {},
   "source": [
    "``*`` operator is supported for string values. \n",
    "\n",
    "1) Create variable ``a`` and assign a string value, ``Hello``.\n",
    "\n",
    "2) Create variable ``b`` and assign a string value, ``World``.\n",
    "\n",
    "3) Then, print ``HelloHello`` and ``WorldWorldWorld`` using variables ``a``, ``b``, and ``*`` operator"
   ]
  },
  {
   "cell_type": "code",
   "execution_count": 10,
   "id": "0f4a795a",
   "metadata": {},
   "outputs": [
    {
     "name": "stdout",
     "output_type": "stream",
     "text": [
      "HelloHello\n",
      "WorldWorldWorld\n"
     ]
    }
   ],
   "source": [
    "# Write a code here\n",
    "\n",
    "a = \"Hello\"\n",
    "b = \"World\"\n",
    "\n",
    "print(a*2)\n",
    "print(b*3)\n"
   ]
  },
  {
   "cell_type": "markdown",
   "id": "e3c02299",
   "metadata": {},
   "source": [
    "### Excaping"
   ]
  },
  {
   "cell_type": "markdown",
   "id": "e5ca5057",
   "metadata": {},
   "source": [
    "| Escape Characters | Descriptions |\n",
    "| :-: | :-: |\n",
    "| \\\\\\' | Single quote |\n",
    "| \\\\\\\" | Double quote |\n",
    "| \\\\\\\\ | Backslash |\n",
    "| \\n | Newline |\n",
    "| \\t | Tab |\n",
    "| \\r | Carriage return | \n",
    "\n",
    "Please create variables to see how these ``escape characters`` work, as follows:\n",
    "\n",
    "1) Please create a variable ``str1`` and assign a string, ``It's my life.``, using single quotes (' and ').\n",
    "\n",
    "2) Please create a variable ``str2`` and assign a string, ``My name is \"Hong Gil-Dong\"``, using double quotes(\" and \").\n",
    "\n",
    "3) Please create a variable ``str3`` and assign any string with ``\\\\``.\n",
    "\n",
    "4) Please create a variable ``str4`` and assign any string with ``\\n``\n",
    "\n",
    "5) Please create a variable ``str5`` and assign any string with ``\\t``.\n",
    "\n",
    "6) Please create a variable ``str6`` and assign any string with ``\\r``.\n",
    "\n",
    "Then, print the all the variables and see the results."
   ]
  },
  {
   "cell_type": "code",
   "execution_count": 14,
   "id": "95597636",
   "metadata": {},
   "outputs": [
    {
     "name": "stdout",
     "output_type": "stream",
     "text": [
      "It's my life.\n",
      "My name is \"Hong Gil-Dong\"\n",
      "Python.org\\\n",
      "Hong\n",
      "Gil-Dong\n",
      "Ctrl + \t + TAB\n",
      "QWERASDF\r",
      "qwer\n"
     ]
    }
   ],
   "source": [
    "# Write a code here\n",
    "\n",
    "str1 = 'It\\'s my life.'\n",
    "str2 = \"My name is \\\"Hong Gil-Dong\\\"\"\n",
    "str3 = \"Python.org\\\\\"\n",
    "str4 = \"Hong\\nGil-Dong\"\n",
    "str5 = \"Ctrl + \\t + TAB\"\n",
    "str6 = \"QWERASDF\\rqwer\"\n",
    "\n",
    "print(str1)\n",
    "print(str2)\n",
    "print(str3)\n",
    "print(str4)\n",
    "print(str5)\n",
    "print(str6)"
   ]
  },
  {
   "cell_type": "markdown",
   "id": "910f9b31",
   "metadata": {},
   "source": [
    "## Index"
   ]
  },
  {
   "cell_type": "markdown",
   "id": "f8278aa7",
   "metadata": {},
   "source": [
    "You can access each character of a string variable using index numbers.\n",
    "\n",
    "1) Please create a variable ``s`` and assign a string, ``Hello World``.\n",
    "\n",
    "2) Print a length of the variable ``s``, using ``len()``.\n",
    "\n",
    "3) Print ``H`` and ``W`` using postive indexes.\n",
    "\n",
    "4) Print ``e`` and ``d`` using negative indexes."
   ]
  },
  {
   "cell_type": "code",
   "execution_count": 16,
   "id": "0240ac3e",
   "metadata": {},
   "outputs": [
    {
     "name": "stdout",
     "output_type": "stream",
     "text": [
      "11\n",
      "H W\n",
      "e d\n"
     ]
    }
   ],
   "source": [
    "# Write a code here\n",
    "\n",
    "s = \"Hello World\"\n",
    "\n",
    "print(len(s))\n",
    "print(s[0],s[6])\n",
    "print(s[-10],s[-1])"
   ]
  },
  {
   "cell_type": "markdown",
   "id": "0fcff94e",
   "metadata": {},
   "source": [
    "### Slicing"
   ]
  },
  {
   "cell_type": "markdown",
   "id": "de539736",
   "metadata": {},
   "source": [
    "You can get sub-string by slicing.\n",
    "\n",
    "1) Please create a variable ``s`` and assign a string, ``Hello World``.\n",
    "\n",
    "2) Print ``ello`` using postive indexes.\n",
    "\n",
    "3) Print ``Worl`` using negative indexes.\n",
    "\n",
    "4) Print ``Hello`` using only <i>end</i> index, but no <i>start</i> index.\n",
    "\n",
    "5) Print ``World`` using only <i>start</i> index, but no <i>end</i> index.\n",
    "\n",
    "6) Print ``s[-5:2]`` and think about why it printed.\n",
    "\n",
    "7) Print ``s[0:999]`` and think about why it printed.\n",
    "\n",
    "8) Print ``s[::2]`` and think about why it printed.\n",
    "\n",
    "9) Print ``s[::-2]`` and think about why it printed.\n",
    "\n",
    "10) Print ``s[1:len(s)]`` and think about why it printed."
   ]
  },
  {
   "cell_type": "code",
   "execution_count": 17,
   "id": "895c7e09",
   "metadata": {},
   "outputs": [
    {
     "name": "stdout",
     "output_type": "stream",
     "text": [
      "ell\n",
      "Worl\n",
      "Hell\n",
      "World\n",
      "\n",
      "Hello World\n",
      "HloWrd\n",
      "drWolH\n",
      "ello World\n"
     ]
    }
   ],
   "source": [
    "# Write a code here\n",
    "\n",
    "s = \"Hello World\"\n",
    "\n",
    "print(s[1:4])  # ello\n",
    "print(s[6:10])  # Worl\n",
    "print(s[:4])  # Hello\n",
    "print(s[6:])  # World\n",
    "print(s[-5:2])\n",
    "print(s[0:999])\n",
    "print(s[::2])\n",
    "print(s[::-2])\n",
    "print(s[1:len(s)])"
   ]
  },
  {
   "cell_type": "markdown",
   "id": "fc9db6ec",
   "metadata": {},
   "source": [
    "### Built-in methods for `str` type"
   ]
  },
  {
   "cell_type": "markdown",
   "id": "df85c4eb",
   "metadata": {},
   "source": [
    "There are numerous built-in methods for str type variables. The following table is for representative methods.\n",
    "\n",
    "| Method | Description |\n",
    "| :- | :- |\n",
    "| str.upper() | Return a copy of the string with all the cased characters converted to uppercase. |\n",
    "| str.lower() | Return a copy of the string with all the cased characters converted to lowercase. |\n",
    "| str.isupper() | Returns True if all characters in the string are upper case, False otherwise. |\n",
    "| str.islower() | Returns True if all characters in the string are lower case, False otherwise. |\n",
    "| str.count('x') | Return the number of non-overlapping occurrences of substring sub (in the range [start, end] if specified). |\n",
    "| str.find('x') | Return the lowest index in the string where substring sub is found (within the range [start, end] if specified). | \n",
    "| str.isalnum() | Return True if all characters in the string are alphanumeric and there is at least one character, False otherwise | \n",
    "| str.isalpha() | Return True if all characters in the string are alphabetic and there is at least one character, False otherwise | \n",
    "| str.isdigit() | Return True if all characters in the string are digits and there is at least one character, False otherwise | \n",
    "| str.strip() | Return a copy of the string with the leading and trailing spaces. If the set of characters are specified, any leading and trailing characters are removed. | \n",
    "\n",
    "- https://www.w3schools.com/python/python_ref_string.asp\n",
    "\n",
    "- https://docs.python.org/3/library/stdtypes.html#string-methods"
   ]
  },
  {
   "cell_type": "markdown",
   "id": "ae5a064b",
   "metadata": {},
   "source": [
    "There are many built-in methods for str type. Please try to use all the methods in the table.\n",
    "\n",
    "1) Create a variable ``s1`` and assign any string value using ``input()``.\n",
    "\n",
    "2) Then, print ``str.upper(s1)`` and see what printed.\n",
    "\n",
    "3) Create a variable ``s2`` and assign any string value usign ``input()``.\n",
    "\n",
    "4) then, print ``str.lower(s2)`` and see what printed.\n",
    "\n",
    "...Try to run the rest of methods.\n",
    "\n",
    "**If possible, try to run other methods that are not mentioned in the table. Please see the URLs.**"
   ]
  },
  {
   "cell_type": "code",
   "execution_count": 22,
   "id": "02e2c6b9",
   "metadata": {},
   "outputs": [
    {
     "name": "stdout",
     "output_type": "stream",
     "text": [
      "qwer\n",
      "qwer QWER\n",
      "ASDF\n",
      "ASDF asdf\n"
     ]
    },
    {
     "data": {
      "text/plain": [
       "Ellipsis"
      ]
     },
     "execution_count": 22,
     "metadata": {},
     "output_type": "execute_result"
    }
   ],
   "source": [
    "# Write a code here\n",
    "\n",
    "s1 = input()\n",
    "print(s1, s1.upper())\n",
    "\n",
    "s2 = input()\n",
    "print(s2, s2.lower())\n",
    "\n",
    "..."
   ]
  },
  {
   "cell_type": "markdown",
   "id": "d925c54b",
   "metadata": {},
   "source": [
    "## How does assignment work?"
   ]
  },
  {
   "cell_type": "markdown",
   "id": "e0903046",
   "metadata": {},
   "source": [
    "We can check memory addresses of variables using ``id()``."
   ]
  },
  {
   "cell_type": "markdown",
   "id": "704e6fe4",
   "metadata": {},
   "source": [
    "Please print values and memory addresses of the variables ``a``, ``b``, and ``c`` below.\n",
    "\n",
    "Then, think about why the results are printed."
   ]
  },
  {
   "cell_type": "code",
   "execution_count": 19,
   "id": "7ebd347a",
   "metadata": {},
   "outputs": [
    {
     "name": "stdout",
     "output_type": "stream",
     "text": [
      "999 2838303099888\n",
      "999 2838303099888\n",
      "999 2838303100240\n"
     ]
    }
   ],
   "source": [
    "a = 999\n",
    "b = a\n",
    "c = 999\n",
    "\n",
    "print(a, id(a))\n",
    "print(b, id(b))\n",
    "print(c, id(c))"
   ]
  },
  {
   "cell_type": "markdown",
   "id": "645fd962",
   "metadata": {},
   "source": [
    "please print values and memory addresses of the variables ``a``, ``b``, and ``c`` below.\n",
    "\n",
    "Then, think about why the results are printed."
   ]
  },
  {
   "cell_type": "code",
   "execution_count": 20,
   "id": "a9cfb55a",
   "metadata": {},
   "outputs": [
    {
     "name": "stdout",
     "output_type": "stream",
     "text": [
      "Hello! 2838303411504\n",
      "Hello! 2838303411504\n",
      "Hello! 2838303411824\n"
     ]
    }
   ],
   "source": [
    "a = 'Hello!'\n",
    "b = a\n",
    "c = 'Hello!'\n",
    "\n",
    "print(a, id(a))\n",
    "print(b, id(b))\n",
    "print(c, id(c))"
   ]
  },
  {
   "cell_type": "code",
   "execution_count": null,
   "id": "bef679ca",
   "metadata": {},
   "outputs": [],
   "source": []
  }
 ],
 "metadata": {
  "kernelspec": {
   "display_name": "Python 3 (ipykernel)",
   "language": "python",
   "name": "python3"
  },
  "language_info": {
   "codemirror_mode": {
    "name": "ipython",
    "version": 3
   },
   "file_extension": ".py",
   "mimetype": "text/x-python",
   "name": "python",
   "nbconvert_exporter": "python",
   "pygments_lexer": "ipython3",
   "version": "3.9.13"
  }
 },
 "nbformat": 4,
 "nbformat_minor": 5
}
